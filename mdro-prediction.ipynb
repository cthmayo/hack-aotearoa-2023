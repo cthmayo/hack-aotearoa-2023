{
  "nbformat": 4,
  "nbformat_minor": 0,
  "metadata": {
    "colab": {
      "provenance": [],
      "include_colab_link": true
    },
    "kernelspec": {
      "name": "python3",
      "display_name": "Python 3"
    },
    "language_info": {
      "name": "python"
    },
    "widgets": {
      "application/vnd.jupyter.widget-state+json": {
        "b6c3febe754942b794ed6da52f2dd048": {
          "model_module": "@jupyter-widgets/controls",
          "model_name": "HBoxModel",
          "model_module_version": "1.5.0",
          "state": {
            "_dom_classes": [],
            "_model_module": "@jupyter-widgets/controls",
            "_model_module_version": "1.5.0",
            "_model_name": "HBoxModel",
            "_view_count": null,
            "_view_module": "@jupyter-widgets/controls",
            "_view_module_version": "1.5.0",
            "_view_name": "HBoxView",
            "box_style": "",
            "children": [
              "IPY_MODEL_0c8006e6c60c4f01ae5067ae8a6ea9e1",
              "IPY_MODEL_d473ff768f8b41d0ae7f9095b11953f0",
              "IPY_MODEL_986fb84ce434436d907cc265f823b390"
            ],
            "layout": "IPY_MODEL_ef5c477eefbf467e97df9e8dd715f7f6"
          }
        },
        "0c8006e6c60c4f01ae5067ae8a6ea9e1": {
          "model_module": "@jupyter-widgets/controls",
          "model_name": "HTMLModel",
          "model_module_version": "1.5.0",
          "state": {
            "_dom_classes": [],
            "_model_module": "@jupyter-widgets/controls",
            "_model_module_version": "1.5.0",
            "_model_name": "HTMLModel",
            "_view_count": null,
            "_view_module": "@jupyter-widgets/controls",
            "_view_module_version": "1.5.0",
            "_view_name": "HTMLView",
            "description": "",
            "description_tooltip": null,
            "layout": "IPY_MODEL_0572280e59844034bc141b46ddc75670",
            "placeholder": "​",
            "style": "IPY_MODEL_25deb6287f72435a9259a9945097459a",
            "value": "Job ID 1b9ce018-16ac-45b6-a7e3-a702c718da0f successfully executed: 100%"
          }
        },
        "d473ff768f8b41d0ae7f9095b11953f0": {
          "model_module": "@jupyter-widgets/controls",
          "model_name": "FloatProgressModel",
          "model_module_version": "1.5.0",
          "state": {
            "_dom_classes": [],
            "_model_module": "@jupyter-widgets/controls",
            "_model_module_version": "1.5.0",
            "_model_name": "FloatProgressModel",
            "_view_count": null,
            "_view_module": "@jupyter-widgets/controls",
            "_view_module_version": "1.5.0",
            "_view_name": "ProgressView",
            "bar_style": "success",
            "description": "",
            "description_tooltip": null,
            "layout": "IPY_MODEL_42dae66bd9a84693bafdcd339a2f98d4",
            "max": 1,
            "min": 0,
            "orientation": "horizontal",
            "style": "IPY_MODEL_6b98381bbfea4162be7607bc099a05e5",
            "value": 1
          }
        },
        "986fb84ce434436d907cc265f823b390": {
          "model_module": "@jupyter-widgets/controls",
          "model_name": "HTMLModel",
          "model_module_version": "1.5.0",
          "state": {
            "_dom_classes": [],
            "_model_module": "@jupyter-widgets/controls",
            "_model_module_version": "1.5.0",
            "_model_name": "HTMLModel",
            "_view_count": null,
            "_view_module": "@jupyter-widgets/controls",
            "_view_module_version": "1.5.0",
            "_view_name": "HTMLView",
            "description": "",
            "description_tooltip": null,
            "layout": "IPY_MODEL_fe4752155d90491aa80b43d98d187f46",
            "placeholder": "​",
            "style": "IPY_MODEL_eb394f99682a460a9360c1a6d1888273",
            "value": ""
          }
        },
        "ef5c477eefbf467e97df9e8dd715f7f6": {
          "model_module": "@jupyter-widgets/base",
          "model_name": "LayoutModel",
          "model_module_version": "1.2.0",
          "state": {
            "_model_module": "@jupyter-widgets/base",
            "_model_module_version": "1.2.0",
            "_model_name": "LayoutModel",
            "_view_count": null,
            "_view_module": "@jupyter-widgets/base",
            "_view_module_version": "1.2.0",
            "_view_name": "LayoutView",
            "align_content": null,
            "align_items": null,
            "align_self": null,
            "border": null,
            "bottom": null,
            "display": null,
            "flex": null,
            "flex_flow": null,
            "grid_area": null,
            "grid_auto_columns": null,
            "grid_auto_flow": null,
            "grid_auto_rows": null,
            "grid_column": null,
            "grid_gap": null,
            "grid_row": null,
            "grid_template_areas": null,
            "grid_template_columns": null,
            "grid_template_rows": null,
            "height": null,
            "justify_content": null,
            "justify_items": null,
            "left": null,
            "margin": null,
            "max_height": null,
            "max_width": null,
            "min_height": null,
            "min_width": null,
            "object_fit": null,
            "object_position": null,
            "order": null,
            "overflow": null,
            "overflow_x": null,
            "overflow_y": null,
            "padding": null,
            "right": null,
            "top": null,
            "visibility": null,
            "width": null
          }
        },
        "0572280e59844034bc141b46ddc75670": {
          "model_module": "@jupyter-widgets/base",
          "model_name": "LayoutModel",
          "model_module_version": "1.2.0",
          "state": {
            "_model_module": "@jupyter-widgets/base",
            "_model_module_version": "1.2.0",
            "_model_name": "LayoutModel",
            "_view_count": null,
            "_view_module": "@jupyter-widgets/base",
            "_view_module_version": "1.2.0",
            "_view_name": "LayoutView",
            "align_content": null,
            "align_items": null,
            "align_self": null,
            "border": null,
            "bottom": null,
            "display": null,
            "flex": null,
            "flex_flow": null,
            "grid_area": null,
            "grid_auto_columns": null,
            "grid_auto_flow": null,
            "grid_auto_rows": null,
            "grid_column": null,
            "grid_gap": null,
            "grid_row": null,
            "grid_template_areas": null,
            "grid_template_columns": null,
            "grid_template_rows": null,
            "height": null,
            "justify_content": null,
            "justify_items": null,
            "left": null,
            "margin": null,
            "max_height": null,
            "max_width": null,
            "min_height": null,
            "min_width": null,
            "object_fit": null,
            "object_position": null,
            "order": null,
            "overflow": null,
            "overflow_x": null,
            "overflow_y": null,
            "padding": null,
            "right": null,
            "top": null,
            "visibility": null,
            "width": null
          }
        },
        "25deb6287f72435a9259a9945097459a": {
          "model_module": "@jupyter-widgets/controls",
          "model_name": "DescriptionStyleModel",
          "model_module_version": "1.5.0",
          "state": {
            "_model_module": "@jupyter-widgets/controls",
            "_model_module_version": "1.5.0",
            "_model_name": "DescriptionStyleModel",
            "_view_count": null,
            "_view_module": "@jupyter-widgets/base",
            "_view_module_version": "1.2.0",
            "_view_name": "StyleView",
            "description_width": ""
          }
        },
        "42dae66bd9a84693bafdcd339a2f98d4": {
          "model_module": "@jupyter-widgets/base",
          "model_name": "LayoutModel",
          "model_module_version": "1.2.0",
          "state": {
            "_model_module": "@jupyter-widgets/base",
            "_model_module_version": "1.2.0",
            "_model_name": "LayoutModel",
            "_view_count": null,
            "_view_module": "@jupyter-widgets/base",
            "_view_module_version": "1.2.0",
            "_view_name": "LayoutView",
            "align_content": null,
            "align_items": null,
            "align_self": null,
            "border": null,
            "bottom": null,
            "display": null,
            "flex": null,
            "flex_flow": null,
            "grid_area": null,
            "grid_auto_columns": null,
            "grid_auto_flow": null,
            "grid_auto_rows": null,
            "grid_column": null,
            "grid_gap": null,
            "grid_row": null,
            "grid_template_areas": null,
            "grid_template_columns": null,
            "grid_template_rows": null,
            "height": null,
            "justify_content": null,
            "justify_items": null,
            "left": null,
            "margin": null,
            "max_height": null,
            "max_width": null,
            "min_height": null,
            "min_width": null,
            "object_fit": null,
            "object_position": null,
            "order": null,
            "overflow": null,
            "overflow_x": null,
            "overflow_y": null,
            "padding": null,
            "right": null,
            "top": null,
            "visibility": null,
            "width": null
          }
        },
        "6b98381bbfea4162be7607bc099a05e5": {
          "model_module": "@jupyter-widgets/controls",
          "model_name": "ProgressStyleModel",
          "model_module_version": "1.5.0",
          "state": {
            "_model_module": "@jupyter-widgets/controls",
            "_model_module_version": "1.5.0",
            "_model_name": "ProgressStyleModel",
            "_view_count": null,
            "_view_module": "@jupyter-widgets/base",
            "_view_module_version": "1.2.0",
            "_view_name": "StyleView",
            "bar_color": null,
            "description_width": ""
          }
        },
        "fe4752155d90491aa80b43d98d187f46": {
          "model_module": "@jupyter-widgets/base",
          "model_name": "LayoutModel",
          "model_module_version": "1.2.0",
          "state": {
            "_model_module": "@jupyter-widgets/base",
            "_model_module_version": "1.2.0",
            "_model_name": "LayoutModel",
            "_view_count": null,
            "_view_module": "@jupyter-widgets/base",
            "_view_module_version": "1.2.0",
            "_view_name": "LayoutView",
            "align_content": null,
            "align_items": null,
            "align_self": null,
            "border": null,
            "bottom": null,
            "display": null,
            "flex": null,
            "flex_flow": null,
            "grid_area": null,
            "grid_auto_columns": null,
            "grid_auto_flow": null,
            "grid_auto_rows": null,
            "grid_column": null,
            "grid_gap": null,
            "grid_row": null,
            "grid_template_areas": null,
            "grid_template_columns": null,
            "grid_template_rows": null,
            "height": null,
            "justify_content": null,
            "justify_items": null,
            "left": null,
            "margin": null,
            "max_height": null,
            "max_width": null,
            "min_height": null,
            "min_width": null,
            "object_fit": null,
            "object_position": null,
            "order": null,
            "overflow": null,
            "overflow_x": null,
            "overflow_y": null,
            "padding": null,
            "right": null,
            "top": null,
            "visibility": null,
            "width": null
          }
        },
        "eb394f99682a460a9360c1a6d1888273": {
          "model_module": "@jupyter-widgets/controls",
          "model_name": "DescriptionStyleModel",
          "model_module_version": "1.5.0",
          "state": {
            "_model_module": "@jupyter-widgets/controls",
            "_model_module_version": "1.5.0",
            "_model_name": "DescriptionStyleModel",
            "_view_count": null,
            "_view_module": "@jupyter-widgets/base",
            "_view_module_version": "1.2.0",
            "_view_name": "StyleView",
            "description_width": ""
          }
        },
        "db234255a7cf4bdd91a0af6e862b1c50": {
          "model_module": "@jupyter-widgets/controls",
          "model_name": "HBoxModel",
          "model_module_version": "1.5.0",
          "state": {
            "_dom_classes": [],
            "_model_module": "@jupyter-widgets/controls",
            "_model_module_version": "1.5.0",
            "_model_name": "HBoxModel",
            "_view_count": null,
            "_view_module": "@jupyter-widgets/controls",
            "_view_module_version": "1.5.0",
            "_view_name": "HBoxView",
            "box_style": "",
            "children": [
              "IPY_MODEL_068e523b5fb441d19f062144a4068bcc",
              "IPY_MODEL_8e663ce455eb4055837c8116d56c5c03",
              "IPY_MODEL_9e064196b3b347ce981366185d666155"
            ],
            "layout": "IPY_MODEL_93c7269c79b54135b8c3068539d13c9a"
          }
        },
        "068e523b5fb441d19f062144a4068bcc": {
          "model_module": "@jupyter-widgets/controls",
          "model_name": "HTMLModel",
          "model_module_version": "1.5.0",
          "state": {
            "_dom_classes": [],
            "_model_module": "@jupyter-widgets/controls",
            "_model_module_version": "1.5.0",
            "_model_name": "HTMLModel",
            "_view_count": null,
            "_view_module": "@jupyter-widgets/controls",
            "_view_module_version": "1.5.0",
            "_view_name": "HTMLView",
            "description": "",
            "description_tooltip": null,
            "layout": "IPY_MODEL_82bcbc90317c45c99e4169247fc30d16",
            "placeholder": "​",
            "style": "IPY_MODEL_58d3998b7bd64e959deae88180fb7ade",
            "value": "Downloading: 100%"
          }
        },
        "8e663ce455eb4055837c8116d56c5c03": {
          "model_module": "@jupyter-widgets/controls",
          "model_name": "FloatProgressModel",
          "model_module_version": "1.5.0",
          "state": {
            "_dom_classes": [],
            "_model_module": "@jupyter-widgets/controls",
            "_model_module_version": "1.5.0",
            "_model_name": "FloatProgressModel",
            "_view_count": null,
            "_view_module": "@jupyter-widgets/controls",
            "_view_module_version": "1.5.0",
            "_view_name": "ProgressView",
            "bar_style": "success",
            "description": "",
            "description_tooltip": null,
            "layout": "IPY_MODEL_41970e1060d0401f985b0e245bed3330",
            "max": 3228713,
            "min": 0,
            "orientation": "horizontal",
            "style": "IPY_MODEL_10026b6e2ba141b889268364eaedb24b",
            "value": 3228713
          }
        },
        "9e064196b3b347ce981366185d666155": {
          "model_module": "@jupyter-widgets/controls",
          "model_name": "HTMLModel",
          "model_module_version": "1.5.0",
          "state": {
            "_dom_classes": [],
            "_model_module": "@jupyter-widgets/controls",
            "_model_module_version": "1.5.0",
            "_model_name": "HTMLModel",
            "_view_count": null,
            "_view_module": "@jupyter-widgets/controls",
            "_view_module_version": "1.5.0",
            "_view_name": "HTMLView",
            "description": "",
            "description_tooltip": null,
            "layout": "IPY_MODEL_515e77fca252472e80f2f2392f12de54",
            "placeholder": "​",
            "style": "IPY_MODEL_6fbf6f1f962f4f268d42ddc215ef1d18",
            "value": ""
          }
        },
        "93c7269c79b54135b8c3068539d13c9a": {
          "model_module": "@jupyter-widgets/base",
          "model_name": "LayoutModel",
          "model_module_version": "1.2.0",
          "state": {
            "_model_module": "@jupyter-widgets/base",
            "_model_module_version": "1.2.0",
            "_model_name": "LayoutModel",
            "_view_count": null,
            "_view_module": "@jupyter-widgets/base",
            "_view_module_version": "1.2.0",
            "_view_name": "LayoutView",
            "align_content": null,
            "align_items": null,
            "align_self": null,
            "border": null,
            "bottom": null,
            "display": null,
            "flex": null,
            "flex_flow": null,
            "grid_area": null,
            "grid_auto_columns": null,
            "grid_auto_flow": null,
            "grid_auto_rows": null,
            "grid_column": null,
            "grid_gap": null,
            "grid_row": null,
            "grid_template_areas": null,
            "grid_template_columns": null,
            "grid_template_rows": null,
            "height": null,
            "justify_content": null,
            "justify_items": null,
            "left": null,
            "margin": null,
            "max_height": null,
            "max_width": null,
            "min_height": null,
            "min_width": null,
            "object_fit": null,
            "object_position": null,
            "order": null,
            "overflow": null,
            "overflow_x": null,
            "overflow_y": null,
            "padding": null,
            "right": null,
            "top": null,
            "visibility": null,
            "width": null
          }
        },
        "82bcbc90317c45c99e4169247fc30d16": {
          "model_module": "@jupyter-widgets/base",
          "model_name": "LayoutModel",
          "model_module_version": "1.2.0",
          "state": {
            "_model_module": "@jupyter-widgets/base",
            "_model_module_version": "1.2.0",
            "_model_name": "LayoutModel",
            "_view_count": null,
            "_view_module": "@jupyter-widgets/base",
            "_view_module_version": "1.2.0",
            "_view_name": "LayoutView",
            "align_content": null,
            "align_items": null,
            "align_self": null,
            "border": null,
            "bottom": null,
            "display": null,
            "flex": null,
            "flex_flow": null,
            "grid_area": null,
            "grid_auto_columns": null,
            "grid_auto_flow": null,
            "grid_auto_rows": null,
            "grid_column": null,
            "grid_gap": null,
            "grid_row": null,
            "grid_template_areas": null,
            "grid_template_columns": null,
            "grid_template_rows": null,
            "height": null,
            "justify_content": null,
            "justify_items": null,
            "left": null,
            "margin": null,
            "max_height": null,
            "max_width": null,
            "min_height": null,
            "min_width": null,
            "object_fit": null,
            "object_position": null,
            "order": null,
            "overflow": null,
            "overflow_x": null,
            "overflow_y": null,
            "padding": null,
            "right": null,
            "top": null,
            "visibility": null,
            "width": null
          }
        },
        "58d3998b7bd64e959deae88180fb7ade": {
          "model_module": "@jupyter-widgets/controls",
          "model_name": "DescriptionStyleModel",
          "model_module_version": "1.5.0",
          "state": {
            "_model_module": "@jupyter-widgets/controls",
            "_model_module_version": "1.5.0",
            "_model_name": "DescriptionStyleModel",
            "_view_count": null,
            "_view_module": "@jupyter-widgets/base",
            "_view_module_version": "1.2.0",
            "_view_name": "StyleView",
            "description_width": ""
          }
        },
        "41970e1060d0401f985b0e245bed3330": {
          "model_module": "@jupyter-widgets/base",
          "model_name": "LayoutModel",
          "model_module_version": "1.2.0",
          "state": {
            "_model_module": "@jupyter-widgets/base",
            "_model_module_version": "1.2.0",
            "_model_name": "LayoutModel",
            "_view_count": null,
            "_view_module": "@jupyter-widgets/base",
            "_view_module_version": "1.2.0",
            "_view_name": "LayoutView",
            "align_content": null,
            "align_items": null,
            "align_self": null,
            "border": null,
            "bottom": null,
            "display": null,
            "flex": null,
            "flex_flow": null,
            "grid_area": null,
            "grid_auto_columns": null,
            "grid_auto_flow": null,
            "grid_auto_rows": null,
            "grid_column": null,
            "grid_gap": null,
            "grid_row": null,
            "grid_template_areas": null,
            "grid_template_columns": null,
            "grid_template_rows": null,
            "height": null,
            "justify_content": null,
            "justify_items": null,
            "left": null,
            "margin": null,
            "max_height": null,
            "max_width": null,
            "min_height": null,
            "min_width": null,
            "object_fit": null,
            "object_position": null,
            "order": null,
            "overflow": null,
            "overflow_x": null,
            "overflow_y": null,
            "padding": null,
            "right": null,
            "top": null,
            "visibility": null,
            "width": null
          }
        },
        "10026b6e2ba141b889268364eaedb24b": {
          "model_module": "@jupyter-widgets/controls",
          "model_name": "ProgressStyleModel",
          "model_module_version": "1.5.0",
          "state": {
            "_model_module": "@jupyter-widgets/controls",
            "_model_module_version": "1.5.0",
            "_model_name": "ProgressStyleModel",
            "_view_count": null,
            "_view_module": "@jupyter-widgets/base",
            "_view_module_version": "1.2.0",
            "_view_name": "StyleView",
            "bar_color": null,
            "description_width": ""
          }
        },
        "515e77fca252472e80f2f2392f12de54": {
          "model_module": "@jupyter-widgets/base",
          "model_name": "LayoutModel",
          "model_module_version": "1.2.0",
          "state": {
            "_model_module": "@jupyter-widgets/base",
            "_model_module_version": "1.2.0",
            "_model_name": "LayoutModel",
            "_view_count": null,
            "_view_module": "@jupyter-widgets/base",
            "_view_module_version": "1.2.0",
            "_view_name": "LayoutView",
            "align_content": null,
            "align_items": null,
            "align_self": null,
            "border": null,
            "bottom": null,
            "display": null,
            "flex": null,
            "flex_flow": null,
            "grid_area": null,
            "grid_auto_columns": null,
            "grid_auto_flow": null,
            "grid_auto_rows": null,
            "grid_column": null,
            "grid_gap": null,
            "grid_row": null,
            "grid_template_areas": null,
            "grid_template_columns": null,
            "grid_template_rows": null,
            "height": null,
            "justify_content": null,
            "justify_items": null,
            "left": null,
            "margin": null,
            "max_height": null,
            "max_width": null,
            "min_height": null,
            "min_width": null,
            "object_fit": null,
            "object_position": null,
            "order": null,
            "overflow": null,
            "overflow_x": null,
            "overflow_y": null,
            "padding": null,
            "right": null,
            "top": null,
            "visibility": null,
            "width": null
          }
        },
        "6fbf6f1f962f4f268d42ddc215ef1d18": {
          "model_module": "@jupyter-widgets/controls",
          "model_name": "DescriptionStyleModel",
          "model_module_version": "1.5.0",
          "state": {
            "_model_module": "@jupyter-widgets/controls",
            "_model_module_version": "1.5.0",
            "_model_name": "DescriptionStyleModel",
            "_view_count": null,
            "_view_module": "@jupyter-widgets/base",
            "_view_module_version": "1.2.0",
            "_view_name": "StyleView",
            "description_width": ""
          }
        },
        "33c1fc6298a1429aa513bafbd6950b39": {
          "model_module": "@jupyter-widgets/controls",
          "model_name": "HBoxModel",
          "model_module_version": "1.5.0",
          "state": {
            "_dom_classes": [],
            "_model_module": "@jupyter-widgets/controls",
            "_model_module_version": "1.5.0",
            "_model_name": "HBoxModel",
            "_view_count": null,
            "_view_module": "@jupyter-widgets/controls",
            "_view_module_version": "1.5.0",
            "_view_name": "HBoxView",
            "box_style": "",
            "children": [
              "IPY_MODEL_9f12c84cb2e84c798bc0689b5c4fbdfb",
              "IPY_MODEL_1320b2a9bf3445bf8da28c33645b9e31",
              "IPY_MODEL_f595b8954f3d4bdc877784c6e594388d"
            ],
            "layout": "IPY_MODEL_d5ba5dc6cdbe45ffb45f91c7e09ad697"
          }
        },
        "9f12c84cb2e84c798bc0689b5c4fbdfb": {
          "model_module": "@jupyter-widgets/controls",
          "model_name": "HTMLModel",
          "model_module_version": "1.5.0",
          "state": {
            "_dom_classes": [],
            "_model_module": "@jupyter-widgets/controls",
            "_model_module_version": "1.5.0",
            "_model_name": "HTMLModel",
            "_view_count": null,
            "_view_module": "@jupyter-widgets/controls",
            "_view_module_version": "1.5.0",
            "_view_name": "HTMLView",
            "description": "",
            "description_tooltip": null,
            "layout": "IPY_MODEL_021a30243fbd43c98a7cec8f5457bdfd",
            "placeholder": "​",
            "style": "IPY_MODEL_baad9d2bbc4f41efbf0297ccdfd18d6e",
            "value": "Job ID 17743832-aa50-43d3-8fbf-cadc4d5b9ed7 successfully executed: 100%"
          }
        },
        "1320b2a9bf3445bf8da28c33645b9e31": {
          "model_module": "@jupyter-widgets/controls",
          "model_name": "FloatProgressModel",
          "model_module_version": "1.5.0",
          "state": {
            "_dom_classes": [],
            "_model_module": "@jupyter-widgets/controls",
            "_model_module_version": "1.5.0",
            "_model_name": "FloatProgressModel",
            "_view_count": null,
            "_view_module": "@jupyter-widgets/controls",
            "_view_module_version": "1.5.0",
            "_view_name": "ProgressView",
            "bar_style": "success",
            "description": "",
            "description_tooltip": null,
            "layout": "IPY_MODEL_1988a0bc94a445fd8e6382977cc1f511",
            "max": 1,
            "min": 0,
            "orientation": "horizontal",
            "style": "IPY_MODEL_d379cc92b7f640b8a11b9632b9d8cb2c",
            "value": 1
          }
        },
        "f595b8954f3d4bdc877784c6e594388d": {
          "model_module": "@jupyter-widgets/controls",
          "model_name": "HTMLModel",
          "model_module_version": "1.5.0",
          "state": {
            "_dom_classes": [],
            "_model_module": "@jupyter-widgets/controls",
            "_model_module_version": "1.5.0",
            "_model_name": "HTMLModel",
            "_view_count": null,
            "_view_module": "@jupyter-widgets/controls",
            "_view_module_version": "1.5.0",
            "_view_name": "HTMLView",
            "description": "",
            "description_tooltip": null,
            "layout": "IPY_MODEL_20206c4814484c58945eaec8bf5cc21d",
            "placeholder": "​",
            "style": "IPY_MODEL_731bf1f0587447fdb98395612e35fbff",
            "value": ""
          }
        },
        "d5ba5dc6cdbe45ffb45f91c7e09ad697": {
          "model_module": "@jupyter-widgets/base",
          "model_name": "LayoutModel",
          "model_module_version": "1.2.0",
          "state": {
            "_model_module": "@jupyter-widgets/base",
            "_model_module_version": "1.2.0",
            "_model_name": "LayoutModel",
            "_view_count": null,
            "_view_module": "@jupyter-widgets/base",
            "_view_module_version": "1.2.0",
            "_view_name": "LayoutView",
            "align_content": null,
            "align_items": null,
            "align_self": null,
            "border": null,
            "bottom": null,
            "display": null,
            "flex": null,
            "flex_flow": null,
            "grid_area": null,
            "grid_auto_columns": null,
            "grid_auto_flow": null,
            "grid_auto_rows": null,
            "grid_column": null,
            "grid_gap": null,
            "grid_row": null,
            "grid_template_areas": null,
            "grid_template_columns": null,
            "grid_template_rows": null,
            "height": null,
            "justify_content": null,
            "justify_items": null,
            "left": null,
            "margin": null,
            "max_height": null,
            "max_width": null,
            "min_height": null,
            "min_width": null,
            "object_fit": null,
            "object_position": null,
            "order": null,
            "overflow": null,
            "overflow_x": null,
            "overflow_y": null,
            "padding": null,
            "right": null,
            "top": null,
            "visibility": null,
            "width": null
          }
        },
        "021a30243fbd43c98a7cec8f5457bdfd": {
          "model_module": "@jupyter-widgets/base",
          "model_name": "LayoutModel",
          "model_module_version": "1.2.0",
          "state": {
            "_model_module": "@jupyter-widgets/base",
            "_model_module_version": "1.2.0",
            "_model_name": "LayoutModel",
            "_view_count": null,
            "_view_module": "@jupyter-widgets/base",
            "_view_module_version": "1.2.0",
            "_view_name": "LayoutView",
            "align_content": null,
            "align_items": null,
            "align_self": null,
            "border": null,
            "bottom": null,
            "display": null,
            "flex": null,
            "flex_flow": null,
            "grid_area": null,
            "grid_auto_columns": null,
            "grid_auto_flow": null,
            "grid_auto_rows": null,
            "grid_column": null,
            "grid_gap": null,
            "grid_row": null,
            "grid_template_areas": null,
            "grid_template_columns": null,
            "grid_template_rows": null,
            "height": null,
            "justify_content": null,
            "justify_items": null,
            "left": null,
            "margin": null,
            "max_height": null,
            "max_width": null,
            "min_height": null,
            "min_width": null,
            "object_fit": null,
            "object_position": null,
            "order": null,
            "overflow": null,
            "overflow_x": null,
            "overflow_y": null,
            "padding": null,
            "right": null,
            "top": null,
            "visibility": null,
            "width": null
          }
        },
        "baad9d2bbc4f41efbf0297ccdfd18d6e": {
          "model_module": "@jupyter-widgets/controls",
          "model_name": "DescriptionStyleModel",
          "model_module_version": "1.5.0",
          "state": {
            "_model_module": "@jupyter-widgets/controls",
            "_model_module_version": "1.5.0",
            "_model_name": "DescriptionStyleModel",
            "_view_count": null,
            "_view_module": "@jupyter-widgets/base",
            "_view_module_version": "1.2.0",
            "_view_name": "StyleView",
            "description_width": ""
          }
        },
        "1988a0bc94a445fd8e6382977cc1f511": {
          "model_module": "@jupyter-widgets/base",
          "model_name": "LayoutModel",
          "model_module_version": "1.2.0",
          "state": {
            "_model_module": "@jupyter-widgets/base",
            "_model_module_version": "1.2.0",
            "_model_name": "LayoutModel",
            "_view_count": null,
            "_view_module": "@jupyter-widgets/base",
            "_view_module_version": "1.2.0",
            "_view_name": "LayoutView",
            "align_content": null,
            "align_items": null,
            "align_self": null,
            "border": null,
            "bottom": null,
            "display": null,
            "flex": null,
            "flex_flow": null,
            "grid_area": null,
            "grid_auto_columns": null,
            "grid_auto_flow": null,
            "grid_auto_rows": null,
            "grid_column": null,
            "grid_gap": null,
            "grid_row": null,
            "grid_template_areas": null,
            "grid_template_columns": null,
            "grid_template_rows": null,
            "height": null,
            "justify_content": null,
            "justify_items": null,
            "left": null,
            "margin": null,
            "max_height": null,
            "max_width": null,
            "min_height": null,
            "min_width": null,
            "object_fit": null,
            "object_position": null,
            "order": null,
            "overflow": null,
            "overflow_x": null,
            "overflow_y": null,
            "padding": null,
            "right": null,
            "top": null,
            "visibility": null,
            "width": null
          }
        },
        "d379cc92b7f640b8a11b9632b9d8cb2c": {
          "model_module": "@jupyter-widgets/controls",
          "model_name": "ProgressStyleModel",
          "model_module_version": "1.5.0",
          "state": {
            "_model_module": "@jupyter-widgets/controls",
            "_model_module_version": "1.5.0",
            "_model_name": "ProgressStyleModel",
            "_view_count": null,
            "_view_module": "@jupyter-widgets/base",
            "_view_module_version": "1.2.0",
            "_view_name": "StyleView",
            "bar_color": null,
            "description_width": ""
          }
        },
        "20206c4814484c58945eaec8bf5cc21d": {
          "model_module": "@jupyter-widgets/base",
          "model_name": "LayoutModel",
          "model_module_version": "1.2.0",
          "state": {
            "_model_module": "@jupyter-widgets/base",
            "_model_module_version": "1.2.0",
            "_model_name": "LayoutModel",
            "_view_count": null,
            "_view_module": "@jupyter-widgets/base",
            "_view_module_version": "1.2.0",
            "_view_name": "LayoutView",
            "align_content": null,
            "align_items": null,
            "align_self": null,
            "border": null,
            "bottom": null,
            "display": null,
            "flex": null,
            "flex_flow": null,
            "grid_area": null,
            "grid_auto_columns": null,
            "grid_auto_flow": null,
            "grid_auto_rows": null,
            "grid_column": null,
            "grid_gap": null,
            "grid_row": null,
            "grid_template_areas": null,
            "grid_template_columns": null,
            "grid_template_rows": null,
            "height": null,
            "justify_content": null,
            "justify_items": null,
            "left": null,
            "margin": null,
            "max_height": null,
            "max_width": null,
            "min_height": null,
            "min_width": null,
            "object_fit": null,
            "object_position": null,
            "order": null,
            "overflow": null,
            "overflow_x": null,
            "overflow_y": null,
            "padding": null,
            "right": null,
            "top": null,
            "visibility": null,
            "width": null
          }
        },
        "731bf1f0587447fdb98395612e35fbff": {
          "model_module": "@jupyter-widgets/controls",
          "model_name": "DescriptionStyleModel",
          "model_module_version": "1.5.0",
          "state": {
            "_model_module": "@jupyter-widgets/controls",
            "_model_module_version": "1.5.0",
            "_model_name": "DescriptionStyleModel",
            "_view_count": null,
            "_view_module": "@jupyter-widgets/base",
            "_view_module_version": "1.2.0",
            "_view_name": "StyleView",
            "description_width": ""
          }
        },
        "920e4fd853054bb8aed8181397818fe0": {
          "model_module": "@jupyter-widgets/controls",
          "model_name": "HBoxModel",
          "model_module_version": "1.5.0",
          "state": {
            "_dom_classes": [],
            "_model_module": "@jupyter-widgets/controls",
            "_model_module_version": "1.5.0",
            "_model_name": "HBoxModel",
            "_view_count": null,
            "_view_module": "@jupyter-widgets/controls",
            "_view_module_version": "1.5.0",
            "_view_name": "HBoxView",
            "box_style": "",
            "children": [
              "IPY_MODEL_882b4b14f8884607b4a8a4e02fe4d5f7",
              "IPY_MODEL_2eaff2392b244421b5665696d5756eaa",
              "IPY_MODEL_01110c1710c749b99edef6da47d58e98"
            ],
            "layout": "IPY_MODEL_6a575071e91349e28b7d102a783fa380"
          }
        },
        "882b4b14f8884607b4a8a4e02fe4d5f7": {
          "model_module": "@jupyter-widgets/controls",
          "model_name": "HTMLModel",
          "model_module_version": "1.5.0",
          "state": {
            "_dom_classes": [],
            "_model_module": "@jupyter-widgets/controls",
            "_model_module_version": "1.5.0",
            "_model_name": "HTMLModel",
            "_view_count": null,
            "_view_module": "@jupyter-widgets/controls",
            "_view_module_version": "1.5.0",
            "_view_name": "HTMLView",
            "description": "",
            "description_tooltip": null,
            "layout": "IPY_MODEL_7901eb85956a4c65b59bcb511efd5ba6",
            "placeholder": "​",
            "style": "IPY_MODEL_c3a9cc70f3904fd787c4a36de8323325",
            "value": "Downloading: 100%"
          }
        },
        "2eaff2392b244421b5665696d5756eaa": {
          "model_module": "@jupyter-widgets/controls",
          "model_name": "FloatProgressModel",
          "model_module_version": "1.5.0",
          "state": {
            "_dom_classes": [],
            "_model_module": "@jupyter-widgets/controls",
            "_model_module_version": "1.5.0",
            "_model_name": "FloatProgressModel",
            "_view_count": null,
            "_view_module": "@jupyter-widgets/controls",
            "_view_module_version": "1.5.0",
            "_view_name": "ProgressView",
            "bar_style": "success",
            "description": "",
            "description_tooltip": null,
            "layout": "IPY_MODEL_c9f22c63eb4844eea67d53df1be07c2e",
            "max": 431231,
            "min": 0,
            "orientation": "horizontal",
            "style": "IPY_MODEL_6f8b36dda67241f7902ed1545c537cd9",
            "value": 431231
          }
        },
        "01110c1710c749b99edef6da47d58e98": {
          "model_module": "@jupyter-widgets/controls",
          "model_name": "HTMLModel",
          "model_module_version": "1.5.0",
          "state": {
            "_dom_classes": [],
            "_model_module": "@jupyter-widgets/controls",
            "_model_module_version": "1.5.0",
            "_model_name": "HTMLModel",
            "_view_count": null,
            "_view_module": "@jupyter-widgets/controls",
            "_view_module_version": "1.5.0",
            "_view_name": "HTMLView",
            "description": "",
            "description_tooltip": null,
            "layout": "IPY_MODEL_2f946b9f5ed548b1878b97464acb7fd2",
            "placeholder": "​",
            "style": "IPY_MODEL_d76d0b7dfb114d00921ba497e39952b7",
            "value": ""
          }
        },
        "6a575071e91349e28b7d102a783fa380": {
          "model_module": "@jupyter-widgets/base",
          "model_name": "LayoutModel",
          "model_module_version": "1.2.0",
          "state": {
            "_model_module": "@jupyter-widgets/base",
            "_model_module_version": "1.2.0",
            "_model_name": "LayoutModel",
            "_view_count": null,
            "_view_module": "@jupyter-widgets/base",
            "_view_module_version": "1.2.0",
            "_view_name": "LayoutView",
            "align_content": null,
            "align_items": null,
            "align_self": null,
            "border": null,
            "bottom": null,
            "display": null,
            "flex": null,
            "flex_flow": null,
            "grid_area": null,
            "grid_auto_columns": null,
            "grid_auto_flow": null,
            "grid_auto_rows": null,
            "grid_column": null,
            "grid_gap": null,
            "grid_row": null,
            "grid_template_areas": null,
            "grid_template_columns": null,
            "grid_template_rows": null,
            "height": null,
            "justify_content": null,
            "justify_items": null,
            "left": null,
            "margin": null,
            "max_height": null,
            "max_width": null,
            "min_height": null,
            "min_width": null,
            "object_fit": null,
            "object_position": null,
            "order": null,
            "overflow": null,
            "overflow_x": null,
            "overflow_y": null,
            "padding": null,
            "right": null,
            "top": null,
            "visibility": null,
            "width": null
          }
        },
        "7901eb85956a4c65b59bcb511efd5ba6": {
          "model_module": "@jupyter-widgets/base",
          "model_name": "LayoutModel",
          "model_module_version": "1.2.0",
          "state": {
            "_model_module": "@jupyter-widgets/base",
            "_model_module_version": "1.2.0",
            "_model_name": "LayoutModel",
            "_view_count": null,
            "_view_module": "@jupyter-widgets/base",
            "_view_module_version": "1.2.0",
            "_view_name": "LayoutView",
            "align_content": null,
            "align_items": null,
            "align_self": null,
            "border": null,
            "bottom": null,
            "display": null,
            "flex": null,
            "flex_flow": null,
            "grid_area": null,
            "grid_auto_columns": null,
            "grid_auto_flow": null,
            "grid_auto_rows": null,
            "grid_column": null,
            "grid_gap": null,
            "grid_row": null,
            "grid_template_areas": null,
            "grid_template_columns": null,
            "grid_template_rows": null,
            "height": null,
            "justify_content": null,
            "justify_items": null,
            "left": null,
            "margin": null,
            "max_height": null,
            "max_width": null,
            "min_height": null,
            "min_width": null,
            "object_fit": null,
            "object_position": null,
            "order": null,
            "overflow": null,
            "overflow_x": null,
            "overflow_y": null,
            "padding": null,
            "right": null,
            "top": null,
            "visibility": null,
            "width": null
          }
        },
        "c3a9cc70f3904fd787c4a36de8323325": {
          "model_module": "@jupyter-widgets/controls",
          "model_name": "DescriptionStyleModel",
          "model_module_version": "1.5.0",
          "state": {
            "_model_module": "@jupyter-widgets/controls",
            "_model_module_version": "1.5.0",
            "_model_name": "DescriptionStyleModel",
            "_view_count": null,
            "_view_module": "@jupyter-widgets/base",
            "_view_module_version": "1.2.0",
            "_view_name": "StyleView",
            "description_width": ""
          }
        },
        "c9f22c63eb4844eea67d53df1be07c2e": {
          "model_module": "@jupyter-widgets/base",
          "model_name": "LayoutModel",
          "model_module_version": "1.2.0",
          "state": {
            "_model_module": "@jupyter-widgets/base",
            "_model_module_version": "1.2.0",
            "_model_name": "LayoutModel",
            "_view_count": null,
            "_view_module": "@jupyter-widgets/base",
            "_view_module_version": "1.2.0",
            "_view_name": "LayoutView",
            "align_content": null,
            "align_items": null,
            "align_self": null,
            "border": null,
            "bottom": null,
            "display": null,
            "flex": null,
            "flex_flow": null,
            "grid_area": null,
            "grid_auto_columns": null,
            "grid_auto_flow": null,
            "grid_auto_rows": null,
            "grid_column": null,
            "grid_gap": null,
            "grid_row": null,
            "grid_template_areas": null,
            "grid_template_columns": null,
            "grid_template_rows": null,
            "height": null,
            "justify_content": null,
            "justify_items": null,
            "left": null,
            "margin": null,
            "max_height": null,
            "max_width": null,
            "min_height": null,
            "min_width": null,
            "object_fit": null,
            "object_position": null,
            "order": null,
            "overflow": null,
            "overflow_x": null,
            "overflow_y": null,
            "padding": null,
            "right": null,
            "top": null,
            "visibility": null,
            "width": null
          }
        },
        "6f8b36dda67241f7902ed1545c537cd9": {
          "model_module": "@jupyter-widgets/controls",
          "model_name": "ProgressStyleModel",
          "model_module_version": "1.5.0",
          "state": {
            "_model_module": "@jupyter-widgets/controls",
            "_model_module_version": "1.5.0",
            "_model_name": "ProgressStyleModel",
            "_view_count": null,
            "_view_module": "@jupyter-widgets/base",
            "_view_module_version": "1.2.0",
            "_view_name": "StyleView",
            "bar_color": null,
            "description_width": ""
          }
        },
        "2f946b9f5ed548b1878b97464acb7fd2": {
          "model_module": "@jupyter-widgets/base",
          "model_name": "LayoutModel",
          "model_module_version": "1.2.0",
          "state": {
            "_model_module": "@jupyter-widgets/base",
            "_model_module_version": "1.2.0",
            "_model_name": "LayoutModel",
            "_view_count": null,
            "_view_module": "@jupyter-widgets/base",
            "_view_module_version": "1.2.0",
            "_view_name": "LayoutView",
            "align_content": null,
            "align_items": null,
            "align_self": null,
            "border": null,
            "bottom": null,
            "display": null,
            "flex": null,
            "flex_flow": null,
            "grid_area": null,
            "grid_auto_columns": null,
            "grid_auto_flow": null,
            "grid_auto_rows": null,
            "grid_column": null,
            "grid_gap": null,
            "grid_row": null,
            "grid_template_areas": null,
            "grid_template_columns": null,
            "grid_template_rows": null,
            "height": null,
            "justify_content": null,
            "justify_items": null,
            "left": null,
            "margin": null,
            "max_height": null,
            "max_width": null,
            "min_height": null,
            "min_width": null,
            "object_fit": null,
            "object_position": null,
            "order": null,
            "overflow": null,
            "overflow_x": null,
            "overflow_y": null,
            "padding": null,
            "right": null,
            "top": null,
            "visibility": null,
            "width": null
          }
        },
        "d76d0b7dfb114d00921ba497e39952b7": {
          "model_module": "@jupyter-widgets/controls",
          "model_name": "DescriptionStyleModel",
          "model_module_version": "1.5.0",
          "state": {
            "_model_module": "@jupyter-widgets/controls",
            "_model_module_version": "1.5.0",
            "_model_name": "DescriptionStyleModel",
            "_view_count": null,
            "_view_module": "@jupyter-widgets/base",
            "_view_module_version": "1.2.0",
            "_view_name": "StyleView",
            "description_width": ""
          }
        },
        "ec77b45cb2944b10980ec1dd52de5a35": {
          "model_module": "@jupyter-widgets/controls",
          "model_name": "HBoxModel",
          "model_module_version": "1.5.0",
          "state": {
            "_dom_classes": [],
            "_model_module": "@jupyter-widgets/controls",
            "_model_module_version": "1.5.0",
            "_model_name": "HBoxModel",
            "_view_count": null,
            "_view_module": "@jupyter-widgets/controls",
            "_view_module_version": "1.5.0",
            "_view_name": "HBoxView",
            "box_style": "",
            "children": [
              "IPY_MODEL_9f73960fc9b24de59c81d2bd7a5d7e6b",
              "IPY_MODEL_fe89f6ff0d5f42a19df636c509d436c5",
              "IPY_MODEL_f9e6dd6bacb6476c96727e3a826f7f24"
            ],
            "layout": "IPY_MODEL_80131fcd949b4d1bbe6266bcdf75b245"
          }
        },
        "9f73960fc9b24de59c81d2bd7a5d7e6b": {
          "model_module": "@jupyter-widgets/controls",
          "model_name": "HTMLModel",
          "model_module_version": "1.5.0",
          "state": {
            "_dom_classes": [],
            "_model_module": "@jupyter-widgets/controls",
            "_model_module_version": "1.5.0",
            "_model_name": "HTMLModel",
            "_view_count": null,
            "_view_module": "@jupyter-widgets/controls",
            "_view_module_version": "1.5.0",
            "_view_name": "HTMLView",
            "description": "",
            "description_tooltip": null,
            "layout": "IPY_MODEL_739fd8cd031a4ec0a9d8e9b8d9ec8d2b",
            "placeholder": "​",
            "style": "IPY_MODEL_53959ad5ee8249b3817514ced57b902b",
            "value": "Job ID d5e534be-0b01-4830-9fb6-dc4e6a24cd7e successfully executed: 100%"
          }
        },
        "fe89f6ff0d5f42a19df636c509d436c5": {
          "model_module": "@jupyter-widgets/controls",
          "model_name": "FloatProgressModel",
          "model_module_version": "1.5.0",
          "state": {
            "_dom_classes": [],
            "_model_module": "@jupyter-widgets/controls",
            "_model_module_version": "1.5.0",
            "_model_name": "FloatProgressModel",
            "_view_count": null,
            "_view_module": "@jupyter-widgets/controls",
            "_view_module_version": "1.5.0",
            "_view_name": "ProgressView",
            "bar_style": "success",
            "description": "",
            "description_tooltip": null,
            "layout": "IPY_MODEL_7880c2ca09d84d6094c4a3648a52b61e",
            "max": 1,
            "min": 0,
            "orientation": "horizontal",
            "style": "IPY_MODEL_79c62defe8ef41eebfd4bdb79eaa6a99",
            "value": 1
          }
        },
        "f9e6dd6bacb6476c96727e3a826f7f24": {
          "model_module": "@jupyter-widgets/controls",
          "model_name": "HTMLModel",
          "model_module_version": "1.5.0",
          "state": {
            "_dom_classes": [],
            "_model_module": "@jupyter-widgets/controls",
            "_model_module_version": "1.5.0",
            "_model_name": "HTMLModel",
            "_view_count": null,
            "_view_module": "@jupyter-widgets/controls",
            "_view_module_version": "1.5.0",
            "_view_name": "HTMLView",
            "description": "",
            "description_tooltip": null,
            "layout": "IPY_MODEL_793e3fee41294da39bcbac20b389c041",
            "placeholder": "​",
            "style": "IPY_MODEL_df02e74d7b034bfe9a750da47a167932",
            "value": ""
          }
        },
        "80131fcd949b4d1bbe6266bcdf75b245": {
          "model_module": "@jupyter-widgets/base",
          "model_name": "LayoutModel",
          "model_module_version": "1.2.0",
          "state": {
            "_model_module": "@jupyter-widgets/base",
            "_model_module_version": "1.2.0",
            "_model_name": "LayoutModel",
            "_view_count": null,
            "_view_module": "@jupyter-widgets/base",
            "_view_module_version": "1.2.0",
            "_view_name": "LayoutView",
            "align_content": null,
            "align_items": null,
            "align_self": null,
            "border": null,
            "bottom": null,
            "display": null,
            "flex": null,
            "flex_flow": null,
            "grid_area": null,
            "grid_auto_columns": null,
            "grid_auto_flow": null,
            "grid_auto_rows": null,
            "grid_column": null,
            "grid_gap": null,
            "grid_row": null,
            "grid_template_areas": null,
            "grid_template_columns": null,
            "grid_template_rows": null,
            "height": null,
            "justify_content": null,
            "justify_items": null,
            "left": null,
            "margin": null,
            "max_height": null,
            "max_width": null,
            "min_height": null,
            "min_width": null,
            "object_fit": null,
            "object_position": null,
            "order": null,
            "overflow": null,
            "overflow_x": null,
            "overflow_y": null,
            "padding": null,
            "right": null,
            "top": null,
            "visibility": null,
            "width": null
          }
        },
        "739fd8cd031a4ec0a9d8e9b8d9ec8d2b": {
          "model_module": "@jupyter-widgets/base",
          "model_name": "LayoutModel",
          "model_module_version": "1.2.0",
          "state": {
            "_model_module": "@jupyter-widgets/base",
            "_model_module_version": "1.2.0",
            "_model_name": "LayoutModel",
            "_view_count": null,
            "_view_module": "@jupyter-widgets/base",
            "_view_module_version": "1.2.0",
            "_view_name": "LayoutView",
            "align_content": null,
            "align_items": null,
            "align_self": null,
            "border": null,
            "bottom": null,
            "display": null,
            "flex": null,
            "flex_flow": null,
            "grid_area": null,
            "grid_auto_columns": null,
            "grid_auto_flow": null,
            "grid_auto_rows": null,
            "grid_column": null,
            "grid_gap": null,
            "grid_row": null,
            "grid_template_areas": null,
            "grid_template_columns": null,
            "grid_template_rows": null,
            "height": null,
            "justify_content": null,
            "justify_items": null,
            "left": null,
            "margin": null,
            "max_height": null,
            "max_width": null,
            "min_height": null,
            "min_width": null,
            "object_fit": null,
            "object_position": null,
            "order": null,
            "overflow": null,
            "overflow_x": null,
            "overflow_y": null,
            "padding": null,
            "right": null,
            "top": null,
            "visibility": null,
            "width": null
          }
        },
        "53959ad5ee8249b3817514ced57b902b": {
          "model_module": "@jupyter-widgets/controls",
          "model_name": "DescriptionStyleModel",
          "model_module_version": "1.5.0",
          "state": {
            "_model_module": "@jupyter-widgets/controls",
            "_model_module_version": "1.5.0",
            "_model_name": "DescriptionStyleModel",
            "_view_count": null,
            "_view_module": "@jupyter-widgets/base",
            "_view_module_version": "1.2.0",
            "_view_name": "StyleView",
            "description_width": ""
          }
        },
        "7880c2ca09d84d6094c4a3648a52b61e": {
          "model_module": "@jupyter-widgets/base",
          "model_name": "LayoutModel",
          "model_module_version": "1.2.0",
          "state": {
            "_model_module": "@jupyter-widgets/base",
            "_model_module_version": "1.2.0",
            "_model_name": "LayoutModel",
            "_view_count": null,
            "_view_module": "@jupyter-widgets/base",
            "_view_module_version": "1.2.0",
            "_view_name": "LayoutView",
            "align_content": null,
            "align_items": null,
            "align_self": null,
            "border": null,
            "bottom": null,
            "display": null,
            "flex": null,
            "flex_flow": null,
            "grid_area": null,
            "grid_auto_columns": null,
            "grid_auto_flow": null,
            "grid_auto_rows": null,
            "grid_column": null,
            "grid_gap": null,
            "grid_row": null,
            "grid_template_areas": null,
            "grid_template_columns": null,
            "grid_template_rows": null,
            "height": null,
            "justify_content": null,
            "justify_items": null,
            "left": null,
            "margin": null,
            "max_height": null,
            "max_width": null,
            "min_height": null,
            "min_width": null,
            "object_fit": null,
            "object_position": null,
            "order": null,
            "overflow": null,
            "overflow_x": null,
            "overflow_y": null,
            "padding": null,
            "right": null,
            "top": null,
            "visibility": null,
            "width": null
          }
        },
        "79c62defe8ef41eebfd4bdb79eaa6a99": {
          "model_module": "@jupyter-widgets/controls",
          "model_name": "ProgressStyleModel",
          "model_module_version": "1.5.0",
          "state": {
            "_model_module": "@jupyter-widgets/controls",
            "_model_module_version": "1.5.0",
            "_model_name": "ProgressStyleModel",
            "_view_count": null,
            "_view_module": "@jupyter-widgets/base",
            "_view_module_version": "1.2.0",
            "_view_name": "StyleView",
            "bar_color": null,
            "description_width": ""
          }
        },
        "793e3fee41294da39bcbac20b389c041": {
          "model_module": "@jupyter-widgets/base",
          "model_name": "LayoutModel",
          "model_module_version": "1.2.0",
          "state": {
            "_model_module": "@jupyter-widgets/base",
            "_model_module_version": "1.2.0",
            "_model_name": "LayoutModel",
            "_view_count": null,
            "_view_module": "@jupyter-widgets/base",
            "_view_module_version": "1.2.0",
            "_view_name": "LayoutView",
            "align_content": null,
            "align_items": null,
            "align_self": null,
            "border": null,
            "bottom": null,
            "display": null,
            "flex": null,
            "flex_flow": null,
            "grid_area": null,
            "grid_auto_columns": null,
            "grid_auto_flow": null,
            "grid_auto_rows": null,
            "grid_column": null,
            "grid_gap": null,
            "grid_row": null,
            "grid_template_areas": null,
            "grid_template_columns": null,
            "grid_template_rows": null,
            "height": null,
            "justify_content": null,
            "justify_items": null,
            "left": null,
            "margin": null,
            "max_height": null,
            "max_width": null,
            "min_height": null,
            "min_width": null,
            "object_fit": null,
            "object_position": null,
            "order": null,
            "overflow": null,
            "overflow_x": null,
            "overflow_y": null,
            "padding": null,
            "right": null,
            "top": null,
            "visibility": null,
            "width": null
          }
        },
        "df02e74d7b034bfe9a750da47a167932": {
          "model_module": "@jupyter-widgets/controls",
          "model_name": "DescriptionStyleModel",
          "model_module_version": "1.5.0",
          "state": {
            "_model_module": "@jupyter-widgets/controls",
            "_model_module_version": "1.5.0",
            "_model_name": "DescriptionStyleModel",
            "_view_count": null,
            "_view_module": "@jupyter-widgets/base",
            "_view_module_version": "1.2.0",
            "_view_name": "StyleView",
            "description_width": ""
          }
        },
        "781b02537a8343d298847bdc2e58d0c3": {
          "model_module": "@jupyter-widgets/controls",
          "model_name": "HBoxModel",
          "model_module_version": "1.5.0",
          "state": {
            "_dom_classes": [],
            "_model_module": "@jupyter-widgets/controls",
            "_model_module_version": "1.5.0",
            "_model_name": "HBoxModel",
            "_view_count": null,
            "_view_module": "@jupyter-widgets/controls",
            "_view_module_version": "1.5.0",
            "_view_name": "HBoxView",
            "box_style": "",
            "children": [
              "IPY_MODEL_39518b79e8224b58bee2bbd4b5f171b1",
              "IPY_MODEL_c1e6572c8dc548ad93069d38979c2a9d",
              "IPY_MODEL_e15d49406f164853b8c156f678dd96dc"
            ],
            "layout": "IPY_MODEL_b715fbcf67914499882cd1fca9133e90"
          }
        },
        "39518b79e8224b58bee2bbd4b5f171b1": {
          "model_module": "@jupyter-widgets/controls",
          "model_name": "HTMLModel",
          "model_module_version": "1.5.0",
          "state": {
            "_dom_classes": [],
            "_model_module": "@jupyter-widgets/controls",
            "_model_module_version": "1.5.0",
            "_model_name": "HTMLModel",
            "_view_count": null,
            "_view_module": "@jupyter-widgets/controls",
            "_view_module_version": "1.5.0",
            "_view_name": "HTMLView",
            "description": "",
            "description_tooltip": null,
            "layout": "IPY_MODEL_76fe225262ee4acb8e2c167ee51bb6b2",
            "placeholder": "​",
            "style": "IPY_MODEL_8a72aa9aad914eeb949d67557c9f5b5a",
            "value": "Downloading: 100%"
          }
        },
        "c1e6572c8dc548ad93069d38979c2a9d": {
          "model_module": "@jupyter-widgets/controls",
          "model_name": "FloatProgressModel",
          "model_module_version": "1.5.0",
          "state": {
            "_dom_classes": [],
            "_model_module": "@jupyter-widgets/controls",
            "_model_module_version": "1.5.0",
            "_model_name": "FloatProgressModel",
            "_view_count": null,
            "_view_module": "@jupyter-widgets/controls",
            "_view_module_version": "1.5.0",
            "_view_name": "ProgressView",
            "bar_style": "success",
            "description": "",
            "description_tooltip": null,
            "layout": "IPY_MODEL_0be05605f1fa4075bd59b51d3066a44d",
            "max": 299712,
            "min": 0,
            "orientation": "horizontal",
            "style": "IPY_MODEL_7f86ac93f2ea47dd9e2e2a283f14f415",
            "value": 299712
          }
        },
        "e15d49406f164853b8c156f678dd96dc": {
          "model_module": "@jupyter-widgets/controls",
          "model_name": "HTMLModel",
          "model_module_version": "1.5.0",
          "state": {
            "_dom_classes": [],
            "_model_module": "@jupyter-widgets/controls",
            "_model_module_version": "1.5.0",
            "_model_name": "HTMLModel",
            "_view_count": null,
            "_view_module": "@jupyter-widgets/controls",
            "_view_module_version": "1.5.0",
            "_view_name": "HTMLView",
            "description": "",
            "description_tooltip": null,
            "layout": "IPY_MODEL_81eb4028af2b4f96bbd9d6afd0c77e5f",
            "placeholder": "​",
            "style": "IPY_MODEL_22b809c19ce04cc8b10105645a7d6c07",
            "value": ""
          }
        },
        "b715fbcf67914499882cd1fca9133e90": {
          "model_module": "@jupyter-widgets/base",
          "model_name": "LayoutModel",
          "model_module_version": "1.2.0",
          "state": {
            "_model_module": "@jupyter-widgets/base",
            "_model_module_version": "1.2.0",
            "_model_name": "LayoutModel",
            "_view_count": null,
            "_view_module": "@jupyter-widgets/base",
            "_view_module_version": "1.2.0",
            "_view_name": "LayoutView",
            "align_content": null,
            "align_items": null,
            "align_self": null,
            "border": null,
            "bottom": null,
            "display": null,
            "flex": null,
            "flex_flow": null,
            "grid_area": null,
            "grid_auto_columns": null,
            "grid_auto_flow": null,
            "grid_auto_rows": null,
            "grid_column": null,
            "grid_gap": null,
            "grid_row": null,
            "grid_template_areas": null,
            "grid_template_columns": null,
            "grid_template_rows": null,
            "height": null,
            "justify_content": null,
            "justify_items": null,
            "left": null,
            "margin": null,
            "max_height": null,
            "max_width": null,
            "min_height": null,
            "min_width": null,
            "object_fit": null,
            "object_position": null,
            "order": null,
            "overflow": null,
            "overflow_x": null,
            "overflow_y": null,
            "padding": null,
            "right": null,
            "top": null,
            "visibility": null,
            "width": null
          }
        },
        "76fe225262ee4acb8e2c167ee51bb6b2": {
          "model_module": "@jupyter-widgets/base",
          "model_name": "LayoutModel",
          "model_module_version": "1.2.0",
          "state": {
            "_model_module": "@jupyter-widgets/base",
            "_model_module_version": "1.2.0",
            "_model_name": "LayoutModel",
            "_view_count": null,
            "_view_module": "@jupyter-widgets/base",
            "_view_module_version": "1.2.0",
            "_view_name": "LayoutView",
            "align_content": null,
            "align_items": null,
            "align_self": null,
            "border": null,
            "bottom": null,
            "display": null,
            "flex": null,
            "flex_flow": null,
            "grid_area": null,
            "grid_auto_columns": null,
            "grid_auto_flow": null,
            "grid_auto_rows": null,
            "grid_column": null,
            "grid_gap": null,
            "grid_row": null,
            "grid_template_areas": null,
            "grid_template_columns": null,
            "grid_template_rows": null,
            "height": null,
            "justify_content": null,
            "justify_items": null,
            "left": null,
            "margin": null,
            "max_height": null,
            "max_width": null,
            "min_height": null,
            "min_width": null,
            "object_fit": null,
            "object_position": null,
            "order": null,
            "overflow": null,
            "overflow_x": null,
            "overflow_y": null,
            "padding": null,
            "right": null,
            "top": null,
            "visibility": null,
            "width": null
          }
        },
        "8a72aa9aad914eeb949d67557c9f5b5a": {
          "model_module": "@jupyter-widgets/controls",
          "model_name": "DescriptionStyleModel",
          "model_module_version": "1.5.0",
          "state": {
            "_model_module": "@jupyter-widgets/controls",
            "_model_module_version": "1.5.0",
            "_model_name": "DescriptionStyleModel",
            "_view_count": null,
            "_view_module": "@jupyter-widgets/base",
            "_view_module_version": "1.2.0",
            "_view_name": "StyleView",
            "description_width": ""
          }
        },
        "0be05605f1fa4075bd59b51d3066a44d": {
          "model_module": "@jupyter-widgets/base",
          "model_name": "LayoutModel",
          "model_module_version": "1.2.0",
          "state": {
            "_model_module": "@jupyter-widgets/base",
            "_model_module_version": "1.2.0",
            "_model_name": "LayoutModel",
            "_view_count": null,
            "_view_module": "@jupyter-widgets/base",
            "_view_module_version": "1.2.0",
            "_view_name": "LayoutView",
            "align_content": null,
            "align_items": null,
            "align_self": null,
            "border": null,
            "bottom": null,
            "display": null,
            "flex": null,
            "flex_flow": null,
            "grid_area": null,
            "grid_auto_columns": null,
            "grid_auto_flow": null,
            "grid_auto_rows": null,
            "grid_column": null,
            "grid_gap": null,
            "grid_row": null,
            "grid_template_areas": null,
            "grid_template_columns": null,
            "grid_template_rows": null,
            "height": null,
            "justify_content": null,
            "justify_items": null,
            "left": null,
            "margin": null,
            "max_height": null,
            "max_width": null,
            "min_height": null,
            "min_width": null,
            "object_fit": null,
            "object_position": null,
            "order": null,
            "overflow": null,
            "overflow_x": null,
            "overflow_y": null,
            "padding": null,
            "right": null,
            "top": null,
            "visibility": null,
            "width": null
          }
        },
        "7f86ac93f2ea47dd9e2e2a283f14f415": {
          "model_module": "@jupyter-widgets/controls",
          "model_name": "ProgressStyleModel",
          "model_module_version": "1.5.0",
          "state": {
            "_model_module": "@jupyter-widgets/controls",
            "_model_module_version": "1.5.0",
            "_model_name": "ProgressStyleModel",
            "_view_count": null,
            "_view_module": "@jupyter-widgets/base",
            "_view_module_version": "1.2.0",
            "_view_name": "StyleView",
            "bar_color": null,
            "description_width": ""
          }
        },
        "81eb4028af2b4f96bbd9d6afd0c77e5f": {
          "model_module": "@jupyter-widgets/base",
          "model_name": "LayoutModel",
          "model_module_version": "1.2.0",
          "state": {
            "_model_module": "@jupyter-widgets/base",
            "_model_module_version": "1.2.0",
            "_model_name": "LayoutModel",
            "_view_count": null,
            "_view_module": "@jupyter-widgets/base",
            "_view_module_version": "1.2.0",
            "_view_name": "LayoutView",
            "align_content": null,
            "align_items": null,
            "align_self": null,
            "border": null,
            "bottom": null,
            "display": null,
            "flex": null,
            "flex_flow": null,
            "grid_area": null,
            "grid_auto_columns": null,
            "grid_auto_flow": null,
            "grid_auto_rows": null,
            "grid_column": null,
            "grid_gap": null,
            "grid_row": null,
            "grid_template_areas": null,
            "grid_template_columns": null,
            "grid_template_rows": null,
            "height": null,
            "justify_content": null,
            "justify_items": null,
            "left": null,
            "margin": null,
            "max_height": null,
            "max_width": null,
            "min_height": null,
            "min_width": null,
            "object_fit": null,
            "object_position": null,
            "order": null,
            "overflow": null,
            "overflow_x": null,
            "overflow_y": null,
            "padding": null,
            "right": null,
            "top": null,
            "visibility": null,
            "width": null
          }
        },
        "22b809c19ce04cc8b10105645a7d6c07": {
          "model_module": "@jupyter-widgets/controls",
          "model_name": "DescriptionStyleModel",
          "model_module_version": "1.5.0",
          "state": {
            "_model_module": "@jupyter-widgets/controls",
            "_model_module_version": "1.5.0",
            "_model_name": "DescriptionStyleModel",
            "_view_count": null,
            "_view_module": "@jupyter-widgets/base",
            "_view_module_version": "1.2.0",
            "_view_name": "StyleView",
            "description_width": ""
          }
        },
        "d35e9bd8d8744c49b53372997c2bdcfb": {
          "model_module": "@jupyter-widgets/controls",
          "model_name": "HBoxModel",
          "model_module_version": "1.5.0",
          "state": {
            "_dom_classes": [],
            "_model_module": "@jupyter-widgets/controls",
            "_model_module_version": "1.5.0",
            "_model_name": "HBoxModel",
            "_view_count": null,
            "_view_module": "@jupyter-widgets/controls",
            "_view_module_version": "1.5.0",
            "_view_name": "HBoxView",
            "box_style": "",
            "children": [
              "IPY_MODEL_3453390a0a284ab0a3a8ec1774177e5e",
              "IPY_MODEL_bcecb0ad33d8456a854cf4f051af0b3d",
              "IPY_MODEL_0f2439e6d2e9474c9d10d7b52a3b3f9e"
            ],
            "layout": "IPY_MODEL_cd6f18dbd702472ca6732f387d61577c"
          }
        },
        "3453390a0a284ab0a3a8ec1774177e5e": {
          "model_module": "@jupyter-widgets/controls",
          "model_name": "HTMLModel",
          "model_module_version": "1.5.0",
          "state": {
            "_dom_classes": [],
            "_model_module": "@jupyter-widgets/controls",
            "_model_module_version": "1.5.0",
            "_model_name": "HTMLModel",
            "_view_count": null,
            "_view_module": "@jupyter-widgets/controls",
            "_view_module_version": "1.5.0",
            "_view_name": "HTMLView",
            "description": "",
            "description_tooltip": null,
            "layout": "IPY_MODEL_bfdcb4de95524bb985a74fd067cdc8c1",
            "placeholder": "​",
            "style": "IPY_MODEL_51d3a54fa044442e9b027010a237de40",
            "value": "Job ID c6bccbae-28f6-4c2c-8484-cd394d6d8d38 successfully executed: 100%"
          }
        },
        "bcecb0ad33d8456a854cf4f051af0b3d": {
          "model_module": "@jupyter-widgets/controls",
          "model_name": "FloatProgressModel",
          "model_module_version": "1.5.0",
          "state": {
            "_dom_classes": [],
            "_model_module": "@jupyter-widgets/controls",
            "_model_module_version": "1.5.0",
            "_model_name": "FloatProgressModel",
            "_view_count": null,
            "_view_module": "@jupyter-widgets/controls",
            "_view_module_version": "1.5.0",
            "_view_name": "ProgressView",
            "bar_style": "success",
            "description": "",
            "description_tooltip": null,
            "layout": "IPY_MODEL_761c582ae50b4c368044ccff355ab705",
            "max": 1,
            "min": 0,
            "orientation": "horizontal",
            "style": "IPY_MODEL_e2fe949d1b1e49c2bd1f8e9aaea984cd",
            "value": 1
          }
        },
        "0f2439e6d2e9474c9d10d7b52a3b3f9e": {
          "model_module": "@jupyter-widgets/controls",
          "model_name": "HTMLModel",
          "model_module_version": "1.5.0",
          "state": {
            "_dom_classes": [],
            "_model_module": "@jupyter-widgets/controls",
            "_model_module_version": "1.5.0",
            "_model_name": "HTMLModel",
            "_view_count": null,
            "_view_module": "@jupyter-widgets/controls",
            "_view_module_version": "1.5.0",
            "_view_name": "HTMLView",
            "description": "",
            "description_tooltip": null,
            "layout": "IPY_MODEL_80e308a7f0704100a1c4568c7a2229a9",
            "placeholder": "​",
            "style": "IPY_MODEL_b1314bd644154e979acbe7913b58c374",
            "value": ""
          }
        },
        "cd6f18dbd702472ca6732f387d61577c": {
          "model_module": "@jupyter-widgets/base",
          "model_name": "LayoutModel",
          "model_module_version": "1.2.0",
          "state": {
            "_model_module": "@jupyter-widgets/base",
            "_model_module_version": "1.2.0",
            "_model_name": "LayoutModel",
            "_view_count": null,
            "_view_module": "@jupyter-widgets/base",
            "_view_module_version": "1.2.0",
            "_view_name": "LayoutView",
            "align_content": null,
            "align_items": null,
            "align_self": null,
            "border": null,
            "bottom": null,
            "display": null,
            "flex": null,
            "flex_flow": null,
            "grid_area": null,
            "grid_auto_columns": null,
            "grid_auto_flow": null,
            "grid_auto_rows": null,
            "grid_column": null,
            "grid_gap": null,
            "grid_row": null,
            "grid_template_areas": null,
            "grid_template_columns": null,
            "grid_template_rows": null,
            "height": null,
            "justify_content": null,
            "justify_items": null,
            "left": null,
            "margin": null,
            "max_height": null,
            "max_width": null,
            "min_height": null,
            "min_width": null,
            "object_fit": null,
            "object_position": null,
            "order": null,
            "overflow": null,
            "overflow_x": null,
            "overflow_y": null,
            "padding": null,
            "right": null,
            "top": null,
            "visibility": null,
            "width": null
          }
        },
        "bfdcb4de95524bb985a74fd067cdc8c1": {
          "model_module": "@jupyter-widgets/base",
          "model_name": "LayoutModel",
          "model_module_version": "1.2.0",
          "state": {
            "_model_module": "@jupyter-widgets/base",
            "_model_module_version": "1.2.0",
            "_model_name": "LayoutModel",
            "_view_count": null,
            "_view_module": "@jupyter-widgets/base",
            "_view_module_version": "1.2.0",
            "_view_name": "LayoutView",
            "align_content": null,
            "align_items": null,
            "align_self": null,
            "border": null,
            "bottom": null,
            "display": null,
            "flex": null,
            "flex_flow": null,
            "grid_area": null,
            "grid_auto_columns": null,
            "grid_auto_flow": null,
            "grid_auto_rows": null,
            "grid_column": null,
            "grid_gap": null,
            "grid_row": null,
            "grid_template_areas": null,
            "grid_template_columns": null,
            "grid_template_rows": null,
            "height": null,
            "justify_content": null,
            "justify_items": null,
            "left": null,
            "margin": null,
            "max_height": null,
            "max_width": null,
            "min_height": null,
            "min_width": null,
            "object_fit": null,
            "object_position": null,
            "order": null,
            "overflow": null,
            "overflow_x": null,
            "overflow_y": null,
            "padding": null,
            "right": null,
            "top": null,
            "visibility": null,
            "width": null
          }
        },
        "51d3a54fa044442e9b027010a237de40": {
          "model_module": "@jupyter-widgets/controls",
          "model_name": "DescriptionStyleModel",
          "model_module_version": "1.5.0",
          "state": {
            "_model_module": "@jupyter-widgets/controls",
            "_model_module_version": "1.5.0",
            "_model_name": "DescriptionStyleModel",
            "_view_count": null,
            "_view_module": "@jupyter-widgets/base",
            "_view_module_version": "1.2.0",
            "_view_name": "StyleView",
            "description_width": ""
          }
        },
        "761c582ae50b4c368044ccff355ab705": {
          "model_module": "@jupyter-widgets/base",
          "model_name": "LayoutModel",
          "model_module_version": "1.2.0",
          "state": {
            "_model_module": "@jupyter-widgets/base",
            "_model_module_version": "1.2.0",
            "_model_name": "LayoutModel",
            "_view_count": null,
            "_view_module": "@jupyter-widgets/base",
            "_view_module_version": "1.2.0",
            "_view_name": "LayoutView",
            "align_content": null,
            "align_items": null,
            "align_self": null,
            "border": null,
            "bottom": null,
            "display": null,
            "flex": null,
            "flex_flow": null,
            "grid_area": null,
            "grid_auto_columns": null,
            "grid_auto_flow": null,
            "grid_auto_rows": null,
            "grid_column": null,
            "grid_gap": null,
            "grid_row": null,
            "grid_template_areas": null,
            "grid_template_columns": null,
            "grid_template_rows": null,
            "height": null,
            "justify_content": null,
            "justify_items": null,
            "left": null,
            "margin": null,
            "max_height": null,
            "max_width": null,
            "min_height": null,
            "min_width": null,
            "object_fit": null,
            "object_position": null,
            "order": null,
            "overflow": null,
            "overflow_x": null,
            "overflow_y": null,
            "padding": null,
            "right": null,
            "top": null,
            "visibility": null,
            "width": null
          }
        },
        "e2fe949d1b1e49c2bd1f8e9aaea984cd": {
          "model_module": "@jupyter-widgets/controls",
          "model_name": "ProgressStyleModel",
          "model_module_version": "1.5.0",
          "state": {
            "_model_module": "@jupyter-widgets/controls",
            "_model_module_version": "1.5.0",
            "_model_name": "ProgressStyleModel",
            "_view_count": null,
            "_view_module": "@jupyter-widgets/base",
            "_view_module_version": "1.2.0",
            "_view_name": "StyleView",
            "bar_color": null,
            "description_width": ""
          }
        },
        "80e308a7f0704100a1c4568c7a2229a9": {
          "model_module": "@jupyter-widgets/base",
          "model_name": "LayoutModel",
          "model_module_version": "1.2.0",
          "state": {
            "_model_module": "@jupyter-widgets/base",
            "_model_module_version": "1.2.0",
            "_model_name": "LayoutModel",
            "_view_count": null,
            "_view_module": "@jupyter-widgets/base",
            "_view_module_version": "1.2.0",
            "_view_name": "LayoutView",
            "align_content": null,
            "align_items": null,
            "align_self": null,
            "border": null,
            "bottom": null,
            "display": null,
            "flex": null,
            "flex_flow": null,
            "grid_area": null,
            "grid_auto_columns": null,
            "grid_auto_flow": null,
            "grid_auto_rows": null,
            "grid_column": null,
            "grid_gap": null,
            "grid_row": null,
            "grid_template_areas": null,
            "grid_template_columns": null,
            "grid_template_rows": null,
            "height": null,
            "justify_content": null,
            "justify_items": null,
            "left": null,
            "margin": null,
            "max_height": null,
            "max_width": null,
            "min_height": null,
            "min_width": null,
            "object_fit": null,
            "object_position": null,
            "order": null,
            "overflow": null,
            "overflow_x": null,
            "overflow_y": null,
            "padding": null,
            "right": null,
            "top": null,
            "visibility": null,
            "width": null
          }
        },
        "b1314bd644154e979acbe7913b58c374": {
          "model_module": "@jupyter-widgets/controls",
          "model_name": "DescriptionStyleModel",
          "model_module_version": "1.5.0",
          "state": {
            "_model_module": "@jupyter-widgets/controls",
            "_model_module_version": "1.5.0",
            "_model_name": "DescriptionStyleModel",
            "_view_count": null,
            "_view_module": "@jupyter-widgets/base",
            "_view_module_version": "1.2.0",
            "_view_name": "StyleView",
            "description_width": ""
          }
        },
        "4fdbce6c53db46ee96a02af3e9b9b1cf": {
          "model_module": "@jupyter-widgets/controls",
          "model_name": "HBoxModel",
          "model_module_version": "1.5.0",
          "state": {
            "_dom_classes": [],
            "_model_module": "@jupyter-widgets/controls",
            "_model_module_version": "1.5.0",
            "_model_name": "HBoxModel",
            "_view_count": null,
            "_view_module": "@jupyter-widgets/controls",
            "_view_module_version": "1.5.0",
            "_view_name": "HBoxView",
            "box_style": "",
            "children": [
              "IPY_MODEL_400405a714264761b8c46a0282588008",
              "IPY_MODEL_42ad999bba8b4e66accf0a968da88ce7",
              "IPY_MODEL_457aae5824eb41d5b27443c1eafd982a"
            ],
            "layout": "IPY_MODEL_f58bc62967724162b5758245404fdb8c"
          }
        },
        "400405a714264761b8c46a0282588008": {
          "model_module": "@jupyter-widgets/controls",
          "model_name": "HTMLModel",
          "model_module_version": "1.5.0",
          "state": {
            "_dom_classes": [],
            "_model_module": "@jupyter-widgets/controls",
            "_model_module_version": "1.5.0",
            "_model_name": "HTMLModel",
            "_view_count": null,
            "_view_module": "@jupyter-widgets/controls",
            "_view_module_version": "1.5.0",
            "_view_name": "HTMLView",
            "description": "",
            "description_tooltip": null,
            "layout": "IPY_MODEL_20939b39ded1460f88500e8e72148d4d",
            "placeholder": "​",
            "style": "IPY_MODEL_918cd2ecb3e94117a663d8dc0d1671c7",
            "value": "Downloading: 100%"
          }
        },
        "42ad999bba8b4e66accf0a968da88ce7": {
          "model_module": "@jupyter-widgets/controls",
          "model_name": "FloatProgressModel",
          "model_module_version": "1.5.0",
          "state": {
            "_dom_classes": [],
            "_model_module": "@jupyter-widgets/controls",
            "_model_module_version": "1.5.0",
            "_model_name": "FloatProgressModel",
            "_view_count": null,
            "_view_module": "@jupyter-widgets/controls",
            "_view_module_version": "1.5.0",
            "_view_name": "ProgressView",
            "bar_style": "success",
            "description": "",
            "description_tooltip": null,
            "layout": "IPY_MODEL_48a01f5da63e4add9a34c33aa82f7f3c",
            "max": 1564610,
            "min": 0,
            "orientation": "horizontal",
            "style": "IPY_MODEL_59b717902f24417e8ca1cf5575abd95c",
            "value": 1564610
          }
        },
        "457aae5824eb41d5b27443c1eafd982a": {
          "model_module": "@jupyter-widgets/controls",
          "model_name": "HTMLModel",
          "model_module_version": "1.5.0",
          "state": {
            "_dom_classes": [],
            "_model_module": "@jupyter-widgets/controls",
            "_model_module_version": "1.5.0",
            "_model_name": "HTMLModel",
            "_view_count": null,
            "_view_module": "@jupyter-widgets/controls",
            "_view_module_version": "1.5.0",
            "_view_name": "HTMLView",
            "description": "",
            "description_tooltip": null,
            "layout": "IPY_MODEL_7bee6582b2774ead82f8ad43c8d43bea",
            "placeholder": "​",
            "style": "IPY_MODEL_62a7ac3e592a41aaa50271f3ff3ca19e",
            "value": ""
          }
        },
        "f58bc62967724162b5758245404fdb8c": {
          "model_module": "@jupyter-widgets/base",
          "model_name": "LayoutModel",
          "model_module_version": "1.2.0",
          "state": {
            "_model_module": "@jupyter-widgets/base",
            "_model_module_version": "1.2.0",
            "_model_name": "LayoutModel",
            "_view_count": null,
            "_view_module": "@jupyter-widgets/base",
            "_view_module_version": "1.2.0",
            "_view_name": "LayoutView",
            "align_content": null,
            "align_items": null,
            "align_self": null,
            "border": null,
            "bottom": null,
            "display": null,
            "flex": null,
            "flex_flow": null,
            "grid_area": null,
            "grid_auto_columns": null,
            "grid_auto_flow": null,
            "grid_auto_rows": null,
            "grid_column": null,
            "grid_gap": null,
            "grid_row": null,
            "grid_template_areas": null,
            "grid_template_columns": null,
            "grid_template_rows": null,
            "height": null,
            "justify_content": null,
            "justify_items": null,
            "left": null,
            "margin": null,
            "max_height": null,
            "max_width": null,
            "min_height": null,
            "min_width": null,
            "object_fit": null,
            "object_position": null,
            "order": null,
            "overflow": null,
            "overflow_x": null,
            "overflow_y": null,
            "padding": null,
            "right": null,
            "top": null,
            "visibility": null,
            "width": null
          }
        },
        "20939b39ded1460f88500e8e72148d4d": {
          "model_module": "@jupyter-widgets/base",
          "model_name": "LayoutModel",
          "model_module_version": "1.2.0",
          "state": {
            "_model_module": "@jupyter-widgets/base",
            "_model_module_version": "1.2.0",
            "_model_name": "LayoutModel",
            "_view_count": null,
            "_view_module": "@jupyter-widgets/base",
            "_view_module_version": "1.2.0",
            "_view_name": "LayoutView",
            "align_content": null,
            "align_items": null,
            "align_self": null,
            "border": null,
            "bottom": null,
            "display": null,
            "flex": null,
            "flex_flow": null,
            "grid_area": null,
            "grid_auto_columns": null,
            "grid_auto_flow": null,
            "grid_auto_rows": null,
            "grid_column": null,
            "grid_gap": null,
            "grid_row": null,
            "grid_template_areas": null,
            "grid_template_columns": null,
            "grid_template_rows": null,
            "height": null,
            "justify_content": null,
            "justify_items": null,
            "left": null,
            "margin": null,
            "max_height": null,
            "max_width": null,
            "min_height": null,
            "min_width": null,
            "object_fit": null,
            "object_position": null,
            "order": null,
            "overflow": null,
            "overflow_x": null,
            "overflow_y": null,
            "padding": null,
            "right": null,
            "top": null,
            "visibility": null,
            "width": null
          }
        },
        "918cd2ecb3e94117a663d8dc0d1671c7": {
          "model_module": "@jupyter-widgets/controls",
          "model_name": "DescriptionStyleModel",
          "model_module_version": "1.5.0",
          "state": {
            "_model_module": "@jupyter-widgets/controls",
            "_model_module_version": "1.5.0",
            "_model_name": "DescriptionStyleModel",
            "_view_count": null,
            "_view_module": "@jupyter-widgets/base",
            "_view_module_version": "1.2.0",
            "_view_name": "StyleView",
            "description_width": ""
          }
        },
        "48a01f5da63e4add9a34c33aa82f7f3c": {
          "model_module": "@jupyter-widgets/base",
          "model_name": "LayoutModel",
          "model_module_version": "1.2.0",
          "state": {
            "_model_module": "@jupyter-widgets/base",
            "_model_module_version": "1.2.0",
            "_model_name": "LayoutModel",
            "_view_count": null,
            "_view_module": "@jupyter-widgets/base",
            "_view_module_version": "1.2.0",
            "_view_name": "LayoutView",
            "align_content": null,
            "align_items": null,
            "align_self": null,
            "border": null,
            "bottom": null,
            "display": null,
            "flex": null,
            "flex_flow": null,
            "grid_area": null,
            "grid_auto_columns": null,
            "grid_auto_flow": null,
            "grid_auto_rows": null,
            "grid_column": null,
            "grid_gap": null,
            "grid_row": null,
            "grid_template_areas": null,
            "grid_template_columns": null,
            "grid_template_rows": null,
            "height": null,
            "justify_content": null,
            "justify_items": null,
            "left": null,
            "margin": null,
            "max_height": null,
            "max_width": null,
            "min_height": null,
            "min_width": null,
            "object_fit": null,
            "object_position": null,
            "order": null,
            "overflow": null,
            "overflow_x": null,
            "overflow_y": null,
            "padding": null,
            "right": null,
            "top": null,
            "visibility": null,
            "width": null
          }
        },
        "59b717902f24417e8ca1cf5575abd95c": {
          "model_module": "@jupyter-widgets/controls",
          "model_name": "ProgressStyleModel",
          "model_module_version": "1.5.0",
          "state": {
            "_model_module": "@jupyter-widgets/controls",
            "_model_module_version": "1.5.0",
            "_model_name": "ProgressStyleModel",
            "_view_count": null,
            "_view_module": "@jupyter-widgets/base",
            "_view_module_version": "1.2.0",
            "_view_name": "StyleView",
            "bar_color": null,
            "description_width": ""
          }
        },
        "7bee6582b2774ead82f8ad43c8d43bea": {
          "model_module": "@jupyter-widgets/base",
          "model_name": "LayoutModel",
          "model_module_version": "1.2.0",
          "state": {
            "_model_module": "@jupyter-widgets/base",
            "_model_module_version": "1.2.0",
            "_model_name": "LayoutModel",
            "_view_count": null,
            "_view_module": "@jupyter-widgets/base",
            "_view_module_version": "1.2.0",
            "_view_name": "LayoutView",
            "align_content": null,
            "align_items": null,
            "align_self": null,
            "border": null,
            "bottom": null,
            "display": null,
            "flex": null,
            "flex_flow": null,
            "grid_area": null,
            "grid_auto_columns": null,
            "grid_auto_flow": null,
            "grid_auto_rows": null,
            "grid_column": null,
            "grid_gap": null,
            "grid_row": null,
            "grid_template_areas": null,
            "grid_template_columns": null,
            "grid_template_rows": null,
            "height": null,
            "justify_content": null,
            "justify_items": null,
            "left": null,
            "margin": null,
            "max_height": null,
            "max_width": null,
            "min_height": null,
            "min_width": null,
            "object_fit": null,
            "object_position": null,
            "order": null,
            "overflow": null,
            "overflow_x": null,
            "overflow_y": null,
            "padding": null,
            "right": null,
            "top": null,
            "visibility": null,
            "width": null
          }
        },
        "62a7ac3e592a41aaa50271f3ff3ca19e": {
          "model_module": "@jupyter-widgets/controls",
          "model_name": "DescriptionStyleModel",
          "model_module_version": "1.5.0",
          "state": {
            "_model_module": "@jupyter-widgets/controls",
            "_model_module_version": "1.5.0",
            "_model_name": "DescriptionStyleModel",
            "_view_count": null,
            "_view_module": "@jupyter-widgets/base",
            "_view_module_version": "1.2.0",
            "_view_name": "StyleView",
            "description_width": ""
          }
        },
        "6680e8cc4b4c415d9401e45dab932c97": {
          "model_module": "@jupyter-widgets/controls",
          "model_name": "HBoxModel",
          "model_module_version": "1.5.0",
          "state": {
            "_dom_classes": [],
            "_model_module": "@jupyter-widgets/controls",
            "_model_module_version": "1.5.0",
            "_model_name": "HBoxModel",
            "_view_count": null,
            "_view_module": "@jupyter-widgets/controls",
            "_view_module_version": "1.5.0",
            "_view_name": "HBoxView",
            "box_style": "",
            "children": [
              "IPY_MODEL_f64b862506dd49bc8cab27404e4b9982",
              "IPY_MODEL_e4decc98d26245ff9c5126d5e88773c1",
              "IPY_MODEL_e2c70642fd5d4a89b57d9ad927b0ec19"
            ],
            "layout": "IPY_MODEL_0ab520960e1f4ddd9e2741e719d35a59"
          }
        },
        "f64b862506dd49bc8cab27404e4b9982": {
          "model_module": "@jupyter-widgets/controls",
          "model_name": "HTMLModel",
          "model_module_version": "1.5.0",
          "state": {
            "_dom_classes": [],
            "_model_module": "@jupyter-widgets/controls",
            "_model_module_version": "1.5.0",
            "_model_name": "HTMLModel",
            "_view_count": null,
            "_view_module": "@jupyter-widgets/controls",
            "_view_module_version": "1.5.0",
            "_view_name": "HTMLView",
            "description": "",
            "description_tooltip": null,
            "layout": "IPY_MODEL_4cd00250ff60419db4bb5c2504bc39be",
            "placeholder": "​",
            "style": "IPY_MODEL_d6eb9d881c7742bcb308431081bad9bb",
            "value": "Job ID a7548c34-e161-45a4-9f4c-ce0ccf69a967 successfully executed: 100%"
          }
        },
        "e4decc98d26245ff9c5126d5e88773c1": {
          "model_module": "@jupyter-widgets/controls",
          "model_name": "FloatProgressModel",
          "model_module_version": "1.5.0",
          "state": {
            "_dom_classes": [],
            "_model_module": "@jupyter-widgets/controls",
            "_model_module_version": "1.5.0",
            "_model_name": "FloatProgressModel",
            "_view_count": null,
            "_view_module": "@jupyter-widgets/controls",
            "_view_module_version": "1.5.0",
            "_view_name": "ProgressView",
            "bar_style": "success",
            "description": "",
            "description_tooltip": null,
            "layout": "IPY_MODEL_fd333504fc6c4deb8de54c84fa0ff371",
            "max": 1,
            "min": 0,
            "orientation": "horizontal",
            "style": "IPY_MODEL_4c966964300148ba83eafcdbbd6a81cd",
            "value": 1
          }
        },
        "e2c70642fd5d4a89b57d9ad927b0ec19": {
          "model_module": "@jupyter-widgets/controls",
          "model_name": "HTMLModel",
          "model_module_version": "1.5.0",
          "state": {
            "_dom_classes": [],
            "_model_module": "@jupyter-widgets/controls",
            "_model_module_version": "1.5.0",
            "_model_name": "HTMLModel",
            "_view_count": null,
            "_view_module": "@jupyter-widgets/controls",
            "_view_module_version": "1.5.0",
            "_view_name": "HTMLView",
            "description": "",
            "description_tooltip": null,
            "layout": "IPY_MODEL_998ec3fcc7904256913b12b288c658a8",
            "placeholder": "​",
            "style": "IPY_MODEL_52fecc924add4b93aa92f180aa84439d",
            "value": ""
          }
        },
        "0ab520960e1f4ddd9e2741e719d35a59": {
          "model_module": "@jupyter-widgets/base",
          "model_name": "LayoutModel",
          "model_module_version": "1.2.0",
          "state": {
            "_model_module": "@jupyter-widgets/base",
            "_model_module_version": "1.2.0",
            "_model_name": "LayoutModel",
            "_view_count": null,
            "_view_module": "@jupyter-widgets/base",
            "_view_module_version": "1.2.0",
            "_view_name": "LayoutView",
            "align_content": null,
            "align_items": null,
            "align_self": null,
            "border": null,
            "bottom": null,
            "display": null,
            "flex": null,
            "flex_flow": null,
            "grid_area": null,
            "grid_auto_columns": null,
            "grid_auto_flow": null,
            "grid_auto_rows": null,
            "grid_column": null,
            "grid_gap": null,
            "grid_row": null,
            "grid_template_areas": null,
            "grid_template_columns": null,
            "grid_template_rows": null,
            "height": null,
            "justify_content": null,
            "justify_items": null,
            "left": null,
            "margin": null,
            "max_height": null,
            "max_width": null,
            "min_height": null,
            "min_width": null,
            "object_fit": null,
            "object_position": null,
            "order": null,
            "overflow": null,
            "overflow_x": null,
            "overflow_y": null,
            "padding": null,
            "right": null,
            "top": null,
            "visibility": null,
            "width": null
          }
        },
        "4cd00250ff60419db4bb5c2504bc39be": {
          "model_module": "@jupyter-widgets/base",
          "model_name": "LayoutModel",
          "model_module_version": "1.2.0",
          "state": {
            "_model_module": "@jupyter-widgets/base",
            "_model_module_version": "1.2.0",
            "_model_name": "LayoutModel",
            "_view_count": null,
            "_view_module": "@jupyter-widgets/base",
            "_view_module_version": "1.2.0",
            "_view_name": "LayoutView",
            "align_content": null,
            "align_items": null,
            "align_self": null,
            "border": null,
            "bottom": null,
            "display": null,
            "flex": null,
            "flex_flow": null,
            "grid_area": null,
            "grid_auto_columns": null,
            "grid_auto_flow": null,
            "grid_auto_rows": null,
            "grid_column": null,
            "grid_gap": null,
            "grid_row": null,
            "grid_template_areas": null,
            "grid_template_columns": null,
            "grid_template_rows": null,
            "height": null,
            "justify_content": null,
            "justify_items": null,
            "left": null,
            "margin": null,
            "max_height": null,
            "max_width": null,
            "min_height": null,
            "min_width": null,
            "object_fit": null,
            "object_position": null,
            "order": null,
            "overflow": null,
            "overflow_x": null,
            "overflow_y": null,
            "padding": null,
            "right": null,
            "top": null,
            "visibility": null,
            "width": null
          }
        },
        "d6eb9d881c7742bcb308431081bad9bb": {
          "model_module": "@jupyter-widgets/controls",
          "model_name": "DescriptionStyleModel",
          "model_module_version": "1.5.0",
          "state": {
            "_model_module": "@jupyter-widgets/controls",
            "_model_module_version": "1.5.0",
            "_model_name": "DescriptionStyleModel",
            "_view_count": null,
            "_view_module": "@jupyter-widgets/base",
            "_view_module_version": "1.2.0",
            "_view_name": "StyleView",
            "description_width": ""
          }
        },
        "fd333504fc6c4deb8de54c84fa0ff371": {
          "model_module": "@jupyter-widgets/base",
          "model_name": "LayoutModel",
          "model_module_version": "1.2.0",
          "state": {
            "_model_module": "@jupyter-widgets/base",
            "_model_module_version": "1.2.0",
            "_model_name": "LayoutModel",
            "_view_count": null,
            "_view_module": "@jupyter-widgets/base",
            "_view_module_version": "1.2.0",
            "_view_name": "LayoutView",
            "align_content": null,
            "align_items": null,
            "align_self": null,
            "border": null,
            "bottom": null,
            "display": null,
            "flex": null,
            "flex_flow": null,
            "grid_area": null,
            "grid_auto_columns": null,
            "grid_auto_flow": null,
            "grid_auto_rows": null,
            "grid_column": null,
            "grid_gap": null,
            "grid_row": null,
            "grid_template_areas": null,
            "grid_template_columns": null,
            "grid_template_rows": null,
            "height": null,
            "justify_content": null,
            "justify_items": null,
            "left": null,
            "margin": null,
            "max_height": null,
            "max_width": null,
            "min_height": null,
            "min_width": null,
            "object_fit": null,
            "object_position": null,
            "order": null,
            "overflow": null,
            "overflow_x": null,
            "overflow_y": null,
            "padding": null,
            "right": null,
            "top": null,
            "visibility": null,
            "width": null
          }
        },
        "4c966964300148ba83eafcdbbd6a81cd": {
          "model_module": "@jupyter-widgets/controls",
          "model_name": "ProgressStyleModel",
          "model_module_version": "1.5.0",
          "state": {
            "_model_module": "@jupyter-widgets/controls",
            "_model_module_version": "1.5.0",
            "_model_name": "ProgressStyleModel",
            "_view_count": null,
            "_view_module": "@jupyter-widgets/base",
            "_view_module_version": "1.2.0",
            "_view_name": "StyleView",
            "bar_color": null,
            "description_width": ""
          }
        },
        "998ec3fcc7904256913b12b288c658a8": {
          "model_module": "@jupyter-widgets/base",
          "model_name": "LayoutModel",
          "model_module_version": "1.2.0",
          "state": {
            "_model_module": "@jupyter-widgets/base",
            "_model_module_version": "1.2.0",
            "_model_name": "LayoutModel",
            "_view_count": null,
            "_view_module": "@jupyter-widgets/base",
            "_view_module_version": "1.2.0",
            "_view_name": "LayoutView",
            "align_content": null,
            "align_items": null,
            "align_self": null,
            "border": null,
            "bottom": null,
            "display": null,
            "flex": null,
            "flex_flow": null,
            "grid_area": null,
            "grid_auto_columns": null,
            "grid_auto_flow": null,
            "grid_auto_rows": null,
            "grid_column": null,
            "grid_gap": null,
            "grid_row": null,
            "grid_template_areas": null,
            "grid_template_columns": null,
            "grid_template_rows": null,
            "height": null,
            "justify_content": null,
            "justify_items": null,
            "left": null,
            "margin": null,
            "max_height": null,
            "max_width": null,
            "min_height": null,
            "min_width": null,
            "object_fit": null,
            "object_position": null,
            "order": null,
            "overflow": null,
            "overflow_x": null,
            "overflow_y": null,
            "padding": null,
            "right": null,
            "top": null,
            "visibility": null,
            "width": null
          }
        },
        "52fecc924add4b93aa92f180aa84439d": {
          "model_module": "@jupyter-widgets/controls",
          "model_name": "DescriptionStyleModel",
          "model_module_version": "1.5.0",
          "state": {
            "_model_module": "@jupyter-widgets/controls",
            "_model_module_version": "1.5.0",
            "_model_name": "DescriptionStyleModel",
            "_view_count": null,
            "_view_module": "@jupyter-widgets/base",
            "_view_module_version": "1.2.0",
            "_view_name": "StyleView",
            "description_width": ""
          }
        },
        "0229142c5f1048f2a40ca1b1131d6803": {
          "model_module": "@jupyter-widgets/controls",
          "model_name": "HBoxModel",
          "model_module_version": "1.5.0",
          "state": {
            "_dom_classes": [],
            "_model_module": "@jupyter-widgets/controls",
            "_model_module_version": "1.5.0",
            "_model_name": "HBoxModel",
            "_view_count": null,
            "_view_module": "@jupyter-widgets/controls",
            "_view_module_version": "1.5.0",
            "_view_name": "HBoxView",
            "box_style": "",
            "children": [
              "IPY_MODEL_3601121b511a487ba9ff296c64690431",
              "IPY_MODEL_c800cf1dbc0b4069a9a4d57d99872af3",
              "IPY_MODEL_3fa6f4c7edaa4399aafb7a0136da5512"
            ],
            "layout": "IPY_MODEL_e2a921e5ab7e4b3cbab76f4ec365a076"
          }
        },
        "3601121b511a487ba9ff296c64690431": {
          "model_module": "@jupyter-widgets/controls",
          "model_name": "HTMLModel",
          "model_module_version": "1.5.0",
          "state": {
            "_dom_classes": [],
            "_model_module": "@jupyter-widgets/controls",
            "_model_module_version": "1.5.0",
            "_model_name": "HTMLModel",
            "_view_count": null,
            "_view_module": "@jupyter-widgets/controls",
            "_view_module_version": "1.5.0",
            "_view_name": "HTMLView",
            "description": "",
            "description_tooltip": null,
            "layout": "IPY_MODEL_d4a7847c2c2044499b4f4556f85d97c2",
            "placeholder": "​",
            "style": "IPY_MODEL_a0c7e609521846b787d77babca8628d6",
            "value": "Downloading: 100%"
          }
        },
        "c800cf1dbc0b4069a9a4d57d99872af3": {
          "model_module": "@jupyter-widgets/controls",
          "model_name": "FloatProgressModel",
          "model_module_version": "1.5.0",
          "state": {
            "_dom_classes": [],
            "_model_module": "@jupyter-widgets/controls",
            "_model_module_version": "1.5.0",
            "_model_name": "FloatProgressModel",
            "_view_count": null,
            "_view_module": "@jupyter-widgets/controls",
            "_view_module_version": "1.5.0",
            "_view_name": "ProgressView",
            "bar_style": "success",
            "description": "",
            "description_tooltip": null,
            "layout": "IPY_MODEL_bd040640a8274f45846a49d035d2e7d2",
            "max": 425087,
            "min": 0,
            "orientation": "horizontal",
            "style": "IPY_MODEL_2cc9c9a3df38464db0fa33527ec37779",
            "value": 425087
          }
        },
        "3fa6f4c7edaa4399aafb7a0136da5512": {
          "model_module": "@jupyter-widgets/controls",
          "model_name": "HTMLModel",
          "model_module_version": "1.5.0",
          "state": {
            "_dom_classes": [],
            "_model_module": "@jupyter-widgets/controls",
            "_model_module_version": "1.5.0",
            "_model_name": "HTMLModel",
            "_view_count": null,
            "_view_module": "@jupyter-widgets/controls",
            "_view_module_version": "1.5.0",
            "_view_name": "HTMLView",
            "description": "",
            "description_tooltip": null,
            "layout": "IPY_MODEL_ae61de18b8bc432fa0a655051170ed94",
            "placeholder": "​",
            "style": "IPY_MODEL_8c57cad7434342ce8c94372c1b46cf3c",
            "value": ""
          }
        },
        "e2a921e5ab7e4b3cbab76f4ec365a076": {
          "model_module": "@jupyter-widgets/base",
          "model_name": "LayoutModel",
          "model_module_version": "1.2.0",
          "state": {
            "_model_module": "@jupyter-widgets/base",
            "_model_module_version": "1.2.0",
            "_model_name": "LayoutModel",
            "_view_count": null,
            "_view_module": "@jupyter-widgets/base",
            "_view_module_version": "1.2.0",
            "_view_name": "LayoutView",
            "align_content": null,
            "align_items": null,
            "align_self": null,
            "border": null,
            "bottom": null,
            "display": null,
            "flex": null,
            "flex_flow": null,
            "grid_area": null,
            "grid_auto_columns": null,
            "grid_auto_flow": null,
            "grid_auto_rows": null,
            "grid_column": null,
            "grid_gap": null,
            "grid_row": null,
            "grid_template_areas": null,
            "grid_template_columns": null,
            "grid_template_rows": null,
            "height": null,
            "justify_content": null,
            "justify_items": null,
            "left": null,
            "margin": null,
            "max_height": null,
            "max_width": null,
            "min_height": null,
            "min_width": null,
            "object_fit": null,
            "object_position": null,
            "order": null,
            "overflow": null,
            "overflow_x": null,
            "overflow_y": null,
            "padding": null,
            "right": null,
            "top": null,
            "visibility": null,
            "width": null
          }
        },
        "d4a7847c2c2044499b4f4556f85d97c2": {
          "model_module": "@jupyter-widgets/base",
          "model_name": "LayoutModel",
          "model_module_version": "1.2.0",
          "state": {
            "_model_module": "@jupyter-widgets/base",
            "_model_module_version": "1.2.0",
            "_model_name": "LayoutModel",
            "_view_count": null,
            "_view_module": "@jupyter-widgets/base",
            "_view_module_version": "1.2.0",
            "_view_name": "LayoutView",
            "align_content": null,
            "align_items": null,
            "align_self": null,
            "border": null,
            "bottom": null,
            "display": null,
            "flex": null,
            "flex_flow": null,
            "grid_area": null,
            "grid_auto_columns": null,
            "grid_auto_flow": null,
            "grid_auto_rows": null,
            "grid_column": null,
            "grid_gap": null,
            "grid_row": null,
            "grid_template_areas": null,
            "grid_template_columns": null,
            "grid_template_rows": null,
            "height": null,
            "justify_content": null,
            "justify_items": null,
            "left": null,
            "margin": null,
            "max_height": null,
            "max_width": null,
            "min_height": null,
            "min_width": null,
            "object_fit": null,
            "object_position": null,
            "order": null,
            "overflow": null,
            "overflow_x": null,
            "overflow_y": null,
            "padding": null,
            "right": null,
            "top": null,
            "visibility": null,
            "width": null
          }
        },
        "a0c7e609521846b787d77babca8628d6": {
          "model_module": "@jupyter-widgets/controls",
          "model_name": "DescriptionStyleModel",
          "model_module_version": "1.5.0",
          "state": {
            "_model_module": "@jupyter-widgets/controls",
            "_model_module_version": "1.5.0",
            "_model_name": "DescriptionStyleModel",
            "_view_count": null,
            "_view_module": "@jupyter-widgets/base",
            "_view_module_version": "1.2.0",
            "_view_name": "StyleView",
            "description_width": ""
          }
        },
        "bd040640a8274f45846a49d035d2e7d2": {
          "model_module": "@jupyter-widgets/base",
          "model_name": "LayoutModel",
          "model_module_version": "1.2.0",
          "state": {
            "_model_module": "@jupyter-widgets/base",
            "_model_module_version": "1.2.0",
            "_model_name": "LayoutModel",
            "_view_count": null,
            "_view_module": "@jupyter-widgets/base",
            "_view_module_version": "1.2.0",
            "_view_name": "LayoutView",
            "align_content": null,
            "align_items": null,
            "align_self": null,
            "border": null,
            "bottom": null,
            "display": null,
            "flex": null,
            "flex_flow": null,
            "grid_area": null,
            "grid_auto_columns": null,
            "grid_auto_flow": null,
            "grid_auto_rows": null,
            "grid_column": null,
            "grid_gap": null,
            "grid_row": null,
            "grid_template_areas": null,
            "grid_template_columns": null,
            "grid_template_rows": null,
            "height": null,
            "justify_content": null,
            "justify_items": null,
            "left": null,
            "margin": null,
            "max_height": null,
            "max_width": null,
            "min_height": null,
            "min_width": null,
            "object_fit": null,
            "object_position": null,
            "order": null,
            "overflow": null,
            "overflow_x": null,
            "overflow_y": null,
            "padding": null,
            "right": null,
            "top": null,
            "visibility": null,
            "width": null
          }
        },
        "2cc9c9a3df38464db0fa33527ec37779": {
          "model_module": "@jupyter-widgets/controls",
          "model_name": "ProgressStyleModel",
          "model_module_version": "1.5.0",
          "state": {
            "_model_module": "@jupyter-widgets/controls",
            "_model_module_version": "1.5.0",
            "_model_name": "ProgressStyleModel",
            "_view_count": null,
            "_view_module": "@jupyter-widgets/base",
            "_view_module_version": "1.2.0",
            "_view_name": "StyleView",
            "bar_color": null,
            "description_width": ""
          }
        },
        "ae61de18b8bc432fa0a655051170ed94": {
          "model_module": "@jupyter-widgets/base",
          "model_name": "LayoutModel",
          "model_module_version": "1.2.0",
          "state": {
            "_model_module": "@jupyter-widgets/base",
            "_model_module_version": "1.2.0",
            "_model_name": "LayoutModel",
            "_view_count": null,
            "_view_module": "@jupyter-widgets/base",
            "_view_module_version": "1.2.0",
            "_view_name": "LayoutView",
            "align_content": null,
            "align_items": null,
            "align_self": null,
            "border": null,
            "bottom": null,
            "display": null,
            "flex": null,
            "flex_flow": null,
            "grid_area": null,
            "grid_auto_columns": null,
            "grid_auto_flow": null,
            "grid_auto_rows": null,
            "grid_column": null,
            "grid_gap": null,
            "grid_row": null,
            "grid_template_areas": null,
            "grid_template_columns": null,
            "grid_template_rows": null,
            "height": null,
            "justify_content": null,
            "justify_items": null,
            "left": null,
            "margin": null,
            "max_height": null,
            "max_width": null,
            "min_height": null,
            "min_width": null,
            "object_fit": null,
            "object_position": null,
            "order": null,
            "overflow": null,
            "overflow_x": null,
            "overflow_y": null,
            "padding": null,
            "right": null,
            "top": null,
            "visibility": null,
            "width": null
          }
        },
        "8c57cad7434342ce8c94372c1b46cf3c": {
          "model_module": "@jupyter-widgets/controls",
          "model_name": "DescriptionStyleModel",
          "model_module_version": "1.5.0",
          "state": {
            "_model_module": "@jupyter-widgets/controls",
            "_model_module_version": "1.5.0",
            "_model_name": "DescriptionStyleModel",
            "_view_count": null,
            "_view_module": "@jupyter-widgets/base",
            "_view_module_version": "1.2.0",
            "_view_name": "StyleView",
            "description_width": ""
          }
        },
        "e79b2cb9ae6c45e7b1d37f9c5885a33d": {
          "model_module": "@jupyter-widgets/controls",
          "model_name": "HBoxModel",
          "model_module_version": "1.5.0",
          "state": {
            "_dom_classes": [],
            "_model_module": "@jupyter-widgets/controls",
            "_model_module_version": "1.5.0",
            "_model_name": "HBoxModel",
            "_view_count": null,
            "_view_module": "@jupyter-widgets/controls",
            "_view_module_version": "1.5.0",
            "_view_name": "HBoxView",
            "box_style": "",
            "children": [
              "IPY_MODEL_e45b98f8436b4f6980e0a09c16573ce3",
              "IPY_MODEL_b40e16a28d5b4580a95df9b19c314c11",
              "IPY_MODEL_19f09fd75f714241a60f95ca3942aa4e"
            ],
            "layout": "IPY_MODEL_291daa8791884ad091dae3bfc435e55c"
          }
        },
        "e45b98f8436b4f6980e0a09c16573ce3": {
          "model_module": "@jupyter-widgets/controls",
          "model_name": "HTMLModel",
          "model_module_version": "1.5.0",
          "state": {
            "_dom_classes": [],
            "_model_module": "@jupyter-widgets/controls",
            "_model_module_version": "1.5.0",
            "_model_name": "HTMLModel",
            "_view_count": null,
            "_view_module": "@jupyter-widgets/controls",
            "_view_module_version": "1.5.0",
            "_view_name": "HTMLView",
            "description": "",
            "description_tooltip": null,
            "layout": "IPY_MODEL_bf69f372c1804a8c9a8c735689bbab5f",
            "placeholder": "​",
            "style": "IPY_MODEL_3ea014a9b12a4c11b5eade10b6c53ad3",
            "value": "Job ID 3ef53027-747a-4208-b5d2-4eeae8d3fb9f successfully executed: 100%"
          }
        },
        "b40e16a28d5b4580a95df9b19c314c11": {
          "model_module": "@jupyter-widgets/controls",
          "model_name": "FloatProgressModel",
          "model_module_version": "1.5.0",
          "state": {
            "_dom_classes": [],
            "_model_module": "@jupyter-widgets/controls",
            "_model_module_version": "1.5.0",
            "_model_name": "FloatProgressModel",
            "_view_count": null,
            "_view_module": "@jupyter-widgets/controls",
            "_view_module_version": "1.5.0",
            "_view_name": "ProgressView",
            "bar_style": "success",
            "description": "",
            "description_tooltip": null,
            "layout": "IPY_MODEL_56016e5308bc4aa8aa014bf341746dbc",
            "max": 1,
            "min": 0,
            "orientation": "horizontal",
            "style": "IPY_MODEL_455fcc4c120b4997af03516babc5c06e",
            "value": 1
          }
        },
        "19f09fd75f714241a60f95ca3942aa4e": {
          "model_module": "@jupyter-widgets/controls",
          "model_name": "HTMLModel",
          "model_module_version": "1.5.0",
          "state": {
            "_dom_classes": [],
            "_model_module": "@jupyter-widgets/controls",
            "_model_module_version": "1.5.0",
            "_model_name": "HTMLModel",
            "_view_count": null,
            "_view_module": "@jupyter-widgets/controls",
            "_view_module_version": "1.5.0",
            "_view_name": "HTMLView",
            "description": "",
            "description_tooltip": null,
            "layout": "IPY_MODEL_dac9d89db3844ed5bf40be57b42424fe",
            "placeholder": "​",
            "style": "IPY_MODEL_6adbe3351f7b4788803843db526b19ab",
            "value": ""
          }
        },
        "291daa8791884ad091dae3bfc435e55c": {
          "model_module": "@jupyter-widgets/base",
          "model_name": "LayoutModel",
          "model_module_version": "1.2.0",
          "state": {
            "_model_module": "@jupyter-widgets/base",
            "_model_module_version": "1.2.0",
            "_model_name": "LayoutModel",
            "_view_count": null,
            "_view_module": "@jupyter-widgets/base",
            "_view_module_version": "1.2.0",
            "_view_name": "LayoutView",
            "align_content": null,
            "align_items": null,
            "align_self": null,
            "border": null,
            "bottom": null,
            "display": null,
            "flex": null,
            "flex_flow": null,
            "grid_area": null,
            "grid_auto_columns": null,
            "grid_auto_flow": null,
            "grid_auto_rows": null,
            "grid_column": null,
            "grid_gap": null,
            "grid_row": null,
            "grid_template_areas": null,
            "grid_template_columns": null,
            "grid_template_rows": null,
            "height": null,
            "justify_content": null,
            "justify_items": null,
            "left": null,
            "margin": null,
            "max_height": null,
            "max_width": null,
            "min_height": null,
            "min_width": null,
            "object_fit": null,
            "object_position": null,
            "order": null,
            "overflow": null,
            "overflow_x": null,
            "overflow_y": null,
            "padding": null,
            "right": null,
            "top": null,
            "visibility": null,
            "width": null
          }
        },
        "bf69f372c1804a8c9a8c735689bbab5f": {
          "model_module": "@jupyter-widgets/base",
          "model_name": "LayoutModel",
          "model_module_version": "1.2.0",
          "state": {
            "_model_module": "@jupyter-widgets/base",
            "_model_module_version": "1.2.0",
            "_model_name": "LayoutModel",
            "_view_count": null,
            "_view_module": "@jupyter-widgets/base",
            "_view_module_version": "1.2.0",
            "_view_name": "LayoutView",
            "align_content": null,
            "align_items": null,
            "align_self": null,
            "border": null,
            "bottom": null,
            "display": null,
            "flex": null,
            "flex_flow": null,
            "grid_area": null,
            "grid_auto_columns": null,
            "grid_auto_flow": null,
            "grid_auto_rows": null,
            "grid_column": null,
            "grid_gap": null,
            "grid_row": null,
            "grid_template_areas": null,
            "grid_template_columns": null,
            "grid_template_rows": null,
            "height": null,
            "justify_content": null,
            "justify_items": null,
            "left": null,
            "margin": null,
            "max_height": null,
            "max_width": null,
            "min_height": null,
            "min_width": null,
            "object_fit": null,
            "object_position": null,
            "order": null,
            "overflow": null,
            "overflow_x": null,
            "overflow_y": null,
            "padding": null,
            "right": null,
            "top": null,
            "visibility": null,
            "width": null
          }
        },
        "3ea014a9b12a4c11b5eade10b6c53ad3": {
          "model_module": "@jupyter-widgets/controls",
          "model_name": "DescriptionStyleModel",
          "model_module_version": "1.5.0",
          "state": {
            "_model_module": "@jupyter-widgets/controls",
            "_model_module_version": "1.5.0",
            "_model_name": "DescriptionStyleModel",
            "_view_count": null,
            "_view_module": "@jupyter-widgets/base",
            "_view_module_version": "1.2.0",
            "_view_name": "StyleView",
            "description_width": ""
          }
        },
        "56016e5308bc4aa8aa014bf341746dbc": {
          "model_module": "@jupyter-widgets/base",
          "model_name": "LayoutModel",
          "model_module_version": "1.2.0",
          "state": {
            "_model_module": "@jupyter-widgets/base",
            "_model_module_version": "1.2.0",
            "_model_name": "LayoutModel",
            "_view_count": null,
            "_view_module": "@jupyter-widgets/base",
            "_view_module_version": "1.2.0",
            "_view_name": "LayoutView",
            "align_content": null,
            "align_items": null,
            "align_self": null,
            "border": null,
            "bottom": null,
            "display": null,
            "flex": null,
            "flex_flow": null,
            "grid_area": null,
            "grid_auto_columns": null,
            "grid_auto_flow": null,
            "grid_auto_rows": null,
            "grid_column": null,
            "grid_gap": null,
            "grid_row": null,
            "grid_template_areas": null,
            "grid_template_columns": null,
            "grid_template_rows": null,
            "height": null,
            "justify_content": null,
            "justify_items": null,
            "left": null,
            "margin": null,
            "max_height": null,
            "max_width": null,
            "min_height": null,
            "min_width": null,
            "object_fit": null,
            "object_position": null,
            "order": null,
            "overflow": null,
            "overflow_x": null,
            "overflow_y": null,
            "padding": null,
            "right": null,
            "top": null,
            "visibility": null,
            "width": null
          }
        },
        "455fcc4c120b4997af03516babc5c06e": {
          "model_module": "@jupyter-widgets/controls",
          "model_name": "ProgressStyleModel",
          "model_module_version": "1.5.0",
          "state": {
            "_model_module": "@jupyter-widgets/controls",
            "_model_module_version": "1.5.0",
            "_model_name": "ProgressStyleModel",
            "_view_count": null,
            "_view_module": "@jupyter-widgets/base",
            "_view_module_version": "1.2.0",
            "_view_name": "StyleView",
            "bar_color": null,
            "description_width": ""
          }
        },
        "dac9d89db3844ed5bf40be57b42424fe": {
          "model_module": "@jupyter-widgets/base",
          "model_name": "LayoutModel",
          "model_module_version": "1.2.0",
          "state": {
            "_model_module": "@jupyter-widgets/base",
            "_model_module_version": "1.2.0",
            "_model_name": "LayoutModel",
            "_view_count": null,
            "_view_module": "@jupyter-widgets/base",
            "_view_module_version": "1.2.0",
            "_view_name": "LayoutView",
            "align_content": null,
            "align_items": null,
            "align_self": null,
            "border": null,
            "bottom": null,
            "display": null,
            "flex": null,
            "flex_flow": null,
            "grid_area": null,
            "grid_auto_columns": null,
            "grid_auto_flow": null,
            "grid_auto_rows": null,
            "grid_column": null,
            "grid_gap": null,
            "grid_row": null,
            "grid_template_areas": null,
            "grid_template_columns": null,
            "grid_template_rows": null,
            "height": null,
            "justify_content": null,
            "justify_items": null,
            "left": null,
            "margin": null,
            "max_height": null,
            "max_width": null,
            "min_height": null,
            "min_width": null,
            "object_fit": null,
            "object_position": null,
            "order": null,
            "overflow": null,
            "overflow_x": null,
            "overflow_y": null,
            "padding": null,
            "right": null,
            "top": null,
            "visibility": null,
            "width": null
          }
        },
        "6adbe3351f7b4788803843db526b19ab": {
          "model_module": "@jupyter-widgets/controls",
          "model_name": "DescriptionStyleModel",
          "model_module_version": "1.5.0",
          "state": {
            "_model_module": "@jupyter-widgets/controls",
            "_model_module_version": "1.5.0",
            "_model_name": "DescriptionStyleModel",
            "_view_count": null,
            "_view_module": "@jupyter-widgets/base",
            "_view_module_version": "1.2.0",
            "_view_name": "StyleView",
            "description_width": ""
          }
        },
        "3cf308ff27134af38d993bd027e574e1": {
          "model_module": "@jupyter-widgets/controls",
          "model_name": "HBoxModel",
          "model_module_version": "1.5.0",
          "state": {
            "_dom_classes": [],
            "_model_module": "@jupyter-widgets/controls",
            "_model_module_version": "1.5.0",
            "_model_name": "HBoxModel",
            "_view_count": null,
            "_view_module": "@jupyter-widgets/controls",
            "_view_module_version": "1.5.0",
            "_view_name": "HBoxView",
            "box_style": "",
            "children": [
              "IPY_MODEL_cdd08ac2c48b4e05afd65b4d608a5c7a",
              "IPY_MODEL_dd6022380a9f408db255b29294b613f0",
              "IPY_MODEL_f82d609a14634fc287b8da7451a20db2"
            ],
            "layout": "IPY_MODEL_634f6fa74a0142b285c160d40e9d062c"
          }
        },
        "cdd08ac2c48b4e05afd65b4d608a5c7a": {
          "model_module": "@jupyter-widgets/controls",
          "model_name": "HTMLModel",
          "model_module_version": "1.5.0",
          "state": {
            "_dom_classes": [],
            "_model_module": "@jupyter-widgets/controls",
            "_model_module_version": "1.5.0",
            "_model_name": "HTMLModel",
            "_view_count": null,
            "_view_module": "@jupyter-widgets/controls",
            "_view_module_version": "1.5.0",
            "_view_name": "HTMLView",
            "description": "",
            "description_tooltip": null,
            "layout": "IPY_MODEL_7fe8653a27684052980d81a50889df73",
            "placeholder": "​",
            "style": "IPY_MODEL_27f37bfa4b33479bad9063ea90587662",
            "value": "Downloading: 100%"
          }
        },
        "dd6022380a9f408db255b29294b613f0": {
          "model_module": "@jupyter-widgets/controls",
          "model_name": "FloatProgressModel",
          "model_module_version": "1.5.0",
          "state": {
            "_dom_classes": [],
            "_model_module": "@jupyter-widgets/controls",
            "_model_module_version": "1.5.0",
            "_model_name": "FloatProgressModel",
            "_view_count": null,
            "_view_module": "@jupyter-widgets/controls",
            "_view_module_version": "1.5.0",
            "_view_name": "ProgressView",
            "bar_style": "success",
            "description": "",
            "description_tooltip": null,
            "layout": "IPY_MODEL_ba6114103f75454a8d869ffbab8cf280",
            "max": 1622,
            "min": 0,
            "orientation": "horizontal",
            "style": "IPY_MODEL_b367890b4bd84af4b173bc1140525355",
            "value": 1622
          }
        },
        "f82d609a14634fc287b8da7451a20db2": {
          "model_module": "@jupyter-widgets/controls",
          "model_name": "HTMLModel",
          "model_module_version": "1.5.0",
          "state": {
            "_dom_classes": [],
            "_model_module": "@jupyter-widgets/controls",
            "_model_module_version": "1.5.0",
            "_model_name": "HTMLModel",
            "_view_count": null,
            "_view_module": "@jupyter-widgets/controls",
            "_view_module_version": "1.5.0",
            "_view_name": "HTMLView",
            "description": "",
            "description_tooltip": null,
            "layout": "IPY_MODEL_258600aaab5f4e32a5a7f4fc7cef8786",
            "placeholder": "​",
            "style": "IPY_MODEL_16e83966ef54403e826d0008a8b7b3a2",
            "value": ""
          }
        },
        "634f6fa74a0142b285c160d40e9d062c": {
          "model_module": "@jupyter-widgets/base",
          "model_name": "LayoutModel",
          "model_module_version": "1.2.0",
          "state": {
            "_model_module": "@jupyter-widgets/base",
            "_model_module_version": "1.2.0",
            "_model_name": "LayoutModel",
            "_view_count": null,
            "_view_module": "@jupyter-widgets/base",
            "_view_module_version": "1.2.0",
            "_view_name": "LayoutView",
            "align_content": null,
            "align_items": null,
            "align_self": null,
            "border": null,
            "bottom": null,
            "display": null,
            "flex": null,
            "flex_flow": null,
            "grid_area": null,
            "grid_auto_columns": null,
            "grid_auto_flow": null,
            "grid_auto_rows": null,
            "grid_column": null,
            "grid_gap": null,
            "grid_row": null,
            "grid_template_areas": null,
            "grid_template_columns": null,
            "grid_template_rows": null,
            "height": null,
            "justify_content": null,
            "justify_items": null,
            "left": null,
            "margin": null,
            "max_height": null,
            "max_width": null,
            "min_height": null,
            "min_width": null,
            "object_fit": null,
            "object_position": null,
            "order": null,
            "overflow": null,
            "overflow_x": null,
            "overflow_y": null,
            "padding": null,
            "right": null,
            "top": null,
            "visibility": null,
            "width": null
          }
        },
        "7fe8653a27684052980d81a50889df73": {
          "model_module": "@jupyter-widgets/base",
          "model_name": "LayoutModel",
          "model_module_version": "1.2.0",
          "state": {
            "_model_module": "@jupyter-widgets/base",
            "_model_module_version": "1.2.0",
            "_model_name": "LayoutModel",
            "_view_count": null,
            "_view_module": "@jupyter-widgets/base",
            "_view_module_version": "1.2.0",
            "_view_name": "LayoutView",
            "align_content": null,
            "align_items": null,
            "align_self": null,
            "border": null,
            "bottom": null,
            "display": null,
            "flex": null,
            "flex_flow": null,
            "grid_area": null,
            "grid_auto_columns": null,
            "grid_auto_flow": null,
            "grid_auto_rows": null,
            "grid_column": null,
            "grid_gap": null,
            "grid_row": null,
            "grid_template_areas": null,
            "grid_template_columns": null,
            "grid_template_rows": null,
            "height": null,
            "justify_content": null,
            "justify_items": null,
            "left": null,
            "margin": null,
            "max_height": null,
            "max_width": null,
            "min_height": null,
            "min_width": null,
            "object_fit": null,
            "object_position": null,
            "order": null,
            "overflow": null,
            "overflow_x": null,
            "overflow_y": null,
            "padding": null,
            "right": null,
            "top": null,
            "visibility": null,
            "width": null
          }
        },
        "27f37bfa4b33479bad9063ea90587662": {
          "model_module": "@jupyter-widgets/controls",
          "model_name": "DescriptionStyleModel",
          "model_module_version": "1.5.0",
          "state": {
            "_model_module": "@jupyter-widgets/controls",
            "_model_module_version": "1.5.0",
            "_model_name": "DescriptionStyleModel",
            "_view_count": null,
            "_view_module": "@jupyter-widgets/base",
            "_view_module_version": "1.2.0",
            "_view_name": "StyleView",
            "description_width": ""
          }
        },
        "ba6114103f75454a8d869ffbab8cf280": {
          "model_module": "@jupyter-widgets/base",
          "model_name": "LayoutModel",
          "model_module_version": "1.2.0",
          "state": {
            "_model_module": "@jupyter-widgets/base",
            "_model_module_version": "1.2.0",
            "_model_name": "LayoutModel",
            "_view_count": null,
            "_view_module": "@jupyter-widgets/base",
            "_view_module_version": "1.2.0",
            "_view_name": "LayoutView",
            "align_content": null,
            "align_items": null,
            "align_self": null,
            "border": null,
            "bottom": null,
            "display": null,
            "flex": null,
            "flex_flow": null,
            "grid_area": null,
            "grid_auto_columns": null,
            "grid_auto_flow": null,
            "grid_auto_rows": null,
            "grid_column": null,
            "grid_gap": null,
            "grid_row": null,
            "grid_template_areas": null,
            "grid_template_columns": null,
            "grid_template_rows": null,
            "height": null,
            "justify_content": null,
            "justify_items": null,
            "left": null,
            "margin": null,
            "max_height": null,
            "max_width": null,
            "min_height": null,
            "min_width": null,
            "object_fit": null,
            "object_position": null,
            "order": null,
            "overflow": null,
            "overflow_x": null,
            "overflow_y": null,
            "padding": null,
            "right": null,
            "top": null,
            "visibility": null,
            "width": null
          }
        },
        "b367890b4bd84af4b173bc1140525355": {
          "model_module": "@jupyter-widgets/controls",
          "model_name": "ProgressStyleModel",
          "model_module_version": "1.5.0",
          "state": {
            "_model_module": "@jupyter-widgets/controls",
            "_model_module_version": "1.5.0",
            "_model_name": "ProgressStyleModel",
            "_view_count": null,
            "_view_module": "@jupyter-widgets/base",
            "_view_module_version": "1.2.0",
            "_view_name": "StyleView",
            "bar_color": null,
            "description_width": ""
          }
        },
        "258600aaab5f4e32a5a7f4fc7cef8786": {
          "model_module": "@jupyter-widgets/base",
          "model_name": "LayoutModel",
          "model_module_version": "1.2.0",
          "state": {
            "_model_module": "@jupyter-widgets/base",
            "_model_module_version": "1.2.0",
            "_model_name": "LayoutModel",
            "_view_count": null,
            "_view_module": "@jupyter-widgets/base",
            "_view_module_version": "1.2.0",
            "_view_name": "LayoutView",
            "align_content": null,
            "align_items": null,
            "align_self": null,
            "border": null,
            "bottom": null,
            "display": null,
            "flex": null,
            "flex_flow": null,
            "grid_area": null,
            "grid_auto_columns": null,
            "grid_auto_flow": null,
            "grid_auto_rows": null,
            "grid_column": null,
            "grid_gap": null,
            "grid_row": null,
            "grid_template_areas": null,
            "grid_template_columns": null,
            "grid_template_rows": null,
            "height": null,
            "justify_content": null,
            "justify_items": null,
            "left": null,
            "margin": null,
            "max_height": null,
            "max_width": null,
            "min_height": null,
            "min_width": null,
            "object_fit": null,
            "object_position": null,
            "order": null,
            "overflow": null,
            "overflow_x": null,
            "overflow_y": null,
            "padding": null,
            "right": null,
            "top": null,
            "visibility": null,
            "width": null
          }
        },
        "16e83966ef54403e826d0008a8b7b3a2": {
          "model_module": "@jupyter-widgets/controls",
          "model_name": "DescriptionStyleModel",
          "model_module_version": "1.5.0",
          "state": {
            "_model_module": "@jupyter-widgets/controls",
            "_model_module_version": "1.5.0",
            "_model_name": "DescriptionStyleModel",
            "_view_count": null,
            "_view_module": "@jupyter-widgets/base",
            "_view_module_version": "1.2.0",
            "_view_name": "StyleView",
            "description_width": ""
          }
        }
      }
    }
  },
  "cells": [
    {
      "cell_type": "markdown",
      "metadata": {
        "id": "view-in-github",
        "colab_type": "text"
      },
      "source": [
        "<a href=\"https://colab.research.google.com/github/cthmayo/hack-aotearoa-2023/blob/main/mdro-prediction.ipynb\" target=\"_parent\"><img src=\"https://colab.research.google.com/assets/colab-badge.svg\" alt=\"Open In Colab\"/></a>"
      ]
    },
    {
      "cell_type": "markdown",
      "source": [
        "# Data processing"
      ],
      "metadata": {
        "id": "VKP4d9aaeVkx"
      }
    },
    {
      "cell_type": "markdown",
      "source": [
        "## Imports"
      ],
      "metadata": {
        "id": "8B0tmztxhVF8"
      }
    },
    {
      "cell_type": "code",
      "source": [
        "!pip install tableone"
      ],
      "metadata": {
        "colab": {
          "base_uri": "https://localhost:8080/"
        },
        "id": "t-Cooj4vohYk",
        "outputId": "a160da5e-3154-46dc-c0fc-2b6a952fe6e4"
      },
      "execution_count": 1,
      "outputs": [
        {
          "output_type": "stream",
          "name": "stdout",
          "text": [
            "Looking in indexes: https://pypi.org/simple, https://us-python.pkg.dev/colab-wheels/public/simple/\n",
            "Collecting tableone\n",
            "  Downloading tableone-0.7.12-py3-none-any.whl (32 kB)\n",
            "Requirement already satisfied: scipy>=1.7.0 in /usr/local/lib/python3.9/dist-packages (from tableone) (1.10.1)\n",
            "Requirement already satisfied: pandas>=1.2.1 in /usr/local/lib/python3.9/dist-packages (from tableone) (1.4.4)\n",
            "Requirement already satisfied: tabulate>=0.8.10 in /usr/local/lib/python3.9/dist-packages (from tableone) (0.8.10)\n",
            "Requirement already satisfied: numpy>=1.19.1 in /usr/local/lib/python3.9/dist-packages (from tableone) (1.22.4)\n",
            "Requirement already satisfied: statsmodels>=0.12.1 in /usr/local/lib/python3.9/dist-packages (from tableone) (0.13.5)\n",
            "Requirement already satisfied: pytz>=2020.1 in /usr/local/lib/python3.9/dist-packages (from pandas>=1.2.1->tableone) (2022.7.1)\n",
            "Requirement already satisfied: python-dateutil>=2.8.1 in /usr/local/lib/python3.9/dist-packages (from pandas>=1.2.1->tableone) (2.8.2)\n",
            "Requirement already satisfied: patsy>=0.5.2 in /usr/local/lib/python3.9/dist-packages (from statsmodels>=0.12.1->tableone) (0.5.3)\n",
            "Requirement already satisfied: packaging>=21.3 in /usr/local/lib/python3.9/dist-packages (from statsmodels>=0.12.1->tableone) (23.0)\n",
            "Requirement already satisfied: six in /usr/local/lib/python3.9/dist-packages (from patsy>=0.5.2->statsmodels>=0.12.1->tableone) (1.15.0)\n",
            "Installing collected packages: tableone\n",
            "Successfully installed tableone-0.7.12\n"
          ]
        }
      ]
    },
    {
      "cell_type": "code",
      "source": [
        "# Import libraries\n",
        "import numpy as np #1.22.4\n",
        "import os\n",
        "import pandas as pd\n",
        "import matplotlib.pyplot as plt\n",
        "import statsmodels.api as sm\n",
        "import matplotlib\n",
        "import statsmodels\n",
        "import tableone\n",
        "import seaborn as sns\n",
        "import scipy\n",
        "\n",
        "# Make pandas dataframes prettier\n",
        "from IPython.display import display, HTML\n",
        "\n",
        "# Access data using Google BigQuery.\n",
        "from google.colab import auth\n",
        "from google.cloud import bigquery"
      ],
      "metadata": {
        "id": "5yR37F5lunis"
      },
      "execution_count": 254,
      "outputs": []
    },
    {
      "cell_type": "code",
      "source": [
        "import sklearn, xgboost\n",
        "from sklearn.model_selection import GroupShuffleSplit\n",
        "from sklearn.preprocessing import OneHotEncoder,StandardScaler\n",
        "from sklearn.impute import SimpleImputer\n",
        "\n",
        "from sklearn.linear_model import LogisticRegression\n",
        "from sklearn.ensemble import RandomForestClassifier\n",
        "from xgboost import XGBClassifier\n",
        "\n",
        "from sklearn.metrics import roc_auc_score, confusion_matrix, accuracy_score, recall_score, roc_curve"
      ],
      "metadata": {
        "id": "rnSZ5Zy8PRXS"
      },
      "execution_count": 227,
      "outputs": []
    },
    {
      "cell_type": "code",
      "source": [
        "# Python 3.9.16\n",
        "# using MIMIC-IV 2.2\n",
        "# module versions asserted for reproducibility\n",
        "assert np.__version__ == '1.22.4'\n",
        "assert pd.__version__ == '1.4.4'\n",
        "assert matplotlib.__version__ == '3.7.1'\n",
        "assert statsmodels.__version__ == '0.13.5'\n",
        "assert tableone.__version__ == '0.7.12'\n",
        "assert sns.__version__ == '0.12.2'\n",
        "assert sklearn.__version__ == '1.2.2'\n",
        "assert xgboost.__version__ == '1.7.4'\n",
        "assert scipy.__version__ == '1.10.1'"
      ],
      "metadata": {
        "id": "2NH_ba4ieynt"
      },
      "execution_count": 258,
      "outputs": []
    },
    {
      "cell_type": "code",
      "source": [
        "def specificity_score(y_true, y_pred):\n",
        "  tn, fp, fn, tp = confusion_matrix(y_true, y_pred).ravel()\n",
        "  return tn / (tn+fp)"
      ],
      "metadata": {
        "id": "yhL7WelpYzkG"
      },
      "execution_count": 5,
      "outputs": []
    },
    {
      "cell_type": "code",
      "source": [
        "from tqdm import tqdm\n",
        "tqdm.pandas()"
      ],
      "metadata": {
        "id": "7UdLE47kQ2-D"
      },
      "execution_count": 6,
      "outputs": []
    },
    {
      "cell_type": "code",
      "source": [
        "auth.authenticate_user()"
      ],
      "metadata": {
        "id": "cku6jmdRwzQ2"
      },
      "execution_count": 7,
      "outputs": []
    },
    {
      "cell_type": "code",
      "source": [
        "project_id='hack-aotearoa'\n",
        "os.environ[\"GOOGLE_CLOUD_PROJECT\"]=project_id"
      ],
      "metadata": {
        "id": "oyf7uqRcw4GO"
      },
      "execution_count": 8,
      "outputs": []
    },
    {
      "cell_type": "code",
      "source": [
        "%%bigquery microbiology\n",
        "\n",
        "SELECT *\n",
        "FROM `physionet-data.mimiciv_hosp.microbiologyevents`"
      ],
      "metadata": {
        "colab": {
          "base_uri": "https://localhost:8080/",
          "height": 81,
          "referenced_widgets": [
            "b6c3febe754942b794ed6da52f2dd048",
            "0c8006e6c60c4f01ae5067ae8a6ea9e1",
            "d473ff768f8b41d0ae7f9095b11953f0",
            "986fb84ce434436d907cc265f823b390",
            "ef5c477eefbf467e97df9e8dd715f7f6",
            "0572280e59844034bc141b46ddc75670",
            "25deb6287f72435a9259a9945097459a",
            "42dae66bd9a84693bafdcd339a2f98d4",
            "6b98381bbfea4162be7607bc099a05e5",
            "fe4752155d90491aa80b43d98d187f46",
            "eb394f99682a460a9360c1a6d1888273",
            "db234255a7cf4bdd91a0af6e862b1c50",
            "068e523b5fb441d19f062144a4068bcc",
            "8e663ce455eb4055837c8116d56c5c03",
            "9e064196b3b347ce981366185d666155",
            "93c7269c79b54135b8c3068539d13c9a",
            "82bcbc90317c45c99e4169247fc30d16",
            "58d3998b7bd64e959deae88180fb7ade",
            "41970e1060d0401f985b0e245bed3330",
            "10026b6e2ba141b889268364eaedb24b",
            "515e77fca252472e80f2f2392f12de54",
            "6fbf6f1f962f4f268d42ddc215ef1d18"
          ]
        },
        "id": "Xf1IbxPgw6fn",
        "outputId": "aea861c6-0522-4e34-9692-1d61daf906ef"
      },
      "execution_count": 9,
      "outputs": [
        {
          "output_type": "display_data",
          "data": {
            "text/plain": [
              "Query is running:   0%|          |"
            ],
            "application/vnd.jupyter.widget-view+json": {
              "version_major": 2,
              "version_minor": 0,
              "model_id": "b6c3febe754942b794ed6da52f2dd048"
            }
          },
          "metadata": {}
        },
        {
          "output_type": "display_data",
          "data": {
            "text/plain": [
              "Downloading:   0%|          |"
            ],
            "application/vnd.jupyter.widget-view+json": {
              "version_major": 2,
              "version_minor": 0,
              "model_id": "db234255a7cf4bdd91a0af6e862b1c50"
            }
          },
          "metadata": {}
        }
      ]
    },
    {
      "cell_type": "code",
      "source": [
        "%%bigquery admissions\n",
        "\n",
        "SELECT *\n",
        "FROM `physionet-data.mimiciv_hosp.admissions`"
      ],
      "metadata": {
        "colab": {
          "base_uri": "https://localhost:8080/",
          "height": 81,
          "referenced_widgets": [
            "33c1fc6298a1429aa513bafbd6950b39",
            "9f12c84cb2e84c798bc0689b5c4fbdfb",
            "1320b2a9bf3445bf8da28c33645b9e31",
            "f595b8954f3d4bdc877784c6e594388d",
            "d5ba5dc6cdbe45ffb45f91c7e09ad697",
            "021a30243fbd43c98a7cec8f5457bdfd",
            "baad9d2bbc4f41efbf0297ccdfd18d6e",
            "1988a0bc94a445fd8e6382977cc1f511",
            "d379cc92b7f640b8a11b9632b9d8cb2c",
            "20206c4814484c58945eaec8bf5cc21d",
            "731bf1f0587447fdb98395612e35fbff",
            "920e4fd853054bb8aed8181397818fe0",
            "882b4b14f8884607b4a8a4e02fe4d5f7",
            "2eaff2392b244421b5665696d5756eaa",
            "01110c1710c749b99edef6da47d58e98",
            "6a575071e91349e28b7d102a783fa380",
            "7901eb85956a4c65b59bcb511efd5ba6",
            "c3a9cc70f3904fd787c4a36de8323325",
            "c9f22c63eb4844eea67d53df1be07c2e",
            "6f8b36dda67241f7902ed1545c537cd9",
            "2f946b9f5ed548b1878b97464acb7fd2",
            "d76d0b7dfb114d00921ba497e39952b7"
          ]
        },
        "id": "DUgerl6Q6qVX",
        "outputId": "fbf0fa71-8364-42eb-d70d-c5b8b3a5ab59"
      },
      "execution_count": 10,
      "outputs": [
        {
          "output_type": "display_data",
          "data": {
            "text/plain": [
              "Query is running:   0%|          |"
            ],
            "application/vnd.jupyter.widget-view+json": {
              "version_major": 2,
              "version_minor": 0,
              "model_id": "33c1fc6298a1429aa513bafbd6950b39"
            }
          },
          "metadata": {}
        },
        {
          "output_type": "display_data",
          "data": {
            "text/plain": [
              "Downloading:   0%|          |"
            ],
            "application/vnd.jupyter.widget-view+json": {
              "version_major": 2,
              "version_minor": 0,
              "model_id": "920e4fd853054bb8aed8181397818fe0"
            }
          },
          "metadata": {}
        }
      ]
    },
    {
      "cell_type": "code",
      "source": [
        "%%bigquery patients\n",
        "\n",
        "SELECT *\n",
        "FROM `physionet-data.mimiciv_hosp.patients`"
      ],
      "metadata": {
        "colab": {
          "base_uri": "https://localhost:8080/",
          "height": 81,
          "referenced_widgets": [
            "ec77b45cb2944b10980ec1dd52de5a35",
            "9f73960fc9b24de59c81d2bd7a5d7e6b",
            "fe89f6ff0d5f42a19df636c509d436c5",
            "f9e6dd6bacb6476c96727e3a826f7f24",
            "80131fcd949b4d1bbe6266bcdf75b245",
            "739fd8cd031a4ec0a9d8e9b8d9ec8d2b",
            "53959ad5ee8249b3817514ced57b902b",
            "7880c2ca09d84d6094c4a3648a52b61e",
            "79c62defe8ef41eebfd4bdb79eaa6a99",
            "793e3fee41294da39bcbac20b389c041",
            "df02e74d7b034bfe9a750da47a167932",
            "781b02537a8343d298847bdc2e58d0c3",
            "39518b79e8224b58bee2bbd4b5f171b1",
            "c1e6572c8dc548ad93069d38979c2a9d",
            "e15d49406f164853b8c156f678dd96dc",
            "b715fbcf67914499882cd1fca9133e90",
            "76fe225262ee4acb8e2c167ee51bb6b2",
            "8a72aa9aad914eeb949d67557c9f5b5a",
            "0be05605f1fa4075bd59b51d3066a44d",
            "7f86ac93f2ea47dd9e2e2a283f14f415",
            "81eb4028af2b4f96bbd9d6afd0c77e5f",
            "22b809c19ce04cc8b10105645a7d6c07"
          ]
        },
        "id": "FC9y5KJ8q32l",
        "outputId": "1453f6fe-60cb-42f4-dd0c-7113c316e2fe"
      },
      "execution_count": 11,
      "outputs": [
        {
          "output_type": "display_data",
          "data": {
            "text/plain": [
              "Query is running:   0%|          |"
            ],
            "application/vnd.jupyter.widget-view+json": {
              "version_major": 2,
              "version_minor": 0,
              "model_id": "ec77b45cb2944b10980ec1dd52de5a35"
            }
          },
          "metadata": {}
        },
        {
          "output_type": "display_data",
          "data": {
            "text/plain": [
              "Downloading:   0%|          |"
            ],
            "application/vnd.jupyter.widget-view+json": {
              "version_major": 2,
              "version_minor": 0,
              "model_id": "781b02537a8343d298847bdc2e58d0c3"
            }
          },
          "metadata": {}
        }
      ]
    },
    {
      "cell_type": "code",
      "source": [
        "%%bigquery vitals\n",
        "\n",
        "SELECT *\n",
        "FROM `physionet-data.mimiciv_ed.vitalsign`"
      ],
      "metadata": {
        "colab": {
          "base_uri": "https://localhost:8080/",
          "height": 81,
          "referenced_widgets": [
            "d35e9bd8d8744c49b53372997c2bdcfb",
            "3453390a0a284ab0a3a8ec1774177e5e",
            "bcecb0ad33d8456a854cf4f051af0b3d",
            "0f2439e6d2e9474c9d10d7b52a3b3f9e",
            "cd6f18dbd702472ca6732f387d61577c",
            "bfdcb4de95524bb985a74fd067cdc8c1",
            "51d3a54fa044442e9b027010a237de40",
            "761c582ae50b4c368044ccff355ab705",
            "e2fe949d1b1e49c2bd1f8e9aaea984cd",
            "80e308a7f0704100a1c4568c7a2229a9",
            "b1314bd644154e979acbe7913b58c374",
            "4fdbce6c53db46ee96a02af3e9b9b1cf",
            "400405a714264761b8c46a0282588008",
            "42ad999bba8b4e66accf0a968da88ce7",
            "457aae5824eb41d5b27443c1eafd982a",
            "f58bc62967724162b5758245404fdb8c",
            "20939b39ded1460f88500e8e72148d4d",
            "918cd2ecb3e94117a663d8dc0d1671c7",
            "48a01f5da63e4add9a34c33aa82f7f3c",
            "59b717902f24417e8ca1cf5575abd95c",
            "7bee6582b2774ead82f8ad43c8d43bea",
            "62a7ac3e592a41aaa50271f3ff3ca19e"
          ]
        },
        "id": "7VqZwXQANHfD",
        "outputId": "b67d3ac5-fe5e-462b-d07f-520503ab526b"
      },
      "execution_count": 12,
      "outputs": [
        {
          "output_type": "display_data",
          "data": {
            "text/plain": [
              "Query is running:   0%|          |"
            ],
            "application/vnd.jupyter.widget-view+json": {
              "version_major": 2,
              "version_minor": 0,
              "model_id": "d35e9bd8d8744c49b53372997c2bdcfb"
            }
          },
          "metadata": {}
        },
        {
          "output_type": "display_data",
          "data": {
            "text/plain": [
              "Downloading:   0%|          |"
            ],
            "application/vnd.jupyter.widget-view+json": {
              "version_major": 2,
              "version_minor": 0,
              "model_id": "4fdbce6c53db46ee96a02af3e9b9b1cf"
            }
          },
          "metadata": {}
        }
      ]
    },
    {
      "cell_type": "code",
      "source": [
        "%%bigquery ed_stays\n",
        "\n",
        "SELECT *\n",
        "FROM `physionet-data.mimiciv_ed.edstays`"
      ],
      "metadata": {
        "colab": {
          "base_uri": "https://localhost:8080/",
          "height": 81,
          "referenced_widgets": [
            "6680e8cc4b4c415d9401e45dab932c97",
            "f64b862506dd49bc8cab27404e4b9982",
            "e4decc98d26245ff9c5126d5e88773c1",
            "e2c70642fd5d4a89b57d9ad927b0ec19",
            "0ab520960e1f4ddd9e2741e719d35a59",
            "4cd00250ff60419db4bb5c2504bc39be",
            "d6eb9d881c7742bcb308431081bad9bb",
            "fd333504fc6c4deb8de54c84fa0ff371",
            "4c966964300148ba83eafcdbbd6a81cd",
            "998ec3fcc7904256913b12b288c658a8",
            "52fecc924add4b93aa92f180aa84439d",
            "0229142c5f1048f2a40ca1b1131d6803",
            "3601121b511a487ba9ff296c64690431",
            "c800cf1dbc0b4069a9a4d57d99872af3",
            "3fa6f4c7edaa4399aafb7a0136da5512",
            "e2a921e5ab7e4b3cbab76f4ec365a076",
            "d4a7847c2c2044499b4f4556f85d97c2",
            "a0c7e609521846b787d77babca8628d6",
            "bd040640a8274f45846a49d035d2e7d2",
            "2cc9c9a3df38464db0fa33527ec37779",
            "ae61de18b8bc432fa0a655051170ed94",
            "8c57cad7434342ce8c94372c1b46cf3c"
          ]
        },
        "id": "-sIRD0L_Qqyy",
        "outputId": "61089d48-dac5-4c21-dcd4-5d87bbc765dc"
      },
      "execution_count": 13,
      "outputs": [
        {
          "output_type": "display_data",
          "data": {
            "text/plain": [
              "Query is running:   0%|          |"
            ],
            "application/vnd.jupyter.widget-view+json": {
              "version_major": 2,
              "version_minor": 0,
              "model_id": "6680e8cc4b4c415d9401e45dab932c97"
            }
          },
          "metadata": {}
        },
        {
          "output_type": "display_data",
          "data": {
            "text/plain": [
              "Downloading:   0%|          |"
            ],
            "application/vnd.jupyter.widget-view+json": {
              "version_major": 2,
              "version_minor": 0,
              "model_id": "0229142c5f1048f2a40ca1b1131d6803"
            }
          },
          "metadata": {}
        }
      ]
    },
    {
      "cell_type": "markdown",
      "source": [
        "## Organising blood cultures"
      ],
      "metadata": {
        "id": "pZld3F7nhYi9"
      }
    },
    {
      "cell_type": "markdown",
      "source": [
        "Limit just to blood cultures"
      ],
      "metadata": {
        "id": "6z6GagCZz_T2"
      }
    },
    {
      "cell_type": "code",
      "source": [
        "df_blood_cultures = microbiology[microbiology['spec_type_desc'] == 'BLOOD CULTURE'].reset_index(drop=True)"
      ],
      "metadata": {
        "id": "Ef9IUQUEz_Jj"
      },
      "execution_count": 14,
      "outputs": []
    },
    {
      "cell_type": "markdown",
      "source": [
        "NB: note that chartdate is the date that the blood culture was taken"
      ],
      "metadata": {
        "id": "HyHLcoZ06U_o"
      }
    },
    {
      "cell_type": "markdown",
      "source": [
        "Unit of analysis is admission. Excluding ones that don't have a hadm_id."
      ],
      "metadata": {
        "id": "9oqdF2haCYDM"
      }
    },
    {
      "cell_type": "code",
      "source": [
        "df_blood_cultures = df_blood_cultures[~df_blood_cultures['hadm_id'].isna()].reset_index(drop=True)"
      ],
      "metadata": {
        "id": "6aMxz5KBFDl4"
      },
      "execution_count": 15,
      "outputs": []
    },
    {
      "cell_type": "code",
      "source": [
        "df_blood_cultures['hadm_id'].value_counts()"
      ],
      "metadata": {
        "colab": {
          "base_uri": "https://localhost:8080/"
        },
        "id": "dsVbTBrX72-h",
        "outputId": "2980dae8-0093-4933-d679-55abf339dd1e"
      },
      "execution_count": 16,
      "outputs": [
        {
          "output_type": "execute_result",
          "data": {
            "text/plain": [
              "27348462    235\n",
              "20229058    216\n",
              "29398338    202\n",
              "24804072    193\n",
              "23676242    166\n",
              "           ... \n",
              "24074578      1\n",
              "27604467      1\n",
              "21358819      1\n",
              "28056399      1\n",
              "20767367      1\n",
              "Name: hadm_id, Length: 71483, dtype: Int64"
            ]
          },
          "metadata": {},
          "execution_count": 16
        }
      ]
    },
    {
      "cell_type": "code",
      "source": [
        "df_admissions = pd.DataFrame()\n",
        "df_admissions['hadm_id'] = df_blood_cultures['hadm_id'].value_counts().keys()"
      ],
      "metadata": {
        "id": "ErPW9cbARbIR"
      },
      "execution_count": 17,
      "outputs": []
    },
    {
      "cell_type": "markdown",
      "source": [
        "## Defining multiresistant organisms"
      ],
      "metadata": {
        "id": "L7mMFpHmhdFr"
      }
    },
    {
      "cell_type": "code",
      "source": [
        "def array_is_just_nones(ar):\n",
        "  for i in ar:\n",
        "    if not i is None:\n",
        "      return False\n",
        "  return True"
      ],
      "metadata": {
        "id": "opyT-ouNP5XK"
      },
      "execution_count": 18,
      "outputs": []
    },
    {
      "cell_type": "code",
      "source": [
        "def classify_status_of_bug(hadm_id, return_relevant_cultures = False):\n",
        "  df_admission_cultures = df_blood_cultures[df_blood_cultures['hadm_id'] == hadm_id]\n",
        "  # just look at cultures taken in the first 24 hours\n",
        "  df_admission_cultures = df_admission_cultures[(df_admission_cultures['charttime'] >= df_admission_cultures['charttime'].min()) &\n",
        "                                                (df_admission_cultures['charttime'] <= (df_admission_cultures['charttime'].min() + np.timedelta64(1, 'D')))]\n",
        "  \n",
        "  if return_relevant_cultures:\n",
        "    return df_admission_cultures\n",
        "\n",
        "  if array_is_just_nones(df_admission_cultures['org_name'].values):\n",
        "    return 'No growth'\n",
        "  else:\n",
        "    resistant_bug_categories = []\n",
        "    \n",
        "    for org_name, ab_name, interpretation in zip(df_admission_cultures['org_name'], df_admission_cultures['ab_name'], df_admission_cultures['interpretation']):\n",
        "      if not org_name is None:\n",
        "        if org_name == 'STAPH AUREUS COAG +':\n",
        "          if ab_name in ['OXACILLIN','VANCOMYCIN'] and interpretation == 'R':\n",
        "            resistant_bug_categories.append('MRSA')\n",
        "        if 'ENTEROCOCCUS' in org_name:\n",
        "          if ab_name in ['VANCOMYCIN'] and interpretation == 'R':\n",
        "            resistant_bug_categories.append('VRE')\n",
        "        if 'KLEBSIELLA' in org_name or 'PSEUDOMONAS' in org_name or 'ENTEROBACTER' in org_name or 'PROTEUS' in org_name or 'ESCHERICHIA' in org_name or 'SERRATIA' in org_name:\n",
        "          if ab_name in ['CEFTAZIDIME','MEROPENEM','IMIPENEM'] and interpretation == 'R':\n",
        "            resistant_bug_categories.append('ESBL')\n",
        "    # check for MDRO\n",
        "    return resistant_bug_categories"
      ],
      "metadata": {
        "id": "Vu_Ckpt5Lohk"
      },
      "execution_count": 19,
      "outputs": []
    },
    {
      "cell_type": "code",
      "source": [
        "df_admissions['Status'] = df_admissions['hadm_id'].progress_apply(classify_status_of_bug)"
      ],
      "metadata": {
        "colab": {
          "base_uri": "https://localhost:8080/"
        },
        "id": "ws62SkeCQhom",
        "outputId": "ab1f584a-a7a3-4ea4-ed5c-ab8ead8f3fd6"
      },
      "execution_count": 20,
      "outputs": [
        {
          "output_type": "stream",
          "name": "stderr",
          "text": [
            "100%|██████████| 71483/71483 [04:27<00:00, 267.52it/s]\n"
          ]
        }
      ]
    },
    {
      "cell_type": "code",
      "source": [
        "def simplify_classification(complex_classification):\n",
        "  if complex_classification == 'No growth':\n",
        "    return 'No growth'\n",
        "  if complex_classification == []:\n",
        "    return 'Positive culture'\n",
        "  else:\n",
        "    return 'Positive culture with MDRO'"
      ],
      "metadata": {
        "id": "5JgRO5nocau6"
      },
      "execution_count": 21,
      "outputs": []
    },
    {
      "cell_type": "code",
      "source": [
        "df_admissions['Status simplified'] = df_admissions['Status'].apply(simplify_classification)"
      ],
      "metadata": {
        "id": "bLHUak5bSS_W"
      },
      "execution_count": 22,
      "outputs": []
    },
    {
      "cell_type": "code",
      "source": [
        "df_admissions['Status simplified'].value_counts()"
      ],
      "metadata": {
        "colab": {
          "base_uri": "https://localhost:8080/"
        },
        "id": "7QSvOSEmSaip",
        "outputId": "19723a4c-5dcc-4de9-86a8-e5f36d737c13"
      },
      "execution_count": 23,
      "outputs": [
        {
          "output_type": "execute_result",
          "data": {
            "text/plain": [
              "No growth                     67315\n",
              "Positive culture               3673\n",
              "Positive culture with MDRO      495\n",
              "Name: Status simplified, dtype: int64"
            ]
          },
          "metadata": {},
          "execution_count": 23
        }
      ]
    },
    {
      "cell_type": "markdown",
      "source": [
        "## Adding admission information"
      ],
      "metadata": {
        "id": "5RHj9gPwhhhu"
      }
    },
    {
      "cell_type": "markdown",
      "source": [
        "Adding admission location, insurance status, marital status, race."
      ],
      "metadata": {
        "id": "4YuefFXncx7Y"
      }
    },
    {
      "cell_type": "code",
      "source": [
        "df_admissions['hadm_id']"
      ],
      "metadata": {
        "colab": {
          "base_uri": "https://localhost:8080/"
        },
        "id": "xa-XP-UVkfSi",
        "outputId": "1f066e53-433e-4dfd-d7b9-bc06cbfd2de3"
      },
      "execution_count": 24,
      "outputs": [
        {
          "output_type": "execute_result",
          "data": {
            "text/plain": [
              "0        27348462\n",
              "1        20229058\n",
              "2        29398338\n",
              "3        24804072\n",
              "4        23676242\n",
              "           ...   \n",
              "71478    24074578\n",
              "71479    27604467\n",
              "71480    21358819\n",
              "71481    28056399\n",
              "71482    20767367\n",
              "Name: hadm_id, Length: 71483, dtype: Int64"
            ]
          },
          "metadata": {},
          "execution_count": 24
        }
      ]
    },
    {
      "cell_type": "code",
      "source": [
        "admissions_dict = {hadm_id: (subject_id,admission_location,insurance,marital_status,race)  for hadm_id, subject_id,admission_location,insurance,marital_status,race in zip(admissions['hadm_id'], admissions['subject_id'], admissions['admission_location'],admissions['insurance'],admissions['marital_status'],admissions['race'])}"
      ],
      "metadata": {
        "id": "-llnyYWrjyzE"
      },
      "execution_count": 25,
      "outputs": []
    },
    {
      "cell_type": "code",
      "source": [
        "df_admissions['subject_id'] = df_admissions['hadm_id'].apply(lambda x: admissions_dict[x][0])\n",
        "df_admissions['admission_location'] = df_admissions['hadm_id'].apply(lambda x: admissions_dict[x][1])\n",
        "df_admissions['insurance'] = df_admissions['hadm_id'].apply(lambda x: admissions_dict[x][2])\n",
        "df_admissions['marital_status'] = df_admissions['hadm_id'].apply(lambda x: admissions_dict[x][3])\n",
        "df_admissions['race'] = df_admissions['hadm_id'].apply(lambda x: admissions_dict[x][4])"
      ],
      "metadata": {
        "id": "nriI_xmepA94"
      },
      "execution_count": 26,
      "outputs": []
    },
    {
      "cell_type": "markdown",
      "source": [
        "## Adding patient data"
      ],
      "metadata": {
        "id": "3NnrX6ZqqbZ-"
      }
    },
    {
      "cell_type": "markdown",
      "source": [
        "Adding age and gender."
      ],
      "metadata": {
        "id": "bGw4uWMCc1w8"
      }
    },
    {
      "cell_type": "code",
      "source": [
        "demo_dict = {subject_id: (gender, age) for subject_id, gender, age in zip(patients['subject_id'], patients['gender'] ,patients['anchor_age'])}"
      ],
      "metadata": {
        "id": "Sd4GvSEFrH8w"
      },
      "execution_count": 27,
      "outputs": []
    },
    {
      "cell_type": "code",
      "source": [
        "df_admissions['gender'] = df_admissions['subject_id'].apply(lambda x: demo_dict[x][0])\n",
        "df_admissions['age'] = df_admissions['subject_id'].apply(lambda x: demo_dict[x][1])"
      ],
      "metadata": {
        "id": "tS3XbhyFpGe1"
      },
      "execution_count": 28,
      "outputs": []
    },
    {
      "cell_type": "markdown",
      "source": [
        "## Adding lab data"
      ],
      "metadata": {
        "id": "-lAb5znrvpru"
      }
    },
    {
      "cell_type": "code",
      "source": [
        "from google.cloud import bigquery\n",
        "\n",
        "# Create a BigQuery client object\n",
        "client = bigquery.Client()\n",
        "\n",
        "# Define your SQL query as a string\n",
        "query_string = \"\"\"\n",
        "    SELECT *\n",
        "    FROM `physionet-data.mimiciv_hosp.labevents`\n",
        "    WHERE hadm_id IN (\"\"\"+','.join([str(x) for x in df_admissions['hadm_id'].value_counts().keys()])+\"\"\")\n",
        "    \"\"\"\n",
        "\n",
        "# Execute the query using the client object\n",
        "labevents = client.query(query_string).to_dataframe()"
      ],
      "metadata": {
        "id": "wSCbI_4Xz7uC"
      },
      "execution_count": 29,
      "outputs": []
    },
    {
      "cell_type": "markdown",
      "source": [
        "Data dictionary for lab items"
      ],
      "metadata": {
        "id": "0x57duiCc7IY"
      }
    },
    {
      "cell_type": "code",
      "source": [
        "%%bigquery d_labitems\n",
        "\n",
        "SELECT *\n",
        "FROM `physionet-data.mimiciv_hosp.d_labitems`"
      ],
      "metadata": {
        "colab": {
          "base_uri": "https://localhost:8080/",
          "height": 81,
          "referenced_widgets": [
            "e79b2cb9ae6c45e7b1d37f9c5885a33d",
            "e45b98f8436b4f6980e0a09c16573ce3",
            "b40e16a28d5b4580a95df9b19c314c11",
            "19f09fd75f714241a60f95ca3942aa4e",
            "291daa8791884ad091dae3bfc435e55c",
            "bf69f372c1804a8c9a8c735689bbab5f",
            "3ea014a9b12a4c11b5eade10b6c53ad3",
            "56016e5308bc4aa8aa014bf341746dbc",
            "455fcc4c120b4997af03516babc5c06e",
            "dac9d89db3844ed5bf40be57b42424fe",
            "6adbe3351f7b4788803843db526b19ab",
            "3cf308ff27134af38d993bd027e574e1",
            "cdd08ac2c48b4e05afd65b4d608a5c7a",
            "dd6022380a9f408db255b29294b613f0",
            "f82d609a14634fc287b8da7451a20db2",
            "634f6fa74a0142b285c160d40e9d062c",
            "7fe8653a27684052980d81a50889df73",
            "27f37bfa4b33479bad9063ea90587662",
            "ba6114103f75454a8d869ffbab8cf280",
            "b367890b4bd84af4b173bc1140525355",
            "258600aaab5f4e32a5a7f4fc7cef8786",
            "16e83966ef54403e826d0008a8b7b3a2"
          ]
        },
        "id": "94VivfPA3HSv",
        "outputId": "4d1bd4b7-d520-4b6c-e457-38c7096f4f39"
      },
      "execution_count": 30,
      "outputs": [
        {
          "output_type": "display_data",
          "data": {
            "text/plain": [
              "Query is running:   0%|          |"
            ],
            "application/vnd.jupyter.widget-view+json": {
              "version_major": 2,
              "version_minor": 0,
              "model_id": "e79b2cb9ae6c45e7b1d37f9c5885a33d"
            }
          },
          "metadata": {}
        },
        {
          "output_type": "display_data",
          "data": {
            "text/plain": [
              "Downloading:   0%|          |"
            ],
            "application/vnd.jupyter.widget-view+json": {
              "version_major": 2,
              "version_minor": 0,
              "model_id": "3cf308ff27134af38d993bd027e574e1"
            }
          },
          "metadata": {}
        }
      ]
    },
    {
      "cell_type": "code",
      "source": [
        "d_labitems_dict = {itemid: label for itemid, label in zip(d_labitems['itemid'], d_labitems['label'])}"
      ],
      "metadata": {
        "id": "-kJ2XrgrzeCa"
      },
      "execution_count": 31,
      "outputs": []
    },
    {
      "cell_type": "code",
      "source": [
        "labevents['label'] = labevents['itemid'].apply(lambda x: d_labitems_dict[x])"
      ],
      "metadata": {
        "id": "12XYcnUM3l6R"
      },
      "execution_count": 32,
      "outputs": []
    },
    {
      "cell_type": "markdown",
      "source": [
        "Choosing a subset of labs as the likely relevant ones"
      ],
      "metadata": {
        "id": "fr8fP0Akc_bv"
      }
    },
    {
      "cell_type": "code",
      "source": [
        "df_relevant_labs = labevents[labevents['label'].isin(['Hemoglobin','White Blood Cells','Platelet Count','Creatinine',\n",
        "                                                      'Sodium','Potassium','Neutrophils','Lymphocytes','Lactate','Glucose',\n",
        "                                                      'C-Reactive Protein','Ferritin'])]"
      ],
      "metadata": {
        "id": "vWl7PA-X33Op"
      },
      "execution_count": 33,
      "outputs": []
    },
    {
      "cell_type": "code",
      "source": [
        "del labevents"
      ],
      "metadata": {
        "id": "eWIzZOJmQCXd"
      },
      "execution_count": 34,
      "outputs": []
    },
    {
      "cell_type": "code",
      "source": [
        "df_admissions['Culture Time'] = df_admissions['hadm_id'].progress_apply(lambda hadm_id: df_blood_cultures[df_blood_cultures['hadm_id'] == hadm_id]['charttime'].min())"
      ],
      "metadata": {
        "colab": {
          "base_uri": "https://localhost:8080/"
        },
        "id": "INFyNj_G4_f8",
        "outputId": "ce945a80-7117-41d9-e12d-25412290a3d6"
      },
      "execution_count": 35,
      "outputs": [
        {
          "output_type": "stream",
          "name": "stderr",
          "text": [
            "100%|██████████| 71483/71483 [02:07<00:00, 559.48it/s]\n"
          ]
        }
      ]
    },
    {
      "cell_type": "code",
      "source": [
        "blood_culture_time_dict = {hadm_id:culture_time for hadm_id,culture_time in zip(df_admissions['hadm_id'],df_admissions['Culture Time'])}"
      ],
      "metadata": {
        "id": "UF4wOQL86l1H"
      },
      "execution_count": 36,
      "outputs": []
    },
    {
      "cell_type": "code",
      "source": [
        "df_relevant_labs['Culture Time'] = df_relevant_labs['hadm_id'].progress_apply(lambda x: blood_culture_time_dict[x])"
      ],
      "metadata": {
        "colab": {
          "base_uri": "https://localhost:8080/"
        },
        "id": "9hyPv8bY4uYm",
        "outputId": "54c639d1-4a03-4f44-b78d-ac7ed32d6174"
      },
      "execution_count": 37,
      "outputs": [
        {
          "output_type": "stream",
          "name": "stderr",
          "text": [
            "100%|██████████| 7023106/7023106 [00:18<00:00, 384556.42it/s]\n"
          ]
        }
      ]
    },
    {
      "cell_type": "code",
      "source": [
        "df_relevant_labs['Culture Time Delta'] = df_relevant_labs['Culture Time'] - df_relevant_labs['charttime']"
      ],
      "metadata": {
        "id": "err9nVWo853z"
      },
      "execution_count": 38,
      "outputs": []
    },
    {
      "cell_type": "markdown",
      "source": [
        "We are only going to use labs that were taken in the 24 hours before the blood culture was taken (or labs taken concurrently with the blood culture)"
      ],
      "metadata": {
        "id": "YnDeOnpHdDiN"
      }
    },
    {
      "cell_type": "code",
      "source": [
        "df_relevant_labs = df_relevant_labs[(df_relevant_labs['Culture Time Delta'] < np.timedelta64(24,'h')) & (df_relevant_labs['Culture Time Delta'] >= np.timedelta64(0,'h'))]"
      ],
      "metadata": {
        "id": "jlEmX5UX9EBV"
      },
      "execution_count": 39,
      "outputs": []
    },
    {
      "cell_type": "code",
      "source": [
        "df_relevant_labs_sorted = df_relevant_labs.sort_values(by='Culture Time Delta', ascending=False)"
      ],
      "metadata": {
        "id": "N3gJJND7BYL5"
      },
      "execution_count": 40,
      "outputs": []
    },
    {
      "cell_type": "code",
      "source": [
        "hadm_and_label_to_value = {}"
      ],
      "metadata": {
        "id": "fpS46q8qBvvf"
      },
      "execution_count": 41,
      "outputs": []
    },
    {
      "cell_type": "code",
      "source": [
        "for hadm_id, label, value in zip(df_relevant_labs_sorted['hadm_id'], df_relevant_labs_sorted['label'], df_relevant_labs_sorted['value']):\n",
        "  hadm_and_label_to_value[(hadm_id, label)] = value"
      ],
      "metadata": {
        "id": "8IcS_XAGBntX"
      },
      "execution_count": 42,
      "outputs": []
    },
    {
      "cell_type": "markdown",
      "source": [
        "In the case of multiple labs, we will take the one closest to blood culture time."
      ],
      "metadata": {
        "id": "EGoUYLYedL9D"
      }
    },
    {
      "cell_type": "code",
      "source": [
        "def get_closest_lab_value_to_culture(hadm_id, label):\n",
        "  df_particular_set = df_relevant_labs[(df_relevant_labs['hadm_id'] == hadm_id) & (df_relevant_labs['label'] == label)]\n",
        "  values = df_particular_set.sort_values(by='Culture Time Delta')['value'].values\n",
        "  if len(values) > 0:\n",
        "    return values[0]\n",
        "  else:\n",
        "    return np.nan"
      ],
      "metadata": {
        "id": "8-oh6ooG-HSj"
      },
      "execution_count": 43,
      "outputs": []
    },
    {
      "cell_type": "code",
      "source": [
        "for test in ['Hemoglobin','White Blood Cells','Platelet Count','Creatinine','Sodium','Potassium','Neutrophils','Lymphocytes','Lactate','Glucose','C-Reactive Protein','Ferritin']:\n",
        "  try:\n",
        "    df_admissions[test] = df_admissions['hadm_id'].apply(lambda x: hadm_and_label_to_value[(x, test)] if (x,test) in hadm_and_label_to_value.keys() else np.nan)\n",
        "  except:\n",
        "    pass"
      ],
      "metadata": {
        "id": "WEkLPJqQAmKO"
      },
      "execution_count": 44,
      "outputs": []
    },
    {
      "cell_type": "code",
      "source": [
        "del df_relevant_labs, df_relevant_labs_sorted"
      ],
      "metadata": {
        "id": "HjHfUznSQKQg"
      },
      "execution_count": 45,
      "outputs": []
    },
    {
      "cell_type": "markdown",
      "source": [
        "## Adding vitals"
      ],
      "metadata": {
        "id": "0AivOTmnM2_9"
      }
    },
    {
      "cell_type": "code",
      "source": [
        "stay_to_hadm = {stay:hadm for stay, hadm in zip(ed_stays['stay_id'], ed_stays['hadm_id'])}"
      ],
      "metadata": {
        "id": "BuP8z5wQRNdf"
      },
      "execution_count": 46,
      "outputs": []
    },
    {
      "cell_type": "code",
      "source": [
        "vitals['hadm_id'] = vitals['stay_id'].apply(lambda x: stay_to_hadm[x])"
      ],
      "metadata": {
        "id": "sqnMWJK_SX2k"
      },
      "execution_count": 47,
      "outputs": []
    },
    {
      "cell_type": "code",
      "source": [
        "df_relevant_vitals = vitals[~vitals['hadm_id'].isna()]"
      ],
      "metadata": {
        "id": "oS33gRARUQAX"
      },
      "execution_count": 48,
      "outputs": []
    },
    {
      "cell_type": "code",
      "source": [
        "del vitals"
      ],
      "metadata": {
        "id": "LUO4g3BeWGnv"
      },
      "execution_count": 49,
      "outputs": []
    },
    {
      "cell_type": "code",
      "source": [
        "df_relevant_vitals = df_relevant_vitals[df_relevant_vitals['hadm_id'].isin(df_admissions['hadm_id'].values)].reset_index(drop=True)"
      ],
      "metadata": {
        "id": "vEtH_QtXSIeT"
      },
      "execution_count": 50,
      "outputs": []
    },
    {
      "cell_type": "code",
      "source": [
        "df_relevant_vitals['Culture Time'] = df_relevant_vitals['hadm_id'].progress_apply(lambda x: blood_culture_time_dict[x])"
      ],
      "metadata": {
        "colab": {
          "base_uri": "https://localhost:8080/"
        },
        "id": "3G4wsUeKWSzS",
        "outputId": "75a0594f-9415-434d-cda5-c4133774dff1"
      },
      "execution_count": 51,
      "outputs": [
        {
          "output_type": "stream",
          "name": "stderr",
          "text": [
            "100%|██████████| 192147/192147 [00:00<00:00, 313369.57it/s]\n"
          ]
        }
      ]
    },
    {
      "cell_type": "code",
      "source": [
        "df_relevant_vitals['Culture Time Delta'] = df_relevant_vitals['Culture Time'] - df_relevant_vitals['charttime']"
      ],
      "metadata": {
        "id": "hTflses7XF0f"
      },
      "execution_count": 52,
      "outputs": []
    },
    {
      "cell_type": "code",
      "source": [
        "df_relevant_vitals = df_relevant_vitals[(df_relevant_vitals['Culture Time Delta'] < np.timedelta64(90,'m')) & (df_relevant_vitals['Culture Time Delta'] >= np.timedelta64(0,'h'))].reset_index(drop=True)"
      ],
      "metadata": {
        "id": "m4Eb8N0EXRJv"
      },
      "execution_count": 53,
      "outputs": []
    },
    {
      "cell_type": "code",
      "source": [
        "df_relevant_vitals_sorted = df_relevant_vitals.sort_values(by='Culture Time Delta').reset_index(drop=True)"
      ],
      "metadata": {
        "id": "YpDO5yqUYmdt"
      },
      "execution_count": 54,
      "outputs": []
    },
    {
      "cell_type": "code",
      "source": [
        "df_relevant_vitals_sorted['hadm_id'] = df_relevant_vitals_sorted['hadm_id'].astype(np.int64)\n",
        "df_admissions['hadm_id'] = df_admissions['hadm_id'].astype(np.int64)"
      ],
      "metadata": {
        "id": "5XmFvhwIZ_Fy"
      },
      "execution_count": 55,
      "outputs": []
    },
    {
      "cell_type": "code",
      "source": [
        "hadm_to_obs = {hadm:(temperature,heartrate,resprate,o2sat,sbp,dbp) for hadm,temperature,heartrate,resprate,o2sat,sbp,dbp\n",
        "               in zip(df_relevant_vitals_sorted['hadm_id'],df_relevant_vitals_sorted['temperature'],df_relevant_vitals_sorted['heartrate'],df_relevant_vitals_sorted['resprate'],\n",
        "               df_relevant_vitals_sorted['o2sat'],df_relevant_vitals_sorted['sbp'],df_relevant_vitals_sorted['dbp'])}"
      ],
      "metadata": {
        "id": "1tKUN36Bah8j"
      },
      "execution_count": 56,
      "outputs": []
    },
    {
      "cell_type": "code",
      "source": [
        "df_admissions['temperature'] = df_admissions['hadm_id'].apply(lambda x: hadm_to_obs[x][0] if x in hadm_to_obs.keys() else np.nan)\n",
        "df_admissions['heartrate'] = df_admissions['hadm_id'].apply(lambda x: hadm_to_obs[x][1] if x in hadm_to_obs.keys() else np.nan)\n",
        "df_admissions['resprate'] = df_admissions['hadm_id'].apply(lambda x: hadm_to_obs[x][2] if x in hadm_to_obs.keys() else np.nan)\n",
        "df_admissions['o2sat'] = df_admissions['hadm_id'].apply(lambda x: hadm_to_obs[x][3] if x in hadm_to_obs.keys() else np.nan)\n",
        "df_admissions['sbp'] = df_admissions['hadm_id'].apply(lambda x: hadm_to_obs[x][4] if x in hadm_to_obs.keys() else np.nan)\n",
        "df_admissions['dbp'] = df_admissions['hadm_id'].apply(lambda x: hadm_to_obs[x][5] if x in hadm_to_obs.keys() else np.nan)"
      ],
      "metadata": {
        "id": "jdexbJPwbAnY"
      },
      "execution_count": 57,
      "outputs": []
    },
    {
      "cell_type": "markdown",
      "source": [
        "## Previous septic events"
      ],
      "metadata": {
        "id": "3gIP-tGLileR"
      }
    },
    {
      "cell_type": "code",
      "source": [
        "df_admissions = df_admissions.sort_values('Culture Time').reset_index(drop=True)"
      ],
      "metadata": {
        "id": "VN8ubbO5iw_2"
      },
      "execution_count": 58,
      "outputs": []
    },
    {
      "cell_type": "code",
      "source": [
        "prev_status = []\n",
        "worst_status_dict = {}\n",
        "for subject_id, status_simplified in zip(df_admissions['subject_id'],df_admissions['Status simplified']):\n",
        "  if not subject_id in worst_status_dict.keys():\n",
        "    prev_status.append(np.nan)\n",
        "    worst_status_dict[subject_id] = status_simplified\n",
        "  else:\n",
        "    prev_status.append(worst_status_dict[subject_id])\n",
        "    if (worst_status_dict[subject_id] == 'No growth') and ('Positive culture' in status_simplified):\n",
        "      worst_status_dict[subject_id] = status_simplified\n",
        "    if (worst_status_dict[subject_id] == 'Positive culture') and ('MDRO' in status_simplified):\n",
        "      worst_status_dict[subject_id] = status_simplified"
      ],
      "metadata": {
        "id": "B3DcVqMGjKVA"
      },
      "execution_count": 59,
      "outputs": []
    },
    {
      "cell_type": "code",
      "source": [
        "df_admissions['Previous events'] = prev_status"
      ],
      "metadata": {
        "id": "CKhxM9w6oJPR"
      },
      "execution_count": 60,
      "outputs": []
    },
    {
      "cell_type": "markdown",
      "source": [
        "## Excluding neutropenic patients"
      ],
      "metadata": {
        "id": "RIGWILkJfyqJ"
      }
    },
    {
      "cell_type": "code",
      "source": [
        "df_admissions['White Blood Cells'] = df_admissions['White Blood Cells'].apply(lambda x: np.nan if x in ['___', None] else float(x))"
      ],
      "metadata": {
        "id": "frn-jleQfoDI"
      },
      "execution_count": 61,
      "outputs": []
    },
    {
      "cell_type": "code",
      "source": [
        "df_admissions['Neutrophils'] = df_admissions['Neutrophils'].apply(lambda x: np.nan if x in ['___', None] else float(x))\n",
        "df_admissions['Lymphocytes'] = df_admissions['Lymphocytes'].apply(lambda x: np.nan if x in ['___', None] else float(x))"
      ],
      "metadata": {
        "id": "RyErCr6nheOV"
      },
      "execution_count": 62,
      "outputs": []
    },
    {
      "cell_type": "code",
      "source": [
        "df_admissions['Neutrophils'] = df_admissions['White Blood Cells'] * df_admissions['Neutrophils'] / 100\n",
        "df_admissions['Lymphocytes'] = df_admissions['White Blood Cells'] * df_admissions['Lymphocytes'] / 100"
      ],
      "metadata": {
        "id": "TqMOb-k7xqiO"
      },
      "execution_count": 63,
      "outputs": []
    },
    {
      "cell_type": "markdown",
      "source": [
        "Exclude patients with known moderate-severe neutropenia (WCC or neuts < 1)"
      ],
      "metadata": {
        "id": "4vRfl0puhyID"
      }
    },
    {
      "cell_type": "code",
      "source": [
        "df_admissions = df_admissions[~(df_admissions['Neutrophils'] < 1) | (df_admissions['White Blood Cells'] < 1)]"
      ],
      "metadata": {
        "id": "QkRutH5JhBJo"
      },
      "execution_count": 64,
      "outputs": []
    },
    {
      "cell_type": "code",
      "source": [
        "df_admissions = df_admissions.reset_index(drop=True)"
      ],
      "metadata": {
        "id": "m04n5_dah7VW"
      },
      "execution_count": 65,
      "outputs": []
    },
    {
      "cell_type": "code",
      "source": [
        "df_admissions"
      ],
      "metadata": {
        "colab": {
          "base_uri": "https://localhost:8080/",
          "height": 0
        },
        "id": "rlLPR2dKiBDK",
        "outputId": "1c89aa29-7a89-4b54-bc42-83ee0ce9bb13"
      },
      "execution_count": 66,
      "outputs": [
        {
          "output_type": "execute_result",
          "data": {
            "text/plain": [
              "        hadm_id     Status Status simplified  subject_id  \\\n",
              "0      21081215  No growth         No growth    16904137   \n",
              "1      20302177  No growth         No growth    12024697   \n",
              "2      29343161  No growth         No growth    10540472   \n",
              "3      28453791  No growth         No growth    13201095   \n",
              "4      20446666  No growth         No growth    12770182   \n",
              "...         ...        ...               ...         ...   \n",
              "70728  29642380  No growth         No growth    15338454   \n",
              "70729  26783082  No growth         No growth    12844772   \n",
              "70730  27172669  No growth         No growth    17601003   \n",
              "70731  23311152  No growth         No growth    14648269   \n",
              "70732  21199923  No growth         No growth    14239401   \n",
              "\n",
              "                       admission_location insurance marital_status  \\\n",
              "0                  TRANSFER FROM HOSPITAL     Other        MARRIED   \n",
              "1                          EMERGENCY ROOM     Other        MARRIED   \n",
              "2                      PHYSICIAN REFERRAL     Other         SINGLE   \n",
              "3                  TRANSFER FROM HOSPITAL  Medicare        WIDOWED   \n",
              "4                  TRANSFER FROM HOSPITAL     Other        MARRIED   \n",
              "...                                   ...       ...            ...   \n",
              "70728                  PHYSICIAN REFERRAL  Medicare         SINGLE   \n",
              "70729                  PHYSICIAN REFERRAL  Medicare         SINGLE   \n",
              "70730                  PHYSICIAN REFERRAL     Other         SINGLE   \n",
              "70731  INTERNAL TRANSFER TO OR FROM PSYCH  Medicare         SINGLE   \n",
              "70732                  PHYSICIAN REFERRAL  Medicare        WIDOWED   \n",
              "\n",
              "                         race gender  age  ... Glucose C-Reactive Protein  \\\n",
              "0                       OTHER      M   54  ...     ___                NaN   \n",
              "1                       WHITE      M   83  ...     119                NaN   \n",
              "2                       WHITE      F   59  ...     ___                NaN   \n",
              "3                     UNKNOWN      F   88  ...     ___                NaN   \n",
              "4                       WHITE      M   53  ...    None                NaN   \n",
              "...                       ...    ...  ...  ...     ...                ...   \n",
              "70728                   WHITE      M   67  ...     ___                NaN   \n",
              "70729                   WHITE      M   58  ...     ___                NaN   \n",
              "70730                   WHITE      M   62  ...     ___                NaN   \n",
              "70731                   WHITE      M   54  ...     NaN               15.0   \n",
              "70732  BLACK/AFRICAN AMERICAN      F   66  ...    None                NaN   \n",
              "\n",
              "       Ferritin temperature     heartrate      resprate         o2sat  sbp  \\\n",
              "0           NaN         NaN           NaN           NaN           NaN  NaN   \n",
              "1           NaN         NaN           NaN           NaN           NaN  NaN   \n",
              "2           NaN         NaN           NaN           NaN           NaN  NaN   \n",
              "3           NaN         NaN           NaN           NaN           NaN  NaN   \n",
              "4           NaN         NaN           NaN           NaN           NaN  NaN   \n",
              "...         ...         ...           ...           ...           ...  ...   \n",
              "70728       NaN         NaN           NaN           NaN           NaN  NaN   \n",
              "70729       NaN         NaN           NaN           NaN           NaN  NaN   \n",
              "70730       NaN         NaN           NaN           NaN           NaN  NaN   \n",
              "70731       NaN         NaN           NaN           NaN           NaN  NaN   \n",
              "70732       NaN        None  90.000000000  18.000000000  97.000000000  113   \n",
              "\n",
              "       dbp Previous events  \n",
              "0      NaN             NaN  \n",
              "1      NaN             NaN  \n",
              "2      NaN             NaN  \n",
              "3      NaN             NaN  \n",
              "4      NaN             NaN  \n",
              "...    ...             ...  \n",
              "70728  NaN       No growth  \n",
              "70729  NaN       No growth  \n",
              "70730  NaN             NaN  \n",
              "70731  NaN             NaN  \n",
              "70732   64       No growth  \n",
              "\n",
              "[70733 rows x 30 columns]"
            ],
            "text/html": [
              "\n",
              "  <div id=\"df-3a3503f9-8867-4b65-85a2-a6ed26dee34f\">\n",
              "    <div class=\"colab-df-container\">\n",
              "      <div>\n",
              "<style scoped>\n",
              "    .dataframe tbody tr th:only-of-type {\n",
              "        vertical-align: middle;\n",
              "    }\n",
              "\n",
              "    .dataframe tbody tr th {\n",
              "        vertical-align: top;\n",
              "    }\n",
              "\n",
              "    .dataframe thead th {\n",
              "        text-align: right;\n",
              "    }\n",
              "</style>\n",
              "<table border=\"1\" class=\"dataframe\">\n",
              "  <thead>\n",
              "    <tr style=\"text-align: right;\">\n",
              "      <th></th>\n",
              "      <th>hadm_id</th>\n",
              "      <th>Status</th>\n",
              "      <th>Status simplified</th>\n",
              "      <th>subject_id</th>\n",
              "      <th>admission_location</th>\n",
              "      <th>insurance</th>\n",
              "      <th>marital_status</th>\n",
              "      <th>race</th>\n",
              "      <th>gender</th>\n",
              "      <th>age</th>\n",
              "      <th>...</th>\n",
              "      <th>Glucose</th>\n",
              "      <th>C-Reactive Protein</th>\n",
              "      <th>Ferritin</th>\n",
              "      <th>temperature</th>\n",
              "      <th>heartrate</th>\n",
              "      <th>resprate</th>\n",
              "      <th>o2sat</th>\n",
              "      <th>sbp</th>\n",
              "      <th>dbp</th>\n",
              "      <th>Previous events</th>\n",
              "    </tr>\n",
              "  </thead>\n",
              "  <tbody>\n",
              "    <tr>\n",
              "      <th>0</th>\n",
              "      <td>21081215</td>\n",
              "      <td>No growth</td>\n",
              "      <td>No growth</td>\n",
              "      <td>16904137</td>\n",
              "      <td>TRANSFER FROM HOSPITAL</td>\n",
              "      <td>Other</td>\n",
              "      <td>MARRIED</td>\n",
              "      <td>OTHER</td>\n",
              "      <td>M</td>\n",
              "      <td>54</td>\n",
              "      <td>...</td>\n",
              "      <td>___</td>\n",
              "      <td>NaN</td>\n",
              "      <td>NaN</td>\n",
              "      <td>NaN</td>\n",
              "      <td>NaN</td>\n",
              "      <td>NaN</td>\n",
              "      <td>NaN</td>\n",
              "      <td>NaN</td>\n",
              "      <td>NaN</td>\n",
              "      <td>NaN</td>\n",
              "    </tr>\n",
              "    <tr>\n",
              "      <th>1</th>\n",
              "      <td>20302177</td>\n",
              "      <td>No growth</td>\n",
              "      <td>No growth</td>\n",
              "      <td>12024697</td>\n",
              "      <td>EMERGENCY ROOM</td>\n",
              "      <td>Other</td>\n",
              "      <td>MARRIED</td>\n",
              "      <td>WHITE</td>\n",
              "      <td>M</td>\n",
              "      <td>83</td>\n",
              "      <td>...</td>\n",
              "      <td>119</td>\n",
              "      <td>NaN</td>\n",
              "      <td>NaN</td>\n",
              "      <td>NaN</td>\n",
              "      <td>NaN</td>\n",
              "      <td>NaN</td>\n",
              "      <td>NaN</td>\n",
              "      <td>NaN</td>\n",
              "      <td>NaN</td>\n",
              "      <td>NaN</td>\n",
              "    </tr>\n",
              "    <tr>\n",
              "      <th>2</th>\n",
              "      <td>29343161</td>\n",
              "      <td>No growth</td>\n",
              "      <td>No growth</td>\n",
              "      <td>10540472</td>\n",
              "      <td>PHYSICIAN REFERRAL</td>\n",
              "      <td>Other</td>\n",
              "      <td>SINGLE</td>\n",
              "      <td>WHITE</td>\n",
              "      <td>F</td>\n",
              "      <td>59</td>\n",
              "      <td>...</td>\n",
              "      <td>___</td>\n",
              "      <td>NaN</td>\n",
              "      <td>NaN</td>\n",
              "      <td>NaN</td>\n",
              "      <td>NaN</td>\n",
              "      <td>NaN</td>\n",
              "      <td>NaN</td>\n",
              "      <td>NaN</td>\n",
              "      <td>NaN</td>\n",
              "      <td>NaN</td>\n",
              "    </tr>\n",
              "    <tr>\n",
              "      <th>3</th>\n",
              "      <td>28453791</td>\n",
              "      <td>No growth</td>\n",
              "      <td>No growth</td>\n",
              "      <td>13201095</td>\n",
              "      <td>TRANSFER FROM HOSPITAL</td>\n",
              "      <td>Medicare</td>\n",
              "      <td>WIDOWED</td>\n",
              "      <td>UNKNOWN</td>\n",
              "      <td>F</td>\n",
              "      <td>88</td>\n",
              "      <td>...</td>\n",
              "      <td>___</td>\n",
              "      <td>NaN</td>\n",
              "      <td>NaN</td>\n",
              "      <td>NaN</td>\n",
              "      <td>NaN</td>\n",
              "      <td>NaN</td>\n",
              "      <td>NaN</td>\n",
              "      <td>NaN</td>\n",
              "      <td>NaN</td>\n",
              "      <td>NaN</td>\n",
              "    </tr>\n",
              "    <tr>\n",
              "      <th>4</th>\n",
              "      <td>20446666</td>\n",
              "      <td>No growth</td>\n",
              "      <td>No growth</td>\n",
              "      <td>12770182</td>\n",
              "      <td>TRANSFER FROM HOSPITAL</td>\n",
              "      <td>Other</td>\n",
              "      <td>MARRIED</td>\n",
              "      <td>WHITE</td>\n",
              "      <td>M</td>\n",
              "      <td>53</td>\n",
              "      <td>...</td>\n",
              "      <td>None</td>\n",
              "      <td>NaN</td>\n",
              "      <td>NaN</td>\n",
              "      <td>NaN</td>\n",
              "      <td>NaN</td>\n",
              "      <td>NaN</td>\n",
              "      <td>NaN</td>\n",
              "      <td>NaN</td>\n",
              "      <td>NaN</td>\n",
              "      <td>NaN</td>\n",
              "    </tr>\n",
              "    <tr>\n",
              "      <th>...</th>\n",
              "      <td>...</td>\n",
              "      <td>...</td>\n",
              "      <td>...</td>\n",
              "      <td>...</td>\n",
              "      <td>...</td>\n",
              "      <td>...</td>\n",
              "      <td>...</td>\n",
              "      <td>...</td>\n",
              "      <td>...</td>\n",
              "      <td>...</td>\n",
              "      <td>...</td>\n",
              "      <td>...</td>\n",
              "      <td>...</td>\n",
              "      <td>...</td>\n",
              "      <td>...</td>\n",
              "      <td>...</td>\n",
              "      <td>...</td>\n",
              "      <td>...</td>\n",
              "      <td>...</td>\n",
              "      <td>...</td>\n",
              "      <td>...</td>\n",
              "    </tr>\n",
              "    <tr>\n",
              "      <th>70728</th>\n",
              "      <td>29642380</td>\n",
              "      <td>No growth</td>\n",
              "      <td>No growth</td>\n",
              "      <td>15338454</td>\n",
              "      <td>PHYSICIAN REFERRAL</td>\n",
              "      <td>Medicare</td>\n",
              "      <td>SINGLE</td>\n",
              "      <td>WHITE</td>\n",
              "      <td>M</td>\n",
              "      <td>67</td>\n",
              "      <td>...</td>\n",
              "      <td>___</td>\n",
              "      <td>NaN</td>\n",
              "      <td>NaN</td>\n",
              "      <td>NaN</td>\n",
              "      <td>NaN</td>\n",
              "      <td>NaN</td>\n",
              "      <td>NaN</td>\n",
              "      <td>NaN</td>\n",
              "      <td>NaN</td>\n",
              "      <td>No growth</td>\n",
              "    </tr>\n",
              "    <tr>\n",
              "      <th>70729</th>\n",
              "      <td>26783082</td>\n",
              "      <td>No growth</td>\n",
              "      <td>No growth</td>\n",
              "      <td>12844772</td>\n",
              "      <td>PHYSICIAN REFERRAL</td>\n",
              "      <td>Medicare</td>\n",
              "      <td>SINGLE</td>\n",
              "      <td>WHITE</td>\n",
              "      <td>M</td>\n",
              "      <td>58</td>\n",
              "      <td>...</td>\n",
              "      <td>___</td>\n",
              "      <td>NaN</td>\n",
              "      <td>NaN</td>\n",
              "      <td>NaN</td>\n",
              "      <td>NaN</td>\n",
              "      <td>NaN</td>\n",
              "      <td>NaN</td>\n",
              "      <td>NaN</td>\n",
              "      <td>NaN</td>\n",
              "      <td>No growth</td>\n",
              "    </tr>\n",
              "    <tr>\n",
              "      <th>70730</th>\n",
              "      <td>27172669</td>\n",
              "      <td>No growth</td>\n",
              "      <td>No growth</td>\n",
              "      <td>17601003</td>\n",
              "      <td>PHYSICIAN REFERRAL</td>\n",
              "      <td>Other</td>\n",
              "      <td>SINGLE</td>\n",
              "      <td>WHITE</td>\n",
              "      <td>M</td>\n",
              "      <td>62</td>\n",
              "      <td>...</td>\n",
              "      <td>___</td>\n",
              "      <td>NaN</td>\n",
              "      <td>NaN</td>\n",
              "      <td>NaN</td>\n",
              "      <td>NaN</td>\n",
              "      <td>NaN</td>\n",
              "      <td>NaN</td>\n",
              "      <td>NaN</td>\n",
              "      <td>NaN</td>\n",
              "      <td>NaN</td>\n",
              "    </tr>\n",
              "    <tr>\n",
              "      <th>70731</th>\n",
              "      <td>23311152</td>\n",
              "      <td>No growth</td>\n",
              "      <td>No growth</td>\n",
              "      <td>14648269</td>\n",
              "      <td>INTERNAL TRANSFER TO OR FROM PSYCH</td>\n",
              "      <td>Medicare</td>\n",
              "      <td>SINGLE</td>\n",
              "      <td>WHITE</td>\n",
              "      <td>M</td>\n",
              "      <td>54</td>\n",
              "      <td>...</td>\n",
              "      <td>NaN</td>\n",
              "      <td>15.0</td>\n",
              "      <td>NaN</td>\n",
              "      <td>NaN</td>\n",
              "      <td>NaN</td>\n",
              "      <td>NaN</td>\n",
              "      <td>NaN</td>\n",
              "      <td>NaN</td>\n",
              "      <td>NaN</td>\n",
              "      <td>NaN</td>\n",
              "    </tr>\n",
              "    <tr>\n",
              "      <th>70732</th>\n",
              "      <td>21199923</td>\n",
              "      <td>No growth</td>\n",
              "      <td>No growth</td>\n",
              "      <td>14239401</td>\n",
              "      <td>PHYSICIAN REFERRAL</td>\n",
              "      <td>Medicare</td>\n",
              "      <td>WIDOWED</td>\n",
              "      <td>BLACK/AFRICAN AMERICAN</td>\n",
              "      <td>F</td>\n",
              "      <td>66</td>\n",
              "      <td>...</td>\n",
              "      <td>None</td>\n",
              "      <td>NaN</td>\n",
              "      <td>NaN</td>\n",
              "      <td>None</td>\n",
              "      <td>90.000000000</td>\n",
              "      <td>18.000000000</td>\n",
              "      <td>97.000000000</td>\n",
              "      <td>113</td>\n",
              "      <td>64</td>\n",
              "      <td>No growth</td>\n",
              "    </tr>\n",
              "  </tbody>\n",
              "</table>\n",
              "<p>70733 rows × 30 columns</p>\n",
              "</div>\n",
              "      <button class=\"colab-df-convert\" onclick=\"convertToInteractive('df-3a3503f9-8867-4b65-85a2-a6ed26dee34f')\"\n",
              "              title=\"Convert this dataframe to an interactive table.\"\n",
              "              style=\"display:none;\">\n",
              "        \n",
              "  <svg xmlns=\"http://www.w3.org/2000/svg\" height=\"24px\"viewBox=\"0 0 24 24\"\n",
              "       width=\"24px\">\n",
              "    <path d=\"M0 0h24v24H0V0z\" fill=\"none\"/>\n",
              "    <path d=\"M18.56 5.44l.94 2.06.94-2.06 2.06-.94-2.06-.94-.94-2.06-.94 2.06-2.06.94zm-11 1L8.5 8.5l.94-2.06 2.06-.94-2.06-.94L8.5 2.5l-.94 2.06-2.06.94zm10 10l.94 2.06.94-2.06 2.06-.94-2.06-.94-.94-2.06-.94 2.06-2.06.94z\"/><path d=\"M17.41 7.96l-1.37-1.37c-.4-.4-.92-.59-1.43-.59-.52 0-1.04.2-1.43.59L10.3 9.45l-7.72 7.72c-.78.78-.78 2.05 0 2.83L4 21.41c.39.39.9.59 1.41.59.51 0 1.02-.2 1.41-.59l7.78-7.78 2.81-2.81c.8-.78.8-2.07 0-2.86zM5.41 20L4 18.59l7.72-7.72 1.47 1.35L5.41 20z\"/>\n",
              "  </svg>\n",
              "      </button>\n",
              "      \n",
              "  <style>\n",
              "    .colab-df-container {\n",
              "      display:flex;\n",
              "      flex-wrap:wrap;\n",
              "      gap: 12px;\n",
              "    }\n",
              "\n",
              "    .colab-df-convert {\n",
              "      background-color: #E8F0FE;\n",
              "      border: none;\n",
              "      border-radius: 50%;\n",
              "      cursor: pointer;\n",
              "      display: none;\n",
              "      fill: #1967D2;\n",
              "      height: 32px;\n",
              "      padding: 0 0 0 0;\n",
              "      width: 32px;\n",
              "    }\n",
              "\n",
              "    .colab-df-convert:hover {\n",
              "      background-color: #E2EBFA;\n",
              "      box-shadow: 0px 1px 2px rgba(60, 64, 67, 0.3), 0px 1px 3px 1px rgba(60, 64, 67, 0.15);\n",
              "      fill: #174EA6;\n",
              "    }\n",
              "\n",
              "    [theme=dark] .colab-df-convert {\n",
              "      background-color: #3B4455;\n",
              "      fill: #D2E3FC;\n",
              "    }\n",
              "\n",
              "    [theme=dark] .colab-df-convert:hover {\n",
              "      background-color: #434B5C;\n",
              "      box-shadow: 0px 1px 3px 1px rgba(0, 0, 0, 0.15);\n",
              "      filter: drop-shadow(0px 1px 2px rgba(0, 0, 0, 0.3));\n",
              "      fill: #FFFFFF;\n",
              "    }\n",
              "  </style>\n",
              "\n",
              "      <script>\n",
              "        const buttonEl =\n",
              "          document.querySelector('#df-3a3503f9-8867-4b65-85a2-a6ed26dee34f button.colab-df-convert');\n",
              "        buttonEl.style.display =\n",
              "          google.colab.kernel.accessAllowed ? 'block' : 'none';\n",
              "\n",
              "        async function convertToInteractive(key) {\n",
              "          const element = document.querySelector('#df-3a3503f9-8867-4b65-85a2-a6ed26dee34f');\n",
              "          const dataTable =\n",
              "            await google.colab.kernel.invokeFunction('convertToInteractive',\n",
              "                                                     [key], {});\n",
              "          if (!dataTable) return;\n",
              "\n",
              "          const docLinkHtml = 'Like what you see? Visit the ' +\n",
              "            '<a target=\"_blank\" href=https://colab.research.google.com/notebooks/data_table.ipynb>data table notebook</a>'\n",
              "            + ' to learn more about interactive tables.';\n",
              "          element.innerHTML = '';\n",
              "          dataTable['output_type'] = 'display_data';\n",
              "          await google.colab.output.renderOutput(dataTable, element);\n",
              "          const docLink = document.createElement('div');\n",
              "          docLink.innerHTML = docLinkHtml;\n",
              "          element.appendChild(docLink);\n",
              "        }\n",
              "      </script>\n",
              "    </div>\n",
              "  </div>\n",
              "  "
            ]
          },
          "metadata": {},
          "execution_count": 66
        }
      ]
    },
    {
      "cell_type": "markdown",
      "source": [
        "# EDA/cleaning"
      ],
      "metadata": {
        "id": "KpiyPDXbmolo"
      }
    },
    {
      "cell_type": "markdown",
      "source": [
        "## Overall"
      ],
      "metadata": {
        "id": "-Dt9mN2-ptJm"
      }
    },
    {
      "cell_type": "code",
      "source": [
        "colors = sns.color_palette('pastel')[0:5]"
      ],
      "metadata": {
        "id": "iv2MdBKbphgV"
      },
      "execution_count": 67,
      "outputs": []
    },
    {
      "cell_type": "code",
      "source": [
        "df_admissions['Status simplified'].value_counts()"
      ],
      "metadata": {
        "colab": {
          "base_uri": "https://localhost:8080/"
        },
        "id": "VfinGsbNrPP1",
        "outputId": "fec5de85-06dd-4338-960d-f642b7e80660"
      },
      "execution_count": 284,
      "outputs": [
        {
          "output_type": "execute_result",
          "data": {
            "text/plain": [
              "No growth                     66605\n",
              "Positive culture               3635\n",
              "Positive culture with MDRO      493\n",
              "Name: Status simplified, dtype: int64"
            ]
          },
          "metadata": {},
          "execution_count": 284
        }
      ]
    },
    {
      "cell_type": "code",
      "source": [
        "plt.figure(figsize=(7,7))\n",
        "plt.pie(df_admissions['Status simplified'].value_counts(), colors=colors)\n",
        "plt.legend(df_admissions['Status simplified'].value_counts().keys())\n",
        "plt.show()"
      ],
      "metadata": {
        "colab": {
          "base_uri": "https://localhost:8080/",
          "height": 411
        },
        "id": "9p1xoRw-on2u",
        "outputId": "bd813e7e-fcf4-4688-f45f-0972ca79cba2"
      },
      "execution_count": 68,
      "outputs": [
        {
          "output_type": "display_data",
          "data": {
            "text/plain": [
              "<Figure size 504x504 with 1 Axes>"
            ],
            "image/png": "[encoded data removed]"
          },
          "metadata": {}
        }
      ]
    },
    {
      "cell_type": "markdown",
      "source": [
        "## Demographics"
      ],
      "metadata": {
        "id": "ysqb0puzpyeD"
      }
    },
    {
      "cell_type": "markdown",
      "source": [
        "Admission Location"
      ],
      "metadata": {
        "id": "SjqkjI36q4os"
      }
    },
    {
      "cell_type": "code",
      "source": [
        "df_admissions['admission_location'] = df_admissions['admission_location'].apply(lambda x: 'OTHER' if x in ['TRANSFER FROM SKILLED NURSING FACILITY','PROCEDURE SITE',\n",
        "                                                                     'PACU','INFORMATION NOT AVAILABLE','INTERNAL TRANSFER TO OR FROM PSYCH',\n",
        "                                                                     'AMBULATORY SURGERY TRANSFER'] else x)"
      ],
      "metadata": {
        "id": "BvlLGpuXqYKl"
      },
      "execution_count": 69,
      "outputs": []
    },
    {
      "cell_type": "code",
      "source": [
        "df_admissions['admission_location'].value_counts()"
      ],
      "metadata": {
        "colab": {
          "base_uri": "https://localhost:8080/"
        },
        "id": "02FLSLJPqgwH",
        "outputId": "1d0c8ec0-9527-4de8-c4e9-6e60a862f8f2"
      },
      "execution_count": 70,
      "outputs": [
        {
          "output_type": "execute_result",
          "data": {
            "text/plain": [
              "EMERGENCY ROOM            38078\n",
              "PHYSICIAN REFERRAL        13234\n",
              "TRANSFER FROM HOSPITAL    11693\n",
              "CLINIC REFERRAL            2869\n",
              "OTHER                      2471\n",
              "WALK-IN/SELF REFERRAL      2388\n",
              "Name: admission_location, dtype: int64"
            ]
          },
          "metadata": {},
          "execution_count": 70
        }
      ]
    },
    {
      "cell_type": "code",
      "source": [
        "plt.figure(figsize=(10,10))\n",
        "plt.pie(df_admissions['admission_location'].value_counts(), colors=colors)\n",
        "plt.legend(df_admissions['admission_location'].value_counts().keys())\n",
        "plt.show()"
      ],
      "metadata": {
        "colab": {
          "base_uri": "https://localhost:8080/",
          "height": 575
        },
        "id": "HckAEsGrpr0n",
        "outputId": "acd7c640-808e-41f7-ebf9-2cd6fe8cde52"
      },
      "execution_count": 71,
      "outputs": [
        {
          "output_type": "display_data",
          "data": {
            "text/plain": [
              "<Figure size 720x720 with 1 Axes>"
            ],
            "image/png": "[encoded data removed]"
          },
          "metadata": {}
        }
      ]
    },
    {
      "cell_type": "markdown",
      "source": [
        "Insurance"
      ],
      "metadata": {
        "id": "aHGvTKfeq6SU"
      }
    },
    {
      "cell_type": "code",
      "source": [
        "df_admissions['insurance'].value_counts()"
      ],
      "metadata": {
        "colab": {
          "base_uri": "https://localhost:8080/"
        },
        "id": "CbFFP-LDrILy",
        "outputId": "1165720b-1566-48fc-c387-3634e43e9865"
      },
      "execution_count": 72,
      "outputs": [
        {
          "output_type": "execute_result",
          "data": {
            "text/plain": [
              "Other       33490\n",
              "Medicare    31296\n",
              "Medicaid     5947\n",
              "Name: insurance, dtype: int64"
            ]
          },
          "metadata": {},
          "execution_count": 72
        }
      ]
    },
    {
      "cell_type": "code",
      "source": [
        "plt.figure(figsize=(7,7))\n",
        "plt.pie(df_admissions['insurance'].value_counts(), colors=colors)\n",
        "plt.legend(df_admissions['insurance'].value_counts().keys())\n",
        "plt.show()"
      ],
      "metadata": {
        "colab": {
          "base_uri": "https://localhost:8080/",
          "height": 411
        },
        "id": "QiXqgNqmq8rr",
        "outputId": "aa6dc274-a0df-49ee-c3dd-ea654e8651ed"
      },
      "execution_count": 73,
      "outputs": [
        {
          "output_type": "display_data",
          "data": {
            "text/plain": [
              "<Figure size 504x504 with 1 Axes>"
            ],
            "image/png": "[encoded data removed]"
          },
          "metadata": {}
        }
      ]
    },
    {
      "cell_type": "markdown",
      "source": [
        "Marital status"
      ],
      "metadata": {
        "id": "7M4WhTK4rVV3"
      }
    },
    {
      "cell_type": "code",
      "source": [
        "df_admissions['marital_status'].value_counts()"
      ],
      "metadata": {
        "colab": {
          "base_uri": "https://localhost:8080/"
        },
        "id": "yATNpArSrXkA",
        "outputId": "82399fc9-f0a5-453f-f4d3-7a106fe53d97"
      },
      "execution_count": 74,
      "outputs": [
        {
          "output_type": "execute_result",
          "data": {
            "text/plain": [
              "MARRIED     31090\n",
              "SINGLE      23217\n",
              "WIDOWED      8337\n",
              "DIVORCED     5480\n",
              "Name: marital_status, dtype: int64"
            ]
          },
          "metadata": {},
          "execution_count": 74
        }
      ]
    },
    {
      "cell_type": "code",
      "source": [
        "plt.figure(figsize=(7,7))\n",
        "plt.pie(df_admissions['marital_status'].value_counts(), colors=colors)\n",
        "plt.legend(df_admissions['marital_status'].value_counts().keys())\n",
        "plt.show()"
      ],
      "metadata": {
        "colab": {
          "base_uri": "https://localhost:8080/",
          "height": 411
        },
        "id": "6hoberHurbF6",
        "outputId": "89c9ce4e-1811-4740-eb54-52f49ca4efcf"
      },
      "execution_count": 75,
      "outputs": [
        {
          "output_type": "display_data",
          "data": {
            "text/plain": [
              "<Figure size 504x504 with 1 Axes>"
            ],
            "image/png": "[encoded data removed]"
          },
          "metadata": {}
        }
      ]
    },
    {
      "cell_type": "markdown",
      "source": [
        "Race"
      ],
      "metadata": {
        "id": "1Njx1Klerkf0"
      }
    },
    {
      "cell_type": "code",
      "source": [
        "def classify_ethnicity(race):\n",
        "  if 'WHITE' in race:\n",
        "    return 'White'\n",
        "  if 'HISPANIC' in race:\n",
        "    return 'Hispanic'\n",
        "  if 'BLACK' in race:\n",
        "    return 'Black'\n",
        "  if 'ASIAN' in race:\n",
        "    return 'Asian'\n",
        "  if 'PORTUGUESE' in race:\n",
        "    return 'White'\n",
        "  else:\n",
        "    return 'Other'"
      ],
      "metadata": {
        "id": "Tvv2apDzrrur"
      },
      "execution_count": 76,
      "outputs": []
    },
    {
      "cell_type": "code",
      "source": [
        "df_admissions['race'] = df_admissions['race'].apply(classify_ethnicity)"
      ],
      "metadata": {
        "id": "SVgXoVhFrdnN"
      },
      "execution_count": 77,
      "outputs": []
    },
    {
      "cell_type": "code",
      "source": [
        "df_admissions['race'].value_counts()"
      ],
      "metadata": {
        "colab": {
          "base_uri": "https://localhost:8080/"
        },
        "id": "0X8uyec7st_N",
        "outputId": "74521f98-64eb-47db-c620-b8f4820509f8"
      },
      "execution_count": 78,
      "outputs": [
        {
          "output_type": "execute_result",
          "data": {
            "text/plain": [
              "White       48586\n",
              "Black        9824\n",
              "Other        6497\n",
              "Hispanic     3500\n",
              "Asian        2326\n",
              "Name: race, dtype: int64"
            ]
          },
          "metadata": {},
          "execution_count": 78
        }
      ]
    },
    {
      "cell_type": "code",
      "source": [
        "plt.figure(figsize=(7,7))\n",
        "plt.pie(df_admissions['race'].value_counts(), colors=colors)\n",
        "plt.legend(df_admissions['race'].value_counts().keys())\n",
        "plt.show()"
      ],
      "metadata": {
        "colab": {
          "base_uri": "https://localhost:8080/",
          "height": 411
        },
        "id": "yNEZJFAEswRj",
        "outputId": "462cb706-9a03-4b10-e5f1-dd6719a39a60"
      },
      "execution_count": 79,
      "outputs": [
        {
          "output_type": "display_data",
          "data": {
            "text/plain": [
              "<Figure size 504x504 with 1 Axes>"
            ],
            "image/png": "[encoded data removed]"
          },
          "metadata": {}
        }
      ]
    },
    {
      "cell_type": "markdown",
      "source": [
        "Gender"
      ],
      "metadata": {
        "id": "xNFjRM_qsyuV"
      }
    },
    {
      "cell_type": "code",
      "source": [
        "df_admissions['gender'].value_counts()"
      ],
      "metadata": {
        "colab": {
          "base_uri": "https://localhost:8080/"
        },
        "id": "nX7opc0Qs38V",
        "outputId": "59ceeb4b-7e7a-4a05-e414-3acd8c0e50b2"
      },
      "execution_count": 80,
      "outputs": [
        {
          "output_type": "execute_result",
          "data": {
            "text/plain": [
              "M    38019\n",
              "F    32714\n",
              "Name: gender, dtype: int64"
            ]
          },
          "metadata": {},
          "execution_count": 80
        }
      ]
    },
    {
      "cell_type": "code",
      "source": [
        "plt.figure(figsize=(7,7))\n",
        "plt.pie(df_admissions['gender'].value_counts(), colors=colors)\n",
        "plt.legend(df_admissions['gender'].value_counts().keys())\n",
        "plt.show()"
      ],
      "metadata": {
        "colab": {
          "base_uri": "https://localhost:8080/",
          "height": 411
        },
        "id": "W1v8x6fLs7i1",
        "outputId": "a019ca70-25bb-4cfb-f01c-b9f4ce6e5376"
      },
      "execution_count": 81,
      "outputs": [
        {
          "output_type": "display_data",
          "data": {
            "text/plain": [
              "<Figure size 504x504 with 1 Axes>"
            ],
            "image/png": "[encoded data removed]"
          },
          "metadata": {}
        }
      ]
    },
    {
      "cell_type": "markdown",
      "source": [
        "Age"
      ],
      "metadata": {
        "id": "pWNj8gJEs-GD"
      }
    },
    {
      "cell_type": "code",
      "source": [
        "sns.histplot(df_admissions['age'])"
      ],
      "metadata": {
        "colab": {
          "base_uri": "https://localhost:8080/",
          "height": 296
        },
        "id": "1MgtF4yks9cW",
        "outputId": "eac17435-6044-4b61-a44a-476382b10d70"
      },
      "execution_count": 82,
      "outputs": [
        {
          "output_type": "execute_result",
          "data": {
            "text/plain": [
              "<Axes: xlabel='age', ylabel='Count'>"
            ]
          },
          "metadata": {},
          "execution_count": 82
        },
        {
          "output_type": "display_data",
          "data": {
            "text/plain": [
              "<Figure size 432x288 with 1 Axes>"
            ],
            "image/png": "[encoded data removed]"
          },
          "metadata": {
            "needs_background": "light"
          }
        }
      ]
    },
    {
      "cell_type": "markdown",
      "source": [
        "Previous events"
      ],
      "metadata": {
        "id": "xge14BcO0_K5"
      }
    },
    {
      "cell_type": "code",
      "source": [
        "df_admissions['Previous events'].value_counts()"
      ],
      "metadata": {
        "colab": {
          "base_uri": "https://localhost:8080/"
        },
        "id": "IKVtfaed1AeK",
        "outputId": "3edcdb67-26c0-4fab-920e-9145799ea389"
      },
      "execution_count": 83,
      "outputs": [
        {
          "output_type": "execute_result",
          "data": {
            "text/plain": [
              "No growth                     21832\n",
              "Positive culture               3317\n",
              "Positive culture with MDRO      661\n",
              "Name: Previous events, dtype: int64"
            ]
          },
          "metadata": {},
          "execution_count": 83
        }
      ]
    },
    {
      "cell_type": "markdown",
      "source": [
        "## Bloods"
      ],
      "metadata": {
        "id": "aU6-Lr2stMp8"
      }
    },
    {
      "cell_type": "markdown",
      "source": [
        "Hb"
      ],
      "metadata": {
        "id": "yC3MCuYRtW-0"
      }
    },
    {
      "cell_type": "code",
      "source": [
        "df_admissions['Hemoglobin'] = df_admissions['Hemoglobin'].apply(lambda x: np.nan if x in ['___','None'] else x).astype(float)"
      ],
      "metadata": {
        "id": "tCPCRGHVuO8p"
      },
      "execution_count": 84,
      "outputs": []
    },
    {
      "cell_type": "code",
      "source": [
        "df_admissions['Hemoglobin'].isna().value_counts()"
      ],
      "metadata": {
        "colab": {
          "base_uri": "https://localhost:8080/"
        },
        "id": "YeGjjOkNtRPJ",
        "outputId": "a35f6113-ef30-450e-dcfd-be4f2715b108"
      },
      "execution_count": 85,
      "outputs": [
        {
          "output_type": "execute_result",
          "data": {
            "text/plain": [
              "False    58221\n",
              "True     12512\n",
              "Name: Hemoglobin, dtype: int64"
            ]
          },
          "metadata": {},
          "execution_count": 85
        }
      ]
    },
    {
      "cell_type": "code",
      "source": [
        "plt.figure(figsize=(10,7))\n",
        "sns.histplot(df_admissions,x='Hemoglobin',bins=20)\n",
        "plt.show()"
      ],
      "metadata": {
        "colab": {
          "base_uri": "https://localhost:8080/",
          "height": 442
        },
        "id": "1j-K6AYMtcYM",
        "outputId": "372aa1e3-34cb-4fcf-8806-a91491761bbf"
      },
      "execution_count": 86,
      "outputs": [
        {
          "output_type": "display_data",
          "data": {
            "text/plain": [
              "<Figure size 720x504 with 1 Axes>"
            ],
            "image/png": "[encoded data removed]"
          },
          "metadata": {
            "needs_background": "light"
          }
        }
      ]
    },
    {
      "cell_type": "markdown",
      "source": [
        "WCC"
      ],
      "metadata": {
        "id": "PKeJccdwukyl"
      }
    },
    {
      "cell_type": "code",
      "source": [
        "df_admissions['White Blood Cells'] = df_admissions['White Blood Cells'].apply(lambda x: np.nan if x in ['___','None'] else x).astype(float)"
      ],
      "metadata": {
        "id": "I39PDDFmumfR"
      },
      "execution_count": 87,
      "outputs": []
    },
    {
      "cell_type": "code",
      "source": [
        "df_admissions['White Blood Cells'].isna().value_counts()"
      ],
      "metadata": {
        "colab": {
          "base_uri": "https://localhost:8080/"
        },
        "id": "TBQINGmGuq8n",
        "outputId": "efa0e2f2-66e0-4615-cc88-ef360ac8d910"
      },
      "execution_count": 88,
      "outputs": [
        {
          "output_type": "execute_result",
          "data": {
            "text/plain": [
              "False    56650\n",
              "True     14083\n",
              "Name: White Blood Cells, dtype: int64"
            ]
          },
          "metadata": {},
          "execution_count": 88
        }
      ]
    },
    {
      "cell_type": "code",
      "source": [
        "plt.figure(figsize=(10,7))\n",
        "plt.xlim(0,50)\n",
        "sns.histplot(df_admissions,x='White Blood Cells',bins=600)\n",
        "plt.show()"
      ],
      "metadata": {
        "colab": {
          "base_uri": "https://localhost:8080/",
          "height": 442
        },
        "id": "Vfnp-s2_uu9w",
        "outputId": "e90c399a-ed03-4853-aee7-dc0f06069bcb"
      },
      "execution_count": 89,
      "outputs": [
        {
          "output_type": "display_data",
          "data": {
            "text/plain": [
              "<Figure size 720x504 with 1 Axes>"
            ],
            "image/png": "[encoded data removed]"
          },
          "metadata": {
            "needs_background": "light"
          }
        }
      ]
    },
    {
      "cell_type": "markdown",
      "source": [
        "Platelet Count"
      ],
      "metadata": {
        "id": "tSzy5xjJu34E"
      }
    },
    {
      "cell_type": "code",
      "source": [
        "df_admissions['Platelet Count'] = df_admissions['Platelet Count'].apply(lambda x: np.nan if x in ['___','None'] else x).astype(float)"
      ],
      "metadata": {
        "id": "ubGgrBOHvCN6"
      },
      "execution_count": 90,
      "outputs": []
    },
    {
      "cell_type": "code",
      "source": [
        "df_admissions['Platelet Count'].isna().value_counts()"
      ],
      "metadata": {
        "colab": {
          "base_uri": "https://localhost:8080/"
        },
        "id": "l9x88J7kvHZ7",
        "outputId": "049704da-e414-4ea1-b91b-dc6b94e2166a"
      },
      "execution_count": 91,
      "outputs": [
        {
          "output_type": "execute_result",
          "data": {
            "text/plain": [
              "False    56178\n",
              "True     14555\n",
              "Name: Platelet Count, dtype: int64"
            ]
          },
          "metadata": {},
          "execution_count": 91
        }
      ]
    },
    {
      "cell_type": "code",
      "source": [
        "plt.figure(figsize=(10,7))\n",
        "sns.histplot(df_admissions,x='Platelet Count',bins=60)\n",
        "plt.show()"
      ],
      "metadata": {
        "colab": {
          "base_uri": "https://localhost:8080/",
          "height": 442
        },
        "id": "21WKpAEdvM_3",
        "outputId": "21151395-88d0-4c92-910d-5981c3054b8b"
      },
      "execution_count": 92,
      "outputs": [
        {
          "output_type": "display_data",
          "data": {
            "text/plain": [
              "<Figure size 720x504 with 1 Axes>"
            ],
            "image/png": "[encoded data removed]"
          },
          "metadata": {
            "needs_background": "light"
          }
        }
      ]
    },
    {
      "cell_type": "markdown",
      "source": [
        "Cr"
      ],
      "metadata": {
        "id": "it8SJp3yvUAi"
      }
    },
    {
      "cell_type": "code",
      "source": [
        "df_admissions['Creatinine'] = df_admissions['Creatinine'].apply(lambda x: np.nan if x in ['___','None'] else x).astype(float)"
      ],
      "metadata": {
        "id": "UXql_q8jvXG7"
      },
      "execution_count": 93,
      "outputs": []
    },
    {
      "cell_type": "code",
      "source": [
        "df_admissions['Creatinine'].isna().value_counts()"
      ],
      "metadata": {
        "colab": {
          "base_uri": "https://localhost:8080/"
        },
        "outputId": "f6b6805e-f236-45d9-d763-db19c5442004",
        "id": "EcKaU6v1vXG9"
      },
      "execution_count": 94,
      "outputs": [
        {
          "output_type": "execute_result",
          "data": {
            "text/plain": [
              "False    57459\n",
              "True     13274\n",
              "Name: Creatinine, dtype: int64"
            ]
          },
          "metadata": {},
          "execution_count": 94
        }
      ]
    },
    {
      "cell_type": "code",
      "source": [
        "plt.figure(figsize=(10,7))\n",
        "sns.histplot(df_admissions,x='Creatinine',bins=60)\n",
        "plt.show()"
      ],
      "metadata": {
        "colab": {
          "base_uri": "https://localhost:8080/",
          "height": 442
        },
        "outputId": "41ed25fc-c8db-47f0-974b-857d43787b4f",
        "id": "gMTvi2kvvXG-"
      },
      "execution_count": 95,
      "outputs": [
        {
          "output_type": "display_data",
          "data": {
            "text/plain": [
              "<Figure size 720x504 with 1 Axes>"
            ],
            "image/png": "[encoded data removed]"
          },
          "metadata": {
            "needs_background": "light"
          }
        }
      ]
    },
    {
      "cell_type": "markdown",
      "source": [
        "Sodium"
      ],
      "metadata": {
        "id": "jJzrCQOXvetI"
      }
    },
    {
      "cell_type": "code",
      "source": [
        "df_admissions['Sodium'] = df_admissions['Sodium'].apply(lambda x: np.nan if x in ['___','None'] else x).astype(float)"
      ],
      "metadata": {
        "id": "qS6Fdjbyvjjn"
      },
      "execution_count": 96,
      "outputs": []
    },
    {
      "cell_type": "code",
      "source": [
        "df_admissions['Sodium'].isna().value_counts()"
      ],
      "metadata": {
        "colab": {
          "base_uri": "https://localhost:8080/"
        },
        "outputId": "d9e26146-9256-41d3-f3dd-dd929a410e71",
        "id": "-jD8ctLjvjjo"
      },
      "execution_count": 97,
      "outputs": [
        {
          "output_type": "execute_result",
          "data": {
            "text/plain": [
              "False    48663\n",
              "True     22070\n",
              "Name: Sodium, dtype: int64"
            ]
          },
          "metadata": {},
          "execution_count": 97
        }
      ]
    },
    {
      "cell_type": "code",
      "source": [
        "plt.figure(figsize=(10,7))\n",
        "sns.histplot(df_admissions,x='Sodium',bins=60)\n",
        "plt.show()"
      ],
      "metadata": {
        "colab": {
          "base_uri": "https://localhost:8080/",
          "height": 442
        },
        "outputId": "2f817bce-b09e-4c80-e903-8bb37eb12d92",
        "id": "8Hjatzmcvjjp"
      },
      "execution_count": 98,
      "outputs": [
        {
          "output_type": "display_data",
          "data": {
            "text/plain": [
              "<Figure size 720x504 with 1 Axes>"
            ],
            "image/png": "[encoded data removed]"
          },
          "metadata": {
            "needs_background": "light"
          }
        }
      ]
    },
    {
      "cell_type": "markdown",
      "source": [
        "K"
      ],
      "metadata": {
        "id": "CRuN7A7KvvBt"
      }
    },
    {
      "cell_type": "code",
      "source": [
        "df_admissions['Potassium'] = df_admissions['Potassium'].apply(lambda x: np.nan if x in ['___','None'] else x).astype(float)"
      ],
      "metadata": {
        "id": "K6s5Jn8Jvx-V"
      },
      "execution_count": 99,
      "outputs": []
    },
    {
      "cell_type": "code",
      "source": [
        "df_admissions['Potassium'].isna().value_counts()"
      ],
      "metadata": {
        "colab": {
          "base_uri": "https://localhost:8080/"
        },
        "outputId": "c32cb197-2d34-4837-a030-71cf34c33483",
        "id": "EF66dlWrvx-W"
      },
      "execution_count": 100,
      "outputs": [
        {
          "output_type": "execute_result",
          "data": {
            "text/plain": [
              "False    50399\n",
              "True     20334\n",
              "Name: Potassium, dtype: int64"
            ]
          },
          "metadata": {},
          "execution_count": 100
        }
      ]
    },
    {
      "cell_type": "code",
      "source": [
        "plt.figure(figsize=(10,7))\n",
        "sns.histplot(df_admissions,x='Potassium',bins=60)\n",
        "plt.show()"
      ],
      "metadata": {
        "colab": {
          "base_uri": "https://localhost:8080/",
          "height": 442
        },
        "outputId": "5d5c44c1-1567-477c-a1eb-d2688e6423fc",
        "id": "kmjC19tkvx-X"
      },
      "execution_count": 101,
      "outputs": [
        {
          "output_type": "display_data",
          "data": {
            "text/plain": [
              "<Figure size 720x504 with 1 Axes>"
            ],
            "image/png": "[encoded data removed]"
          },
          "metadata": {
            "needs_background": "light"
          }
        }
      ]
    },
    {
      "cell_type": "markdown",
      "source": [
        "Neuts"
      ],
      "metadata": {
        "id": "oh53USOAv4Ql"
      }
    },
    {
      "cell_type": "code",
      "source": [
        "df_admissions['Neutrophils'].isna().value_counts()"
      ],
      "metadata": {
        "colab": {
          "base_uri": "https://localhost:8080/"
        },
        "outputId": "5e20b985-ddb3-4f33-cd4a-051ea73623fd",
        "id": "nf-CSbpXv-ut"
      },
      "execution_count": 102,
      "outputs": [
        {
          "output_type": "execute_result",
          "data": {
            "text/plain": [
              "True     49529\n",
              "False    21204\n",
              "Name: Neutrophils, dtype: int64"
            ]
          },
          "metadata": {},
          "execution_count": 102
        }
      ]
    },
    {
      "cell_type": "code",
      "source": [
        "plt.figure(figsize=(10,7))\n",
        "sns.histplot(df_admissions,x='Neutrophils',bins=60)\n",
        "plt.show()"
      ],
      "metadata": {
        "colab": {
          "base_uri": "https://localhost:8080/",
          "height": 442
        },
        "outputId": "04e238e1-8fd4-428f-d022-89480d0203c6",
        "id": "PLzcmjDtv-uu"
      },
      "execution_count": 103,
      "outputs": [
        {
          "output_type": "display_data",
          "data": {
            "text/plain": [
              "<Figure size 720x504 with 1 Axes>"
            ],
            "image/png": "[encoded data removed]"
          },
          "metadata": {
            "needs_background": "light"
          }
        }
      ]
    },
    {
      "cell_type": "markdown",
      "source": [
        "Lymphocytes"
      ],
      "metadata": {
        "id": "W3sxqKqswCp6"
      }
    },
    {
      "cell_type": "code",
      "source": [
        "df_admissions['Lymphocytes'].isna().value_counts()"
      ],
      "metadata": {
        "colab": {
          "base_uri": "https://localhost:8080/"
        },
        "id": "6U8k__mdwrms",
        "outputId": "53cb7c2f-3711-40d3-cf8e-02132e546fff"
      },
      "execution_count": 104,
      "outputs": [
        {
          "output_type": "execute_result",
          "data": {
            "text/plain": [
              "True     47807\n",
              "False    22926\n",
              "Name: Lymphocytes, dtype: int64"
            ]
          },
          "metadata": {},
          "execution_count": 104
        }
      ]
    },
    {
      "cell_type": "code",
      "source": [
        "plt.figure(figsize=(10,7))\n",
        "plt.xlim(0, 20)\n",
        "sns.histplot(df_admissions,x='Lymphocytes',bins=500)\n",
        "plt.show()"
      ],
      "metadata": {
        "colab": {
          "base_uri": "https://localhost:8080/",
          "height": 445
        },
        "id": "IN1foXiPwtm8",
        "outputId": "83ae531b-7190-4a78-baed-72f5a972d04d"
      },
      "execution_count": 105,
      "outputs": [
        {
          "output_type": "display_data",
          "data": {
            "text/plain": [
              "<Figure size 720x504 with 1 Axes>"
            ],
            "image/png": "[encoded data removed]"
          },
          "metadata": {
            "needs_background": "light"
          }
        }
      ]
    },
    {
      "cell_type": "markdown",
      "source": [
        "Lactate"
      ],
      "metadata": {
        "id": "tH-2Wp_zzK4n"
      }
    },
    {
      "cell_type": "code",
      "source": [
        "df_admissions['Lactate'] = df_admissions['Lactate'].apply(lambda x: np.nan if x in ['___','None'] else x).astype(float)"
      ],
      "metadata": {
        "id": "Z8R8pTk3zcis"
      },
      "execution_count": 106,
      "outputs": []
    },
    {
      "cell_type": "code",
      "source": [
        "df_admissions['Lactate'].isna().value_counts()"
      ],
      "metadata": {
        "colab": {
          "base_uri": "https://localhost:8080/"
        },
        "id": "M46_C0itzR00",
        "outputId": "922b7bd2-4be5-45e7-a75a-9eb55593a216"
      },
      "execution_count": 107,
      "outputs": [
        {
          "output_type": "execute_result",
          "data": {
            "text/plain": [
              "True     59688\n",
              "False    11045\n",
              "Name: Lactate, dtype: int64"
            ]
          },
          "metadata": {},
          "execution_count": 107
        }
      ]
    },
    {
      "cell_type": "code",
      "source": [
        "plt.figure(figsize=(10,7))\n",
        "sns.histplot(df_admissions,x='Lactate',bins=60)\n",
        "plt.show()"
      ],
      "metadata": {
        "colab": {
          "base_uri": "https://localhost:8080/",
          "height": 442
        },
        "id": "BPClZZ4YzLkL",
        "outputId": "5209e41b-5c38-4601-c982-a7389b9339be"
      },
      "execution_count": 108,
      "outputs": [
        {
          "output_type": "display_data",
          "data": {
            "text/plain": [
              "<Figure size 720x504 with 1 Axes>"
            ],
            "image/png": "[encoded data removed]"
          },
          "metadata": {
            "needs_background": "light"
          }
        }
      ]
    },
    {
      "cell_type": "markdown",
      "source": [
        "Glucose"
      ],
      "metadata": {
        "id": "fr8OlXH6zk5H"
      }
    },
    {
      "cell_type": "code",
      "source": [
        "df_admissions['Glucose'] = df_admissions['Glucose'].apply(lambda x: np.nan if x in ['___','None','NEG','TR','>1000',1000] else x).astype(float)"
      ],
      "metadata": {
        "id": "ocWU_kt0zptO"
      },
      "execution_count": 109,
      "outputs": []
    },
    {
      "cell_type": "code",
      "source": [
        "df_admissions['Glucose'].isna().value_counts()"
      ],
      "metadata": {
        "colab": {
          "base_uri": "https://localhost:8080/"
        },
        "id": "df1QLFMHz6Fm",
        "outputId": "028d6194-6de6-46bf-ce6d-2280f4b551ea"
      },
      "execution_count": 110,
      "outputs": [
        {
          "output_type": "execute_result",
          "data": {
            "text/plain": [
              "True     61641\n",
              "False     9092\n",
              "Name: Glucose, dtype: int64"
            ]
          },
          "metadata": {},
          "execution_count": 110
        }
      ]
    },
    {
      "cell_type": "code",
      "source": [
        "plt.figure(figsize=(10,7))\n",
        "sns.histplot(df_admissions,x='Glucose',bins=60)\n",
        "plt.show()"
      ],
      "metadata": {
        "colab": {
          "base_uri": "https://localhost:8080/",
          "height": 442
        },
        "id": "4QHfuhjez9AG",
        "outputId": "df3b0c47-6230-4a80-c82b-42c0ddf99a2d"
      },
      "execution_count": 111,
      "outputs": [
        {
          "output_type": "display_data",
          "data": {
            "text/plain": [
              "<Figure size 720x504 with 1 Axes>"
            ],
            "image/png": "[encoded data removed]"
          },
          "metadata": {
            "needs_background": "light"
          }
        }
      ]
    },
    {
      "cell_type": "markdown",
      "source": [
        "C-Reactive Protein"
      ],
      "metadata": {
        "id": "FAfrLfRI0UtE"
      }
    },
    {
      "cell_type": "code",
      "source": [
        "df_admissions['C-Reactive Protein'] = df_admissions['C-Reactive Protein'].apply(lambda x: np.nan if x in ['___','None'] else x).astype(float)"
      ],
      "metadata": {
        "id": "gHDp1ZR80V6Q"
      },
      "execution_count": 112,
      "outputs": []
    },
    {
      "cell_type": "code",
      "source": [
        "df_admissions['C-Reactive Protein'].isna().value_counts()"
      ],
      "metadata": {
        "colab": {
          "base_uri": "https://localhost:8080/"
        },
        "id": "GZpfi9-i0cRw",
        "outputId": "728bc96b-f508-433f-fcb5-20d4597af892"
      },
      "execution_count": 113,
      "outputs": [
        {
          "output_type": "execute_result",
          "data": {
            "text/plain": [
              "True     69802\n",
              "False      931\n",
              "Name: C-Reactive Protein, dtype: int64"
            ]
          },
          "metadata": {},
          "execution_count": 113
        }
      ]
    },
    {
      "cell_type": "code",
      "source": [
        "plt.figure(figsize=(10,7))\n",
        "sns.histplot(df_admissions,x='C-Reactive Protein',bins=60)\n",
        "plt.show()"
      ],
      "metadata": {
        "colab": {
          "base_uri": "https://localhost:8080/",
          "height": 442
        },
        "id": "q7mR2LMN0f2L",
        "outputId": "c8228e9a-b972-434f-b67d-ee0c60d0bca1"
      },
      "execution_count": 114,
      "outputs": [
        {
          "output_type": "display_data",
          "data": {
            "text/plain": [
              "<Figure size 720x504 with 1 Axes>"
            ],
            "image/png": "[encoded data removed]"
          },
          "metadata": {
            "needs_background": "light"
          }
        }
      ]
    },
    {
      "cell_type": "markdown",
      "source": [
        "Ferritin"
      ],
      "metadata": {
        "id": "-XuOPVnV0jIF"
      }
    },
    {
      "cell_type": "code",
      "source": [
        "df_admissions['Ferritin'] = df_admissions['Ferritin'].apply(lambda x: np.nan if x in ['___','None'] else x).astype(float)"
      ],
      "metadata": {
        "id": "vxxEA1JC0kWs"
      },
      "execution_count": 115,
      "outputs": []
    },
    {
      "cell_type": "code",
      "source": [
        "df_admissions['Ferritin'].isna().value_counts()"
      ],
      "metadata": {
        "colab": {
          "base_uri": "https://localhost:8080/"
        },
        "id": "LQsWrnmF0pi_",
        "outputId": "26d95088-c2a4-4a43-b02f-5ff980bc6782"
      },
      "execution_count": 116,
      "outputs": [
        {
          "output_type": "execute_result",
          "data": {
            "text/plain": [
              "True     67702\n",
              "False     3031\n",
              "Name: Ferritin, dtype: int64"
            ]
          },
          "metadata": {},
          "execution_count": 116
        }
      ]
    },
    {
      "cell_type": "code",
      "source": [
        "plt.figure(figsize=(10,7))\n",
        "plt.xlim(0,5000)\n",
        "sns.histplot(df_admissions,x='Ferritin',bins=600)\n",
        "plt.show()"
      ],
      "metadata": {
        "colab": {
          "base_uri": "https://localhost:8080/",
          "height": 442
        },
        "id": "ArV95_3P0s88",
        "outputId": "962be3b2-241b-4dda-bb62-3b73a0b18e7d"
      },
      "execution_count": 117,
      "outputs": [
        {
          "output_type": "display_data",
          "data": {
            "text/plain": [
              "<Figure size 720x504 with 1 Axes>"
            ],
            "image/png": "[encoded data removed]"
          },
          "metadata": {
            "needs_background": "light"
          }
        }
      ]
    },
    {
      "cell_type": "markdown",
      "source": [
        "## Vitals"
      ],
      "metadata": {
        "id": "4a2sivdg1HUy"
      }
    },
    {
      "cell_type": "markdown",
      "source": [
        "Temp"
      ],
      "metadata": {
        "id": "S9remEIO1QAZ"
      }
    },
    {
      "cell_type": "code",
      "source": [
        "df_admissions['temperature'] = df_admissions['temperature'].apply(lambda x: np.nan if x in ['___','None'] else x).astype(float)"
      ],
      "metadata": {
        "id": "t8V0sj6v1TlQ"
      },
      "execution_count": 118,
      "outputs": []
    },
    {
      "cell_type": "code",
      "source": [
        "df_admissions['temperature'] = df_admissions['temperature'].apply(lambda x: (x-32)*5/9 if x > 50 else x)"
      ],
      "metadata": {
        "id": "aV5R-zTl1hdk"
      },
      "execution_count": 119,
      "outputs": []
    },
    {
      "cell_type": "code",
      "source": [
        "df_admissions['temperature'].isna().value_counts()"
      ],
      "metadata": {
        "colab": {
          "base_uri": "https://localhost:8080/"
        },
        "id": "IDA11Z4O1Wwu",
        "outputId": "d2196660-6792-4cbc-b5e7-50b54169cdb6"
      },
      "execution_count": 120,
      "outputs": [
        {
          "output_type": "execute_result",
          "data": {
            "text/plain": [
              "True     69625\n",
              "False     1108\n",
              "Name: temperature, dtype: int64"
            ]
          },
          "metadata": {},
          "execution_count": 120
        }
      ]
    },
    {
      "cell_type": "code",
      "source": [
        "plt.figure(figsize=(10,7))\n",
        "sns.histplot(df_admissions,x='temperature',bins=60)\n",
        "plt.show()"
      ],
      "metadata": {
        "colab": {
          "base_uri": "https://localhost:8080/",
          "height": 442
        },
        "id": "IYCNEBkx1ZjN",
        "outputId": "64dba694-fad8-491c-a838-58e74f7ca0eb"
      },
      "execution_count": 121,
      "outputs": [
        {
          "output_type": "display_data",
          "data": {
            "text/plain": [
              "<Figure size 720x504 with 1 Axes>"
            ],
            "image/png": "[encoded data removed]"
          },
          "metadata": {
            "needs_background": "light"
          }
        }
      ]
    },
    {
      "cell_type": "markdown",
      "source": [
        "heartrate"
      ],
      "metadata": {
        "id": "gQLk_8iL1z6M"
      }
    },
    {
      "cell_type": "code",
      "source": [
        "df_admissions['heartrate'] = df_admissions['heartrate'].apply(lambda x: np.nan if x in ['___','None'] else x).astype(float)"
      ],
      "metadata": {
        "id": "OiBqldhO121F"
      },
      "execution_count": 122,
      "outputs": []
    },
    {
      "cell_type": "code",
      "source": [
        "df_admissions['heartrate'].isna().value_counts()"
      ],
      "metadata": {
        "colab": {
          "base_uri": "https://localhost:8080/"
        },
        "id": "76LaJ8i316ja",
        "outputId": "fb2cf46b-72d9-4484-b6de-c7e7c453d5e0"
      },
      "execution_count": 123,
      "outputs": [
        {
          "output_type": "execute_result",
          "data": {
            "text/plain": [
              "True     68993\n",
              "False     1740\n",
              "Name: heartrate, dtype: int64"
            ]
          },
          "metadata": {},
          "execution_count": 123
        }
      ]
    },
    {
      "cell_type": "code",
      "source": [
        "plt.figure(figsize=(10,7))\n",
        "sns.histplot(df_admissions,x='heartrate',bins=60)\n",
        "plt.show()"
      ],
      "metadata": {
        "colab": {
          "base_uri": "https://localhost:8080/",
          "height": 442
        },
        "id": "CbX2pZ9p2DpY",
        "outputId": "8e2ecf26-56c0-449c-9530-962475dd270f"
      },
      "execution_count": 124,
      "outputs": [
        {
          "output_type": "display_data",
          "data": {
            "text/plain": [
              "<Figure size 720x504 with 1 Axes>"
            ],
            "image/png": "[encoded data removed]"
          },
          "metadata": {
            "needs_background": "light"
          }
        }
      ]
    },
    {
      "cell_type": "markdown",
      "source": [
        "resprate"
      ],
      "metadata": {
        "id": "P3AOguBp2GEi"
      }
    },
    {
      "cell_type": "code",
      "source": [
        "df_admissions['resprate'] = df_admissions['resprate'].apply(lambda x: np.nan if x in ['___','None'] else x).astype(float)"
      ],
      "metadata": {
        "id": "GHnxCtVd2J_p"
      },
      "execution_count": 125,
      "outputs": []
    },
    {
      "cell_type": "code",
      "source": [
        "df_admissions['resprate'].isna().value_counts()"
      ],
      "metadata": {
        "colab": {
          "base_uri": "https://localhost:8080/"
        },
        "id": "oGN_MC9B2MuA",
        "outputId": "caa3037f-35e1-4fe3-b71e-2458f47ab79d"
      },
      "execution_count": 126,
      "outputs": [
        {
          "output_type": "execute_result",
          "data": {
            "text/plain": [
              "True     69018\n",
              "False     1715\n",
              "Name: resprate, dtype: int64"
            ]
          },
          "metadata": {},
          "execution_count": 126
        }
      ]
    },
    {
      "cell_type": "code",
      "source": [
        "plt.figure(figsize=(10,7))\n",
        "sns.histplot(df_admissions,x='resprate',bins=60)\n",
        "plt.show()"
      ],
      "metadata": {
        "colab": {
          "base_uri": "https://localhost:8080/",
          "height": 442
        },
        "id": "VdJOwon-2O0x",
        "outputId": "e7b5b35d-56e1-46b3-d65c-911656c0f427"
      },
      "execution_count": 127,
      "outputs": [
        {
          "output_type": "display_data",
          "data": {
            "text/plain": [
              "<Figure size 720x504 with 1 Axes>"
            ],
            "image/png": "[encoded data removed]"
          },
          "metadata": {
            "needs_background": "light"
          }
        }
      ]
    },
    {
      "cell_type": "markdown",
      "source": [
        "o2sat"
      ],
      "metadata": {
        "id": "1JrcqFnF2TF6"
      }
    },
    {
      "cell_type": "code",
      "source": [
        "df_admissions['o2sat'] = df_admissions['o2sat'].apply(lambda x: np.nan if x in ['___','None'] else x).astype(float)"
      ],
      "metadata": {
        "id": "4vQqJgDs2XeK"
      },
      "execution_count": 128,
      "outputs": []
    },
    {
      "cell_type": "code",
      "source": [
        "df_admissions['o2sat'].isna().value_counts()"
      ],
      "metadata": {
        "colab": {
          "base_uri": "https://localhost:8080/"
        },
        "id": "cnfT_O4Y2aHa",
        "outputId": "fe2361fe-e6cd-44a3-e67e-270cbe3a1af0"
      },
      "execution_count": 129,
      "outputs": [
        {
          "output_type": "execute_result",
          "data": {
            "text/plain": [
              "True     69071\n",
              "False     1662\n",
              "Name: o2sat, dtype: int64"
            ]
          },
          "metadata": {},
          "execution_count": 129
        }
      ]
    },
    {
      "cell_type": "code",
      "source": [
        "plt.figure(figsize=(10,7))\n",
        "sns.histplot(df_admissions,x='o2sat',bins=60)\n",
        "plt.show()"
      ],
      "metadata": {
        "colab": {
          "base_uri": "https://localhost:8080/",
          "height": 442
        },
        "id": "gWVU3gqD2csN",
        "outputId": "f78d3fa5-432b-497b-c1df-a0ec7b809a0d"
      },
      "execution_count": 130,
      "outputs": [
        {
          "output_type": "display_data",
          "data": {
            "text/plain": [
              "<Figure size 720x504 with 1 Axes>"
            ],
            "image/png": "[encoded data removed]"
          },
          "metadata": {
            "needs_background": "light"
          }
        }
      ]
    },
    {
      "cell_type": "markdown",
      "source": [
        "sbp"
      ],
      "metadata": {
        "id": "IGjfR93Z2iCY"
      }
    },
    {
      "cell_type": "code",
      "source": [
        "df_admissions['sbp'] = df_admissions['sbp'].apply(lambda x: np.nan if pd.isna(x) or x in ['___','None'] else x).astype(float)"
      ],
      "metadata": {
        "id": "Zfmq_VAQ2ycH"
      },
      "execution_count": 131,
      "outputs": []
    },
    {
      "cell_type": "code",
      "source": [
        "df_admissions['sbp'].isna().value_counts()"
      ],
      "metadata": {
        "colab": {
          "base_uri": "https://localhost:8080/"
        },
        "id": "h_QegEyf2mZr",
        "outputId": "7ef193ef-7d95-4935-80f8-e7c5dd253026"
      },
      "execution_count": 132,
      "outputs": [
        {
          "output_type": "execute_result",
          "data": {
            "text/plain": [
              "True     69014\n",
              "False     1719\n",
              "Name: sbp, dtype: int64"
            ]
          },
          "metadata": {},
          "execution_count": 132
        }
      ]
    },
    {
      "cell_type": "code",
      "source": [
        "plt.figure(figsize=(10,7))\n",
        "sns.histplot(df_admissions,x='sbp',bins=60)\n",
        "plt.show()"
      ],
      "metadata": {
        "colab": {
          "base_uri": "https://localhost:8080/",
          "height": 442
        },
        "id": "vWOStlTs2oF6",
        "outputId": "128d0c81-757e-4851-c781-7dd11da12202"
      },
      "execution_count": 133,
      "outputs": [
        {
          "output_type": "display_data",
          "data": {
            "text/plain": [
              "<Figure size 720x504 with 1 Axes>"
            ],
            "image/png": "[encoded data removed]"
          },
          "metadata": {
            "needs_background": "light"
          }
        }
      ]
    },
    {
      "cell_type": "markdown",
      "source": [
        "dbp"
      ],
      "metadata": {
        "id": "IYFXdCTo28xH"
      }
    },
    {
      "cell_type": "code",
      "source": [
        "df_admissions['dbp'] = df_admissions['dbp'].apply(lambda x: np.nan if pd.isna(x) or x in ['___','None'] or x > 300 else x).astype(float)"
      ],
      "metadata": {
        "id": "yZYLESss29cn"
      },
      "execution_count": 134,
      "outputs": []
    },
    {
      "cell_type": "code",
      "source": [
        "df_admissions['dbp'].isna().value_counts()"
      ],
      "metadata": {
        "colab": {
          "base_uri": "https://localhost:8080/"
        },
        "id": "aOIw868Q3Bb2",
        "outputId": "7babd917-21e0-4d0c-fece-bd23f03d13de"
      },
      "execution_count": 135,
      "outputs": [
        {
          "output_type": "execute_result",
          "data": {
            "text/plain": [
              "True     69015\n",
              "False     1718\n",
              "Name: dbp, dtype: int64"
            ]
          },
          "metadata": {},
          "execution_count": 135
        }
      ]
    },
    {
      "cell_type": "code",
      "source": [
        "plt.figure(figsize=(10,7))\n",
        "sns.histplot(df_admissions,x='dbp',bins=60)\n",
        "plt.show()"
      ],
      "metadata": {
        "colab": {
          "base_uri": "https://localhost:8080/",
          "height": 442
        },
        "id": "a1aj3X1k3CYX",
        "outputId": "e0d6c3a5-32f6-4666-9167-5a3e726ee607"
      },
      "execution_count": 136,
      "outputs": [
        {
          "output_type": "display_data",
          "data": {
            "text/plain": [
              "<Figure size 720x504 with 1 Axes>"
            ],
            "image/png": "[encoded data removed]"
          },
          "metadata": {
            "needs_background": "light"
          }
        }
      ]
    },
    {
      "cell_type": "markdown",
      "source": [
        "## Export"
      ],
      "metadata": {
        "id": "Aex4nfCm9aPb"
      }
    },
    {
      "cell_type": "code",
      "source": [
        "df_admissions.to_csv('mdro_prediction_dataset.csv')"
      ],
      "metadata": {
        "id": "TQUV7aiD9RAT"
      },
      "execution_count": 137,
      "outputs": []
    },
    {
      "cell_type": "markdown",
      "source": [
        "## TableOne"
      ],
      "metadata": {
        "id": "eCnSOwqW5rTE"
      }
    },
    {
      "cell_type": "code",
      "source": [
        "columns = ['admission_location','insurance','marital_status','gender','age','Previous events','Hemoglobin',\n",
        "           'White Blood Cells','Platelet Count','Creatinine','Sodium',\n",
        "           'Potassium','Neutrophils','Lymphocytes','Lactate','Glucose',\n",
        "           'C-Reactive Protein','Ferritin','temperature','heartrate','resprate','o2sat','sbp','dbp']\n",
        "\n",
        "categorical = ['admission_location','insurance','marital_status','gender','Previous events']\n",
        "\n",
        "nonnormal = ['age','White Blood Cells','Platelet Count','Creatinine','Neutrophils','Lymphocytes','Lactate',\n",
        "             'Glucose','C-Reactive Protein','Ferritin','temperature','resprate','o2sat']\n",
        "\n",
        "groupby = ['Status simplified']"
      ],
      "metadata": {
        "id": "S5bhf5AF5tyK"
      },
      "execution_count": 138,
      "outputs": []
    },
    {
      "cell_type": "code",
      "source": [
        "tableone.TableOne(df_admissions,columns=columns,categorical=categorical, groupby=groupby, nonnormal=nonnormal,pval=True)"
      ],
      "metadata": {
        "colab": {
          "base_uri": "https://localhost:8080/",
          "height": 1000
        },
        "id": "Nsp7NApU7dkG",
        "outputId": "da804485-bcc5-4864-a93b-59ab45c53a8d"
      },
      "execution_count": 139,
      "outputs": [
        {
          "output_type": "execute_result",
          "data": {
            "text/plain": [
              "                                                              Grouped by Status simplified                                                                                                   \n",
              "                                                                                   Missing              Overall            No growth      Positive culture Positive culture with MDRO P-Value\n",
              "n                                                                                                         70733                66605                  3635                        493        \n",
              "admission_location, n (%)          CLINIC REFERRAL                                       0           2869 (4.1)           2699 (4.1)             144 (4.0)                   26 (5.3)  <0.001\n",
              "                                   EMERGENCY ROOM                                                  38078 (53.8)         35975 (54.0)           1902 (52.3)                 201 (40.8)        \n",
              "                                   OTHER                                                             2471 (3.5)           2313 (3.5)             117 (3.2)                   41 (8.3)        \n",
              "                                   PHYSICIAN REFERRAL                                              13234 (18.7)         12470 (18.7)            676 (18.6)                  88 (17.8)        \n",
              "                                   TRANSFER FROM HOSPITAL                                          11693 (16.5)         10915 (16.4)            655 (18.0)                 123 (24.9)        \n",
              "                                   WALK-IN/SELF REFERRAL                                             2388 (3.4)           2233 (3.4)             141 (3.9)                   14 (2.8)        \n",
              "insurance, n (%)                   Medicaid                                              0           5947 (8.4)           5550 (8.3)             352 (9.7)                   45 (9.1)   0.024\n",
              "                                   Medicare                                                        31296 (44.2)         29481 (44.3)           1581 (43.5)                 234 (47.5)        \n",
              "                                   Other                                                           33490 (47.3)         31574 (47.4)           1702 (46.8)                 214 (43.4)        \n",
              "marital_status, n (%)              DIVORCED                                           2609           5480 (8.0)           5161 (8.0)             273 (7.8)                   46 (9.5)   0.599\n",
              "                                   MARRIED                                                         31090 (45.6)         29281 (45.6)           1602 (45.9)                 207 (42.9)        \n",
              "                                   SINGLE                                                          23217 (34.1)         21838 (34.0)           1213 (34.7)                 166 (34.4)        \n",
              "                                   WIDOWED                                                          8337 (12.2)          7871 (12.3)            403 (11.5)                  63 (13.1)        \n",
              "gender, n (%)                      F                                                     0         32714 (46.2)         30952 (46.5)           1556 (42.8)                 206 (41.8)  <0.001\n",
              "                                   M                                                               38019 (53.8)         35653 (53.5)           2079 (57.2)                 287 (58.2)        \n",
              "age, median [Q1,Q3]                                                                      0     62.0 [50.0,74.0]     62.0 [50.0,74.0]      62.0 [50.0,73.0]           64.0 [54.0,75.0]   0.009\n",
              "Previous events, n (%)             No growth                                         44923         21832 (84.6)         20546 (85.2)           1083 (76.2)                 203 (74.6)  <0.001\n",
              "                                   Positive culture                                                 3317 (12.9)          2981 (12.4)            288 (20.3)                  48 (17.6)        \n",
              "                                   Positive culture with MDRO                                         661 (2.6)            590 (2.4)              50 (3.5)                   21 (7.7)        \n",
              "Hemoglobin, mean (SD)                                                                12512           10.4 (2.0)           10.4 (2.0)            10.3 (2.0)                  9.8 (1.8)  <0.001\n",
              "White Blood Cells, median [Q1,Q3]                                                    14083       9.5 [6.4,13.6]       9.5 [6.4,13.5]       10.1 [6.6,14.7]            10.5 [6.6,14.5]  <0.001\n",
              "Platelet Count, median [Q1,Q3]                                                       14555  207.0 [144.0,286.0]  208.0 [145.0,287.0]   190.0 [127.0,273.0]        198.0 [137.0,282.0]  <0.001\n",
              "Creatinine, median [Q1,Q3]                                                           13274        1.0 [0.7,1.5]        1.0 [0.7,1.5]         1.0 [0.7,1.6]              1.0 [0.7,1.6]  <0.001\n",
              "Sodium, mean (SD)                                                                    22070          137.7 (4.2)          137.7 (4.2)           137.4 (4.4)                136.5 (4.6)  <0.001\n",
              "Potassium, mean (SD)                                                                 20334            4.1 (0.5)            4.1 (0.5)             4.1 (0.6)                  4.1 (0.5)   0.261\n",
              "Neutrophils, median [Q1,Q3]                                                          49529       7.5 [4.4,11.7]       7.4 [4.4,11.6]        8.4 [4.7,12.7]             8.8 [5.6,12.5]  <0.001\n",
              "Lymphocytes, median [Q1,Q3]                                                          47807        1.0 [0.6,1.6]        1.0 [0.6,1.6]         0.8 [0.4,1.4]              0.8 [0.4,1.2]  <0.001\n",
              "Lactate, median [Q1,Q3]                                                              59688        1.5 [1.1,2.1]        1.5 [1.1,2.1]         1.7 [1.2,2.4]              1.8 [1.2,2.3]  <0.001\n",
              "Glucose, median [Q1,Q3]                                                              61641   115.0 [96.0,150.0]   115.0 [96.0,150.0]    123.0 [97.0,158.0]        135.0 [100.0,173.0]   0.010\n",
              "C-Reactive Protein, median [Q1,Q3]                                                   69802    74.0 [17.3,153.2]    69.9 [15.9,147.8]    149.5 [78.8,207.9]         104.9 [69.9,193.7]  <0.001\n",
              "Ferritin, median [Q1,Q3]                                                             67702  332.0 [128.0,836.5]  328.0 [126.0,814.8]  383.0 [168.0,1066.0]       599.0 [288.5,1076.0]   0.019\n",
              "temperature, median [Q1,Q3]                                                          69625     36.8 [36.6,37.3]     36.8 [36.6,37.3]      37.1 [36.7,37.7]           38.4 [37.0,39.2]   0.001\n",
              "heartrate, mean (SD)                                                                 68993          88.8 (20.9)          88.8 (20.8)           88.8 (21.1)               100.2 (30.3)   0.226\n",
              "resprate, median [Q1,Q3]                                                             69018     18.0 [16.0,20.0]     18.0 [16.0,20.0]      18.0 [16.0,20.0]           18.0 [18.0,20.2]   0.162\n",
              "o2sat, median [Q1,Q3]                                                                69071    98.0 [96.0,100.0]    98.0 [96.0,100.0]     98.0 [96.0,100.0]           97.5 [96.0,99.5]   0.743\n",
              "sbp, mean (SD)                                                                       69014         123.6 (25.3)         123.8 (25.3)          122.3 (24.5)               113.8 (33.0)   0.372\n",
              "dbp, mean (SD)                                                                       69015          68.6 (15.9)          68.8 (15.9)           67.5 (15.3)                62.3 (19.7)   0.290"
            ],
            "text/html": [
              "<div>\n",
              "<style scoped>\n",
              "    .dataframe tbody tr th:only-of-type {\n",
              "        vertical-align: middle;\n",
              "    }\n",
              "\n",
              "    .dataframe tbody tr th {\n",
              "        vertical-align: top;\n",
              "    }\n",
              "\n",
              "    .dataframe thead tr th {\n",
              "        text-align: left;\n",
              "    }\n",
              "</style>\n",
              "<table border=\"1\" class=\"dataframe\">\n",
              "  <thead>\n",
              "    <tr>\n",
              "      <th></th>\n",
              "      <th></th>\n",
              "      <th colspan=\"6\" halign=\"left\">Grouped by Status simplified</th>\n",
              "    </tr>\n",
              "    <tr>\n",
              "      <th></th>\n",
              "      <th></th>\n",
              "      <th>Missing</th>\n",
              "      <th>Overall</th>\n",
              "      <th>No growth</th>\n",
              "      <th>Positive culture</th>\n",
              "      <th>Positive culture with MDRO</th>\n",
              "      <th>P-Value</th>\n",
              "    </tr>\n",
              "  </thead>\n",
              "  <tbody>\n",
              "    <tr>\n",
              "      <th>n</th>\n",
              "      <th></th>\n",
              "      <td></td>\n",
              "      <td>70733</td>\n",
              "      <td>66605</td>\n",
              "      <td>3635</td>\n",
              "      <td>493</td>\n",
              "      <td></td>\n",
              "    </tr>\n",
              "    <tr>\n",
              "      <th rowspan=\"6\" valign=\"top\">admission_location, n (%)</th>\n",
              "      <th>CLINIC REFERRAL</th>\n",
              "      <td>0</td>\n",
              "      <td>2869 (4.1)</td>\n",
              "      <td>2699 (4.1)</td>\n",
              "      <td>144 (4.0)</td>\n",
              "      <td>26 (5.3)</td>\n",
              "      <td>&lt;0.001</td>\n",
              "    </tr>\n",
              "    <tr>\n",
              "      <th>EMERGENCY ROOM</th>\n",
              "      <td></td>\n",
              "      <td>38078 (53.8)</td>\n",
              "      <td>35975 (54.0)</td>\n",
              "      <td>1902 (52.3)</td>\n",
              "      <td>201 (40.8)</td>\n",
              "      <td></td>\n",
              "    </tr>\n",
              "    <tr>\n",
              "      <th>OTHER</th>\n",
              "      <td></td>\n",
              "      <td>2471 (3.5)</td>\n",
              "      <td>2313 (3.5)</td>\n",
              "      <td>117 (3.2)</td>\n",
              "      <td>41 (8.3)</td>\n",
              "      <td></td>\n",
              "    </tr>\n",
              "    <tr>\n",
              "      <th>PHYSICIAN REFERRAL</th>\n",
              "      <td></td>\n",
              "      <td>13234 (18.7)</td>\n",
              "      <td>12470 (18.7)</td>\n",
              "      <td>676 (18.6)</td>\n",
              "      <td>88 (17.8)</td>\n",
              "      <td></td>\n",
              "    </tr>\n",
              "    <tr>\n",
              "      <th>TRANSFER FROM HOSPITAL</th>\n",
              "      <td></td>\n",
              "      <td>11693 (16.5)</td>\n",
              "      <td>10915 (16.4)</td>\n",
              "      <td>655 (18.0)</td>\n",
              "      <td>123 (24.9)</td>\n",
              "      <td></td>\n",
              "    </tr>\n",
              "    <tr>\n",
              "      <th>WALK-IN/SELF REFERRAL</th>\n",
              "      <td></td>\n",
              "      <td>2388 (3.4)</td>\n",
              "      <td>2233 (3.4)</td>\n",
              "      <td>141 (3.9)</td>\n",
              "      <td>14 (2.8)</td>\n",
              "      <td></td>\n",
              "    </tr>\n",
              "    <tr>\n",
              "      <th rowspan=\"3\" valign=\"top\">insurance, n (%)</th>\n",
              "      <th>Medicaid</th>\n",
              "      <td>0</td>\n",
              "      <td>5947 (8.4)</td>\n",
              "      <td>5550 (8.3)</td>\n",
              "      <td>352 (9.7)</td>\n",
              "      <td>45 (9.1)</td>\n",
              "      <td>0.024</td>\n",
              "    </tr>\n",
              "    <tr>\n",
              "      <th>Medicare</th>\n",
              "      <td></td>\n",
              "      <td>31296 (44.2)</td>\n",
              "      <td>29481 (44.3)</td>\n",
              "      <td>1581 (43.5)</td>\n",
              "      <td>234 (47.5)</td>\n",
              "      <td></td>\n",
              "    </tr>\n",
              "    <tr>\n",
              "      <th>Other</th>\n",
              "      <td></td>\n",
              "      <td>33490 (47.3)</td>\n",
              "      <td>31574 (47.4)</td>\n",
              "      <td>1702 (46.8)</td>\n",
              "      <td>214 (43.4)</td>\n",
              "      <td></td>\n",
              "    </tr>\n",
              "    <tr>\n",
              "      <th rowspan=\"4\" valign=\"top\">marital_status, n (%)</th>\n",
              "      <th>DIVORCED</th>\n",
              "      <td>2609</td>\n",
              "      <td>5480 (8.0)</td>\n",
              "      <td>5161 (8.0)</td>\n",
              "      <td>273 (7.8)</td>\n",
              "      <td>46 (9.5)</td>\n",
              "      <td>0.599</td>\n",
              "    </tr>\n",
              "    <tr>\n",
              "      <th>MARRIED</th>\n",
              "      <td></td>\n",
              "      <td>31090 (45.6)</td>\n",
              "      <td>29281 (45.6)</td>\n",
              "      <td>1602 (45.9)</td>\n",
              "      <td>207 (42.9)</td>\n",
              "      <td></td>\n",
              "    </tr>\n",
              "    <tr>\n",
              "      <th>SINGLE</th>\n",
              "      <td></td>\n",
              "      <td>23217 (34.1)</td>\n",
              "      <td>21838 (34.0)</td>\n",
              "      <td>1213 (34.7)</td>\n",
              "      <td>166 (34.4)</td>\n",
              "      <td></td>\n",
              "    </tr>\n",
              "    <tr>\n",
              "      <th>WIDOWED</th>\n",
              "      <td></td>\n",
              "      <td>8337 (12.2)</td>\n",
              "      <td>7871 (12.3)</td>\n",
              "      <td>403 (11.5)</td>\n",
              "      <td>63 (13.1)</td>\n",
              "      <td></td>\n",
              "    </tr>\n",
              "    <tr>\n",
              "      <th rowspan=\"2\" valign=\"top\">gender, n (%)</th>\n",
              "      <th>F</th>\n",
              "      <td>0</td>\n",
              "      <td>32714 (46.2)</td>\n",
              "      <td>30952 (46.5)</td>\n",
              "      <td>1556 (42.8)</td>\n",
              "      <td>206 (41.8)</td>\n",
              "      <td>&lt;0.001</td>\n",
              "    </tr>\n",
              "    <tr>\n",
              "      <th>M</th>\n",
              "      <td></td>\n",
              "      <td>38019 (53.8)</td>\n",
              "      <td>35653 (53.5)</td>\n",
              "      <td>2079 (57.2)</td>\n",
              "      <td>287 (58.2)</td>\n",
              "      <td></td>\n",
              "    </tr>\n",
              "    <tr>\n",
              "      <th>age, median [Q1,Q3]</th>\n",
              "      <th></th>\n",
              "      <td>0</td>\n",
              "      <td>62.0 [50.0,74.0]</td>\n",
              "      <td>62.0 [50.0,74.0]</td>\n",
              "      <td>62.0 [50.0,73.0]</td>\n",
              "      <td>64.0 [54.0,75.0]</td>\n",
              "      <td>0.009</td>\n",
              "    </tr>\n",
              "    <tr>\n",
              "      <th rowspan=\"3\" valign=\"top\">Previous events, n (%)</th>\n",
              "      <th>No growth</th>\n",
              "      <td>44923</td>\n",
              "      <td>21832 (84.6)</td>\n",
              "      <td>20546 (85.2)</td>\n",
              "      <td>1083 (76.2)</td>\n",
              "      <td>203 (74.6)</td>\n",
              "      <td>&lt;0.001</td>\n",
              "    </tr>\n",
              "    <tr>\n",
              "      <th>Positive culture</th>\n",
              "      <td></td>\n",
              "      <td>3317 (12.9)</td>\n",
              "      <td>2981 (12.4)</td>\n",
              "      <td>288 (20.3)</td>\n",
              "      <td>48 (17.6)</td>\n",
              "      <td></td>\n",
              "    </tr>\n",
              "    <tr>\n",
              "      <th>Positive culture with MDRO</th>\n",
              "      <td></td>\n",
              "      <td>661 (2.6)</td>\n",
              "      <td>590 (2.4)</td>\n",
              "      <td>50 (3.5)</td>\n",
              "      <td>21 (7.7)</td>\n",
              "      <td></td>\n",
              "    </tr>\n",
              "    <tr>\n",
              "      <th>Hemoglobin, mean (SD)</th>\n",
              "      <th></th>\n",
              "      <td>12512</td>\n",
              "      <td>10.4 (2.0)</td>\n",
              "      <td>10.4 (2.0)</td>\n",
              "      <td>10.3 (2.0)</td>\n",
              "      <td>9.8 (1.8)</td>\n",
              "      <td>&lt;0.001</td>\n",
              "    </tr>\n",
              "    <tr>\n",
              "      <th>White Blood Cells, median [Q1,Q3]</th>\n",
              "      <th></th>\n",
              "      <td>14083</td>\n",
              "      <td>9.5 [6.4,13.6]</td>\n",
              "      <td>9.5 [6.4,13.5]</td>\n",
              "      <td>10.1 [6.6,14.7]</td>\n",
              "      <td>10.5 [6.6,14.5]</td>\n",
              "      <td>&lt;0.001</td>\n",
              "    </tr>\n",
              "    <tr>\n",
              "      <th>Platelet Count, median [Q1,Q3]</th>\n",
              "      <th></th>\n",
              "      <td>14555</td>\n",
              "      <td>207.0 [144.0,286.0]</td>\n",
              "      <td>208.0 [145.0,287.0]</td>\n",
              "      <td>190.0 [127.0,273.0]</td>\n",
              "      <td>198.0 [137.0,282.0]</td>\n",
              "      <td>&lt;0.001</td>\n",
              "    </tr>\n",
              "    <tr>\n",
              "      <th>Creatinine, median [Q1,Q3]</th>\n",
              "      <th></th>\n",
              "      <td>13274</td>\n",
              "      <td>1.0 [0.7,1.5]</td>\n",
              "      <td>1.0 [0.7,1.5]</td>\n",
              "      <td>1.0 [0.7,1.6]</td>\n",
              "      <td>1.0 [0.7,1.6]</td>\n",
              "      <td>&lt;0.001</td>\n",
              "    </tr>\n",
              "    <tr>\n",
              "      <th>Sodium, mean (SD)</th>\n",
              "      <th></th>\n",
              "      <td>22070</td>\n",
              "      <td>137.7 (4.2)</td>\n",
              "      <td>137.7 (4.2)</td>\n",
              "      <td>137.4 (4.4)</td>\n",
              "      <td>136.5 (4.6)</td>\n",
              "      <td>&lt;0.001</td>\n",
              "    </tr>\n",
              "    <tr>\n",
              "      <th>Potassium, mean (SD)</th>\n",
              "      <th></th>\n",
              "      <td>20334</td>\n",
              "      <td>4.1 (0.5)</td>\n",
              "      <td>4.1 (0.5)</td>\n",
              "      <td>4.1 (0.6)</td>\n",
              "      <td>4.1 (0.5)</td>\n",
              "      <td>0.261</td>\n",
              "    </tr>\n",
              "    <tr>\n",
              "      <th>Neutrophils, median [Q1,Q3]</th>\n",
              "      <th></th>\n",
              "      <td>49529</td>\n",
              "      <td>7.5 [4.4,11.7]</td>\n",
              "      <td>7.4 [4.4,11.6]</td>\n",
              "      <td>8.4 [4.7,12.7]</td>\n",
              "      <td>8.8 [5.6,12.5]</td>\n",
              "      <td>&lt;0.001</td>\n",
              "    </tr>\n",
              "    <tr>\n",
              "      <th>Lymphocytes, median [Q1,Q3]</th>\n",
              "      <th></th>\n",
              "      <td>47807</td>\n",
              "      <td>1.0 [0.6,1.6]</td>\n",
              "      <td>1.0 [0.6,1.6]</td>\n",
              "      <td>0.8 [0.4,1.4]</td>\n",
              "      <td>0.8 [0.4,1.2]</td>\n",
              "      <td>&lt;0.001</td>\n",
              "    </tr>\n",
              "    <tr>\n",
              "      <th>Lactate, median [Q1,Q3]</th>\n",
              "      <th></th>\n",
              "      <td>59688</td>\n",
              "      <td>1.5 [1.1,2.1]</td>\n",
              "      <td>1.5 [1.1,2.1]</td>\n",
              "      <td>1.7 [1.2,2.4]</td>\n",
              "      <td>1.8 [1.2,2.3]</td>\n",
              "      <td>&lt;0.001</td>\n",
              "    </tr>\n",
              "    <tr>\n",
              "      <th>Glucose, median [Q1,Q3]</th>\n",
              "      <th></th>\n",
              "      <td>61641</td>\n",
              "      <td>115.0 [96.0,150.0]</td>\n",
              "      <td>115.0 [96.0,150.0]</td>\n",
              "      <td>123.0 [97.0,158.0]</td>\n",
              "      <td>135.0 [100.0,173.0]</td>\n",
              "      <td>0.010</td>\n",
              "    </tr>\n",
              "    <tr>\n",
              "      <th>C-Reactive Protein, median [Q1,Q3]</th>\n",
              "      <th></th>\n",
              "      <td>69802</td>\n",
              "      <td>74.0 [17.3,153.2]</td>\n",
              "      <td>69.9 [15.9,147.8]</td>\n",
              "      <td>149.5 [78.8,207.9]</td>\n",
              "      <td>104.9 [69.9,193.7]</td>\n",
              "      <td>&lt;0.001</td>\n",
              "    </tr>\n",
              "    <tr>\n",
              "      <th>Ferritin, median [Q1,Q3]</th>\n",
              "      <th></th>\n",
              "      <td>67702</td>\n",
              "      <td>332.0 [128.0,836.5]</td>\n",
              "      <td>328.0 [126.0,814.8]</td>\n",
              "      <td>383.0 [168.0,1066.0]</td>\n",
              "      <td>599.0 [288.5,1076.0]</td>\n",
              "      <td>0.019</td>\n",
              "    </tr>\n",
              "    <tr>\n",
              "      <th>temperature, median [Q1,Q3]</th>\n",
              "      <th></th>\n",
              "      <td>69625</td>\n",
              "      <td>36.8 [36.6,37.3]</td>\n",
              "      <td>36.8 [36.6,37.3]</td>\n",
              "      <td>37.1 [36.7,37.7]</td>\n",
              "      <td>38.4 [37.0,39.2]</td>\n",
              "      <td>0.001</td>\n",
              "    </tr>\n",
              "    <tr>\n",
              "      <th>heartrate, mean (SD)</th>\n",
              "      <th></th>\n",
              "      <td>68993</td>\n",
              "      <td>88.8 (20.9)</td>\n",
              "      <td>88.8 (20.8)</td>\n",
              "      <td>88.8 (21.1)</td>\n",
              "      <td>100.2 (30.3)</td>\n",
              "      <td>0.226</td>\n",
              "    </tr>\n",
              "    <tr>\n",
              "      <th>resprate, median [Q1,Q3]</th>\n",
              "      <th></th>\n",
              "      <td>69018</td>\n",
              "      <td>18.0 [16.0,20.0]</td>\n",
              "      <td>18.0 [16.0,20.0]</td>\n",
              "      <td>18.0 [16.0,20.0]</td>\n",
              "      <td>18.0 [18.0,20.2]</td>\n",
              "      <td>0.162</td>\n",
              "    </tr>\n",
              "    <tr>\n",
              "      <th>o2sat, median [Q1,Q3]</th>\n",
              "      <th></th>\n",
              "      <td>69071</td>\n",
              "      <td>98.0 [96.0,100.0]</td>\n",
              "      <td>98.0 [96.0,100.0]</td>\n",
              "      <td>98.0 [96.0,100.0]</td>\n",
              "      <td>97.5 [96.0,99.5]</td>\n",
              "      <td>0.743</td>\n",
              "    </tr>\n",
              "    <tr>\n",
              "      <th>sbp, mean (SD)</th>\n",
              "      <th></th>\n",
              "      <td>69014</td>\n",
              "      <td>123.6 (25.3)</td>\n",
              "      <td>123.8 (25.3)</td>\n",
              "      <td>122.3 (24.5)</td>\n",
              "      <td>113.8 (33.0)</td>\n",
              "      <td>0.372</td>\n",
              "    </tr>\n",
              "    <tr>\n",
              "      <th>dbp, mean (SD)</th>\n",
              "      <th></th>\n",
              "      <td>69015</td>\n",
              "      <td>68.6 (15.9)</td>\n",
              "      <td>68.8 (15.9)</td>\n",
              "      <td>67.5 (15.3)</td>\n",
              "      <td>62.3 (19.7)</td>\n",
              "      <td>0.290</td>\n",
              "    </tr>\n",
              "  </tbody>\n",
              "</table>\n",
              "</div><br />"
            ]
          },
          "metadata": {},
          "execution_count": 139
        }
      ]
    },
    {
      "cell_type": "markdown",
      "source": [
        "# Explanatory logistic regression models"
      ],
      "metadata": {
        "id": "oA4-3RqgAQI8"
      }
    },
    {
      "cell_type": "markdown",
      "source": [
        "## Imputation/one hot encoding"
      ],
      "metadata": {
        "id": "ucvVI2mcBBim"
      }
    },
    {
      "cell_type": "markdown",
      "source": [
        "Mean imputation"
      ],
      "metadata": {
        "id": "fsOhl1UPBKct"
      }
    },
    {
      "cell_type": "code",
      "source": [
        "numerical_columns = pd.DataFrame()"
      ],
      "metadata": {
        "id": "IfEAwI_IBX3V"
      },
      "execution_count": 140,
      "outputs": []
    },
    {
      "cell_type": "code",
      "source": [
        "numerical_columns['age'] = df_admissions['age']\n",
        "numerical_columns['Hemoglobin'] = df_admissions['Hemoglobin'].fillna(df_admissions['Hemoglobin'].mean())\n",
        "numerical_columns['White Blood Cells'] = df_admissions['White Blood Cells'].fillna(df_admissions['White Blood Cells'].mean())\n",
        "numerical_columns['Platelet Count'] = df_admissions['Platelet Count'].fillna(df_admissions['Platelet Count'].mean())\n",
        "numerical_columns['Creatinine'] = df_admissions['Creatinine'].fillna(df_admissions['Creatinine'].mean())\n",
        "numerical_columns['Sodium'] = df_admissions['Sodium'].fillna(df_admissions['Sodium'].mean())\n",
        "numerical_columns['Potassium'] = df_admissions['Potassium'].fillna(df_admissions['Potassium'].mean())\n",
        "numerical_columns['Neutrophils'] = df_admissions['Neutrophils'].fillna(df_admissions['Neutrophils'].mean())\n",
        "numerical_columns['Lymphocytes'] = df_admissions['Lymphocytes'].fillna(df_admissions['Lymphocytes'].mean())\n",
        "numerical_columns['Lactate'] = df_admissions['Lactate'].fillna(df_admissions['Lactate'].mean())\n",
        "numerical_columns['Glucose'] = df_admissions['Glucose'].fillna(df_admissions['Glucose'].mean())\n",
        "numerical_columns['C-Reactive Protein'] = df_admissions['C-Reactive Protein'].fillna(df_admissions['C-Reactive Protein'].mean())\n",
        "numerical_columns['Ferritin'] = df_admissions['Ferritin'].fillna(df_admissions['Ferritin'].mean())\n",
        "numerical_columns['temperature'] = df_admissions['temperature'].fillna(df_admissions['temperature'].mean())\n",
        "numerical_columns['heartrate'] = df_admissions['heartrate'].fillna(df_admissions['heartrate'].mean())\n",
        "numerical_columns['resprate'] = df_admissions['resprate'].fillna(df_admissions['resprate'].mean())\n",
        "numerical_columns['o2sat'] = df_admissions['o2sat'].fillna(df_admissions['o2sat'].mean())\n",
        "numerical_columns['sbp'] = df_admissions['sbp'].fillna(df_admissions['sbp'].mean())\n",
        "numerical_columns['dbp'] = df_admissions['dbp'].fillna(df_admissions['dbp'].mean())"
      ],
      "metadata": {
        "id": "OX8_S8UTBb-f"
      },
      "execution_count": 141,
      "outputs": []
    },
    {
      "cell_type": "code",
      "source": [
        "categorical_columns = pd.concat(\n",
        "    [\n",
        "        pd.get_dummies(df_admissions['admission_location'],prefix='admission_location'),\n",
        "        pd.get_dummies(df_admissions['insurance'],prefix='insurance'),\n",
        "        pd.get_dummies(df_admissions['marital_status'],prefix='marital_status'),\n",
        "        pd.get_dummies(df_admissions['race'],prefix='race'),\n",
        "        pd.get_dummies(df_admissions['gender'],prefix='gender'),\n",
        "        pd.get_dummies(df_admissions['Previous events'],prefix='Previous events')\n",
        "    ], axis=1)"
      ],
      "metadata": {
        "id": "I08DZh9lDrD-"
      },
      "execution_count": 142,
      "outputs": []
    },
    {
      "cell_type": "code",
      "source": [
        "categorical_columns = categorical_columns.drop(['admission_location_EMERGENCY ROOM','insurance_Other','marital_status_MARRIED',\n",
        "                          'race_White','gender_F'],axis=1)"
      ],
      "metadata": {
        "id": "XuS46iQQAT2k"
      },
      "execution_count": 143,
      "outputs": []
    },
    {
      "cell_type": "markdown",
      "source": [
        "## Model 1: MRDO vs all others"
      ],
      "metadata": {
        "id": "D6RK643Y_I_q"
      }
    },
    {
      "cell_type": "code",
      "source": [
        "X_train = pd.concat([categorical_columns,numerical_columns],axis=1)"
      ],
      "metadata": {
        "id": "WrBy1uh4_qfj"
      },
      "execution_count": 144,
      "outputs": []
    },
    {
      "cell_type": "code",
      "source": [
        "y_train = (df_admissions['Status simplified'] == 'Positive culture with MDRO').astype(int)"
      ],
      "metadata": {
        "id": "aGLacR9KGRlA"
      },
      "execution_count": 145,
      "outputs": []
    },
    {
      "cell_type": "code",
      "source": [
        "log_reg = sm.Logit(y_train, X_train).fit()"
      ],
      "metadata": {
        "colab": {
          "base_uri": "https://localhost:8080/"
        },
        "id": "BRJQctQFGyXE",
        "outputId": "dcd0fa52-f806-4ea5-de01-8ba4b820dde8"
      },
      "execution_count": 146,
      "outputs": [
        {
          "output_type": "stream",
          "name": "stdout",
          "text": [
            "Optimization terminated successfully.\n",
            "         Current function value: 0.039672\n",
            "         Iterations 10\n"
          ]
        }
      ]
    },
    {
      "cell_type": "code",
      "source": [
        "log_reg.summary()"
      ],
      "metadata": {
        "colab": {
          "base_uri": "https://localhost:8080/",
          "height": 999
        },
        "id": "Z8_I9xXJG4bF",
        "outputId": "2f19768f-a882-4c56-a839-dd898cfd33a1"
      },
      "execution_count": 147,
      "outputs": [
        {
          "output_type": "execute_result",
          "data": {
            "text/plain": [
              "<class 'statsmodels.iolib.summary.Summary'>\n",
              "\"\"\"\n",
              "                           Logit Regression Results                           \n",
              "==============================================================================\n",
              "Dep. Variable:      Status simplified   No. Observations:                70733\n",
              "Model:                          Logit   Df Residuals:                    70696\n",
              "Method:                           MLE   Df Model:                           36\n",
              "Date:                Sat, 18 Mar 2023   Pseudo R-squ.:                 0.04542\n",
              "Time:                        19:44:25   Log-Likelihood:                -2806.1\n",
              "converged:                       True   LL-Null:                       -2939.6\n",
              "Covariance Type:            nonrobust   LLR p-value:                 4.558e-37\n",
              "==============================================================================================================\n",
              "                                                 coef    std err          z      P>|z|      [0.025      0.975]\n",
              "--------------------------------------------------------------------------------------------------------------\n",
              "admission_location_CLINIC REFERRAL             0.3444      0.212      1.624      0.104      -0.071       0.760\n",
              "admission_location_OTHER                       0.9919      0.175      5.669      0.000       0.649       1.335\n",
              "admission_location_PHYSICIAN REFERRAL          0.1755      0.130      1.348      0.178      -0.080       0.431\n",
              "admission_location_TRANSFER FROM HOSPITAL      0.7317      0.119      6.163      0.000       0.499       0.964\n",
              "admission_location_WALK-IN/SELF REFERRAL       0.0758      0.279      0.272      0.786      -0.471       0.623\n",
              "insurance_Medicaid                             0.2207      0.171      1.293      0.196      -0.114       0.555\n",
              "insurance_Medicare                            -0.0727      0.104     -0.699      0.484      -0.276       0.131\n",
              "marital_status_DIVORCED                        0.3025      0.166      1.826      0.068      -0.022       0.627\n",
              "marital_status_SINGLE                          0.2825      0.113      2.506      0.012       0.062       0.503\n",
              "marital_status_WIDOWED                         0.1486      0.155      0.957      0.339      -0.156       0.453\n",
              "race_Asian                                    -0.1115      0.268     -0.416      0.677      -0.637       0.414\n",
              "race_Black                                    -0.3697      0.157     -2.360      0.018      -0.677      -0.063\n",
              "race_Hispanic                                 -0.3732      0.246     -1.518      0.129      -0.855       0.109\n",
              "race_Other                                    -0.2044      0.177     -1.152      0.249      -0.552       0.143\n",
              "gender_M                                       0.1920      0.096      1.993      0.046       0.003       0.381\n",
              "Previous events_No growth                      0.6239      0.103      6.070      0.000       0.422       0.825\n",
              "Previous events_Positive culture               1.1433      0.166      6.881      0.000       0.818       1.469\n",
              "Previous events_Positive culture with MDRO     1.8301      0.238      7.702      0.000       1.364       2.296\n",
              "age                                            0.0114      0.004      3.211      0.001       0.004       0.018\n",
              "Hemoglobin                                    -0.1076      0.027     -4.053      0.000      -0.160      -0.056\n",
              "White Blood Cells                              0.0084      0.005      1.852      0.064      -0.000       0.017\n",
              "Platelet Count                                -0.0002      0.000     -0.546      0.585      -0.001       0.001\n",
              "Creatinine                                    -0.0216      0.033     -0.650      0.515      -0.087       0.043\n",
              "Sodium                                        -0.0577      0.012     -4.645      0.000      -0.082      -0.033\n",
              "Potassium                                     -0.0068      0.103     -0.066      0.947      -0.208       0.195\n",
              "Neutrophils                                    0.0236      0.011      2.114      0.035       0.002       0.045\n",
              "Lymphocytes                                   -0.2639      0.096     -2.753      0.006      -0.452      -0.076\n",
              "Lactate                                        0.1353      0.143      0.949      0.343      -0.144       0.415\n",
              "Glucose                                       -0.0008      0.001     -0.636      0.525      -0.003       0.002\n",
              "C-Reactive Protein                             0.0052      0.003      1.613      0.107      -0.001       0.011\n",
              "Ferritin                                    3.051e-05   2.19e-05      1.392      0.164   -1.24e-05    7.35e-05\n",
              "temperature                                    0.1922      0.154      1.248      0.212      -0.110       0.494\n",
              "heartrate                                      0.0194      0.013      1.480      0.139      -0.006       0.045\n",
              "resprate                                      -0.0414      0.071     -0.584      0.559      -0.180       0.098\n",
              "o2sat                                         -0.0402      0.048     -0.846      0.398      -0.133       0.053\n",
              "sbp                                           -0.0087      0.015     -0.569      0.569      -0.039       0.021\n",
              "dbp                                           -0.0148      0.024     -0.622      0.534      -0.061       0.032\n",
              "==============================================================================================================\n",
              "\"\"\""
            ],
            "text/html": [
              "<table class=\"simpletable\">\n",
              "<caption>Logit Regression Results</caption>\n",
              "<tr>\n",
              "  <th>Dep. Variable:</th>   <td>Status simplified</td> <th>  No. Observations:  </th>  <td> 70733</td>  \n",
              "</tr>\n",
              "<tr>\n",
              "  <th>Model:</th>                 <td>Logit</td>       <th>  Df Residuals:      </th>  <td> 70696</td>  \n",
              "</tr>\n",
              "<tr>\n",
              "  <th>Method:</th>                 <td>MLE</td>        <th>  Df Model:          </th>  <td>    36</td>  \n",
              "</tr>\n",
              "<tr>\n",
              "  <th>Date:</th>            <td>Sat, 18 Mar 2023</td>  <th>  Pseudo R-squ.:     </th>  <td>0.04542</td> \n",
              "</tr>\n",
              "<tr>\n",
              "  <th>Time:</th>                <td>19:44:25</td>      <th>  Log-Likelihood:    </th> <td> -2806.1</td> \n",
              "</tr>\n",
              "<tr>\n",
              "  <th>converged:</th>             <td>True</td>        <th>  LL-Null:           </th> <td> -2939.6</td> \n",
              "</tr>\n",
              "<tr>\n",
              "  <th>Covariance Type:</th>     <td>nonrobust</td>     <th>  LLR p-value:       </th> <td>4.558e-37</td>\n",
              "</tr>\n",
              "</table>\n",
              "<table class=\"simpletable\">\n",
              "<tr>\n",
              "                       <td></td>                         <th>coef</th>     <th>std err</th>      <th>z</th>      <th>P>|z|</th>  <th>[0.025</th>    <th>0.975]</th>  \n",
              "</tr>\n",
              "<tr>\n",
              "  <th>admission_location_CLINIC REFERRAL</th>         <td>    0.3444</td> <td>    0.212</td> <td>    1.624</td> <td> 0.104</td> <td>   -0.071</td> <td>    0.760</td>\n",
              "</tr>\n",
              "<tr>\n",
              "  <th>admission_location_OTHER</th>                   <td>    0.9919</td> <td>    0.175</td> <td>    5.669</td> <td> 0.000</td> <td>    0.649</td> <td>    1.335</td>\n",
              "</tr>\n",
              "<tr>\n",
              "  <th>admission_location_PHYSICIAN REFERRAL</th>      <td>    0.1755</td> <td>    0.130</td> <td>    1.348</td> <td> 0.178</td> <td>   -0.080</td> <td>    0.431</td>\n",
              "</tr>\n",
              "<tr>\n",
              "  <th>admission_location_TRANSFER FROM HOSPITAL</th>  <td>    0.7317</td> <td>    0.119</td> <td>    6.163</td> <td> 0.000</td> <td>    0.499</td> <td>    0.964</td>\n",
              "</tr>\n",
              "<tr>\n",
              "  <th>admission_location_WALK-IN/SELF REFERRAL</th>   <td>    0.0758</td> <td>    0.279</td> <td>    0.272</td> <td> 0.786</td> <td>   -0.471</td> <td>    0.623</td>\n",
              "</tr>\n",
              "<tr>\n",
              "  <th>insurance_Medicaid</th>                         <td>    0.2207</td> <td>    0.171</td> <td>    1.293</td> <td> 0.196</td> <td>   -0.114</td> <td>    0.555</td>\n",
              "</tr>\n",
              "<tr>\n",
              "  <th>insurance_Medicare</th>                         <td>   -0.0727</td> <td>    0.104</td> <td>   -0.699</td> <td> 0.484</td> <td>   -0.276</td> <td>    0.131</td>\n",
              "</tr>\n",
              "<tr>\n",
              "  <th>marital_status_DIVORCED</th>                    <td>    0.3025</td> <td>    0.166</td> <td>    1.826</td> <td> 0.068</td> <td>   -0.022</td> <td>    0.627</td>\n",
              "</tr>\n",
              "<tr>\n",
              "  <th>marital_status_SINGLE</th>                      <td>    0.2825</td> <td>    0.113</td> <td>    2.506</td> <td> 0.012</td> <td>    0.062</td> <td>    0.503</td>\n",
              "</tr>\n",
              "<tr>\n",
              "  <th>marital_status_WIDOWED</th>                     <td>    0.1486</td> <td>    0.155</td> <td>    0.957</td> <td> 0.339</td> <td>   -0.156</td> <td>    0.453</td>\n",
              "</tr>\n",
              "<tr>\n",
              "  <th>race_Asian</th>                                 <td>   -0.1115</td> <td>    0.268</td> <td>   -0.416</td> <td> 0.677</td> <td>   -0.637</td> <td>    0.414</td>\n",
              "</tr>\n",
              "<tr>\n",
              "  <th>race_Black</th>                                 <td>   -0.3697</td> <td>    0.157</td> <td>   -2.360</td> <td> 0.018</td> <td>   -0.677</td> <td>   -0.063</td>\n",
              "</tr>\n",
              "<tr>\n",
              "  <th>race_Hispanic</th>                              <td>   -0.3732</td> <td>    0.246</td> <td>   -1.518</td> <td> 0.129</td> <td>   -0.855</td> <td>    0.109</td>\n",
              "</tr>\n",
              "<tr>\n",
              "  <th>race_Other</th>                                 <td>   -0.2044</td> <td>    0.177</td> <td>   -1.152</td> <td> 0.249</td> <td>   -0.552</td> <td>    0.143</td>\n",
              "</tr>\n",
              "<tr>\n",
              "  <th>gender_M</th>                                   <td>    0.1920</td> <td>    0.096</td> <td>    1.993</td> <td> 0.046</td> <td>    0.003</td> <td>    0.381</td>\n",
              "</tr>\n",
              "<tr>\n",
              "  <th>Previous events_No growth</th>                  <td>    0.6239</td> <td>    0.103</td> <td>    6.070</td> <td> 0.000</td> <td>    0.422</td> <td>    0.825</td>\n",
              "</tr>\n",
              "<tr>\n",
              "  <th>Previous events_Positive culture</th>           <td>    1.1433</td> <td>    0.166</td> <td>    6.881</td> <td> 0.000</td> <td>    0.818</td> <td>    1.469</td>\n",
              "</tr>\n",
              "<tr>\n",
              "  <th>Previous events_Positive culture with MDRO</th> <td>    1.8301</td> <td>    0.238</td> <td>    7.702</td> <td> 0.000</td> <td>    1.364</td> <td>    2.296</td>\n",
              "</tr>\n",
              "<tr>\n",
              "  <th>age</th>                                        <td>    0.0114</td> <td>    0.004</td> <td>    3.211</td> <td> 0.001</td> <td>    0.004</td> <td>    0.018</td>\n",
              "</tr>\n",
              "<tr>\n",
              "  <th>Hemoglobin</th>                                 <td>   -0.1076</td> <td>    0.027</td> <td>   -4.053</td> <td> 0.000</td> <td>   -0.160</td> <td>   -0.056</td>\n",
              "</tr>\n",
              "<tr>\n",
              "  <th>White Blood Cells</th>                          <td>    0.0084</td> <td>    0.005</td> <td>    1.852</td> <td> 0.064</td> <td>   -0.000</td> <td>    0.017</td>\n",
              "</tr>\n",
              "<tr>\n",
              "  <th>Platelet Count</th>                             <td>   -0.0002</td> <td>    0.000</td> <td>   -0.546</td> <td> 0.585</td> <td>   -0.001</td> <td>    0.001</td>\n",
              "</tr>\n",
              "<tr>\n",
              "  <th>Creatinine</th>                                 <td>   -0.0216</td> <td>    0.033</td> <td>   -0.650</td> <td> 0.515</td> <td>   -0.087</td> <td>    0.043</td>\n",
              "</tr>\n",
              "<tr>\n",
              "  <th>Sodium</th>                                     <td>   -0.0577</td> <td>    0.012</td> <td>   -4.645</td> <td> 0.000</td> <td>   -0.082</td> <td>   -0.033</td>\n",
              "</tr>\n",
              "<tr>\n",
              "  <th>Potassium</th>                                  <td>   -0.0068</td> <td>    0.103</td> <td>   -0.066</td> <td> 0.947</td> <td>   -0.208</td> <td>    0.195</td>\n",
              "</tr>\n",
              "<tr>\n",
              "  <th>Neutrophils</th>                                <td>    0.0236</td> <td>    0.011</td> <td>    2.114</td> <td> 0.035</td> <td>    0.002</td> <td>    0.045</td>\n",
              "</tr>\n",
              "<tr>\n",
              "  <th>Lymphocytes</th>                                <td>   -0.2639</td> <td>    0.096</td> <td>   -2.753</td> <td> 0.006</td> <td>   -0.452</td> <td>   -0.076</td>\n",
              "</tr>\n",
              "<tr>\n",
              "  <th>Lactate</th>                                    <td>    0.1353</td> <td>    0.143</td> <td>    0.949</td> <td> 0.343</td> <td>   -0.144</td> <td>    0.415</td>\n",
              "</tr>\n",
              "<tr>\n",
              "  <th>Glucose</th>                                    <td>   -0.0008</td> <td>    0.001</td> <td>   -0.636</td> <td> 0.525</td> <td>   -0.003</td> <td>    0.002</td>\n",
              "</tr>\n",
              "<tr>\n",
              "  <th>C-Reactive Protein</th>                         <td>    0.0052</td> <td>    0.003</td> <td>    1.613</td> <td> 0.107</td> <td>   -0.001</td> <td>    0.011</td>\n",
              "</tr>\n",
              "<tr>\n",
              "  <th>Ferritin</th>                                   <td> 3.051e-05</td> <td> 2.19e-05</td> <td>    1.392</td> <td> 0.164</td> <td>-1.24e-05</td> <td> 7.35e-05</td>\n",
              "</tr>\n",
              "<tr>\n",
              "  <th>temperature</th>                                <td>    0.1922</td> <td>    0.154</td> <td>    1.248</td> <td> 0.212</td> <td>   -0.110</td> <td>    0.494</td>\n",
              "</tr>\n",
              "<tr>\n",
              "  <th>heartrate</th>                                  <td>    0.0194</td> <td>    0.013</td> <td>    1.480</td> <td> 0.139</td> <td>   -0.006</td> <td>    0.045</td>\n",
              "</tr>\n",
              "<tr>\n",
              "  <th>resprate</th>                                   <td>   -0.0414</td> <td>    0.071</td> <td>   -0.584</td> <td> 0.559</td> <td>   -0.180</td> <td>    0.098</td>\n",
              "</tr>\n",
              "<tr>\n",
              "  <th>o2sat</th>                                      <td>   -0.0402</td> <td>    0.048</td> <td>   -0.846</td> <td> 0.398</td> <td>   -0.133</td> <td>    0.053</td>\n",
              "</tr>\n",
              "<tr>\n",
              "  <th>sbp</th>                                        <td>   -0.0087</td> <td>    0.015</td> <td>   -0.569</td> <td> 0.569</td> <td>   -0.039</td> <td>    0.021</td>\n",
              "</tr>\n",
              "<tr>\n",
              "  <th>dbp</th>                                        <td>   -0.0148</td> <td>    0.024</td> <td>   -0.622</td> <td> 0.534</td> <td>   -0.061</td> <td>    0.032</td>\n",
              "</tr>\n",
              "</table>"
            ]
          },
          "metadata": {},
          "execution_count": 147
        }
      ]
    },
    {
      "cell_type": "markdown",
      "source": [
        "MDRO associated with:\n",
        "\n",
        "1.   Transfers from hospital and other admission locations\n",
        "2.   Being single rather than married\n",
        "3.   Being black is protective\n",
        "4.   Being male\n",
        "5.   Previous blood cultures, (and more strongly) previous positive blood cultures (and more strongly) positive MDRO blood cultures\n",
        "6.   Being older\n",
        "7.   Having a lower Hb\n",
        "8.   Having a lower Na\n",
        "9.   Having higher neuts and lower lymphocytes\n",
        "10.  Having a higher glucose\n",
        "\n"
      ],
      "metadata": {
        "id": "ei4YbPWyHOel"
      }
    },
    {
      "cell_type": "markdown",
      "source": [
        "## Model 2: positive blood culture vs negative blood culture"
      ],
      "metadata": {
        "id": "SM6rPDBL_QGc"
      }
    },
    {
      "cell_type": "code",
      "source": [
        "y_train = (df_admissions['Status simplified'].apply(lambda x: 'Positive culture' in x)).astype(int)"
      ],
      "metadata": {
        "id": "JKvSU1CjJL9n"
      },
      "execution_count": 148,
      "outputs": []
    },
    {
      "cell_type": "code",
      "source": [
        "y_train.value_counts()"
      ],
      "metadata": {
        "colab": {
          "base_uri": "https://localhost:8080/"
        },
        "id": "uMKBZxsxJR7j",
        "outputId": "8f07be2b-8e03-4d54-fe46-35ee7f5d33dc"
      },
      "execution_count": 149,
      "outputs": [
        {
          "output_type": "execute_result",
          "data": {
            "text/plain": [
              "0    66605\n",
              "1     4128\n",
              "Name: Status simplified, dtype: int64"
            ]
          },
          "metadata": {},
          "execution_count": 149
        }
      ]
    },
    {
      "cell_type": "code",
      "source": [
        "log_reg = sm.Logit(y_train, X_train).fit()"
      ],
      "metadata": {
        "colab": {
          "base_uri": "https://localhost:8080/"
        },
        "id": "lNW7bRaQJeVz",
        "outputId": "def5ff21-d36e-49c1-d23e-d55fe51a65cc"
      },
      "execution_count": 150,
      "outputs": [
        {
          "output_type": "stream",
          "name": "stdout",
          "text": [
            "Optimization terminated successfully.\n",
            "         Current function value: 0.219565\n",
            "         Iterations 7\n"
          ]
        }
      ]
    },
    {
      "cell_type": "code",
      "source": [
        "log_reg.summary()"
      ],
      "metadata": {
        "colab": {
          "base_uri": "https://localhost:8080/",
          "height": 999
        },
        "id": "A2cOmtvGJhbu",
        "outputId": "9250e840-05a6-413c-dfea-55afa31d532d"
      },
      "execution_count": 151,
      "outputs": [
        {
          "output_type": "execute_result",
          "data": {
            "text/plain": [
              "<class 'statsmodels.iolib.summary.Summary'>\n",
              "\"\"\"\n",
              "                           Logit Regression Results                           \n",
              "==============================================================================\n",
              "Dep. Variable:      Status simplified   No. Observations:                70733\n",
              "Model:                          Logit   Df Residuals:                    70696\n",
              "Method:                           MLE   Df Model:                           36\n",
              "Date:                Sat, 18 Mar 2023   Pseudo R-squ.:                 0.01289\n",
              "Time:                        19:44:26   Log-Likelihood:                -15530.\n",
              "converged:                       True   LL-Null:                       -15733.\n",
              "Covariance Type:            nonrobust   LLR p-value:                 4.379e-64\n",
              "==============================================================================================================\n",
              "                                                 coef    std err          z      P>|z|      [0.025      0.975]\n",
              "--------------------------------------------------------------------------------------------------------------\n",
              "admission_location_CLINIC REFERRAL             0.0130      0.083      0.156      0.876      -0.150       0.176\n",
              "admission_location_OTHER                       0.1231      0.086      1.434      0.152      -0.045       0.291\n",
              "admission_location_PHYSICIAN REFERRAL          0.0144      0.044      0.326      0.744      -0.072       0.101\n",
              "admission_location_TRANSFER FROM HOSPITAL      0.1756      0.045      3.917      0.000       0.088       0.263\n",
              "admission_location_WALK-IN/SELF REFERRAL       0.1353      0.087      1.558      0.119      -0.035       0.306\n",
              "insurance_Medicaid                             0.1880      0.059      3.190      0.001       0.072       0.304\n",
              "insurance_Medicare                            -0.0272      0.038     -0.726      0.468      -0.101       0.046\n",
              "marital_status_DIVORCED                        0.0152      0.063      0.241      0.809      -0.108       0.139\n",
              "marital_status_SINGLE                          0.0432      0.040      1.084      0.278      -0.035       0.121\n",
              "marital_status_WIDOWED                         0.0237      0.057      0.414      0.679      -0.089       0.136\n",
              "race_Asian                                    -0.2003      0.098     -2.044      0.041      -0.392      -0.008\n",
              "race_Black                                    -0.0491      0.049     -0.992      0.321      -0.146       0.048\n",
              "race_Hispanic                                 -0.2116      0.081     -2.608      0.009      -0.371      -0.053\n",
              "race_Other                                     0.0030      0.057      0.052      0.959      -0.109       0.115\n",
              "gender_M                                       0.1309      0.034      3.835      0.000       0.064       0.198\n",
              "Previous events_No growth                      0.0705      0.037      1.896      0.058      -0.002       0.143\n",
              "Previous events_Positive culture               0.6606      0.063     10.460      0.000       0.537       0.784\n",
              "Previous events_Positive culture with MDRO     0.7037      0.129      5.472      0.000       0.452       0.956\n",
              "age                                            0.0005      0.001      0.425      0.671      -0.002       0.003\n",
              "Hemoglobin                                    -0.0336      0.009     -3.690      0.000      -0.052      -0.016\n",
              "White Blood Cells                              0.0071      0.002      3.926      0.000       0.004       0.011\n",
              "Platelet Count                                -0.0010      0.000     -6.668      0.000      -0.001      -0.001\n",
              "Creatinine                                     0.0314      0.010      3.076      0.002       0.011       0.051\n",
              "Sodium                                        -0.0208      0.005     -4.537      0.000      -0.030      -0.012\n",
              "Potassium                                     -0.0204      0.037     -0.548      0.584      -0.093       0.053\n",
              "Neutrophils                                    0.0184      0.005      4.056      0.000       0.010       0.027\n",
              "Lymphocytes                                   -0.0901      0.028     -3.178      0.001      -0.146      -0.035\n",
              "Lactate                                        0.2002      0.049      4.106      0.000       0.105       0.296\n",
              "Glucose                                       -0.0003      0.000     -0.962      0.336      -0.001       0.000\n",
              "C-Reactive Protein                             0.0067      0.001      5.005      0.000       0.004       0.009\n",
              "Ferritin                                    1.913e-05   1.12e-05      1.705      0.088   -2.86e-06    4.11e-05\n",
              "temperature                                    0.1265      0.072      1.769      0.077      -0.014       0.267\n",
              "heartrate                                      0.0058      0.005      1.098      0.272      -0.005       0.016\n",
              "resprate                                      -0.0890      0.029     -3.093      0.002      -0.145      -0.033\n",
              "o2sat                                         -0.0347      0.025     -1.402      0.161      -0.083       0.014\n",
              "sbp                                           -0.0013      0.005     -0.254      0.799      -0.012       0.009\n",
              "dbp                                           -0.0088      0.008     -1.060      0.289      -0.025       0.008\n",
              "==============================================================================================================\n",
              "\"\"\""
            ],
            "text/html": [
              "<table class=\"simpletable\">\n",
              "<caption>Logit Regression Results</caption>\n",
              "<tr>\n",
              "  <th>Dep. Variable:</th>   <td>Status simplified</td> <th>  No. Observations:  </th>  <td> 70733</td>  \n",
              "</tr>\n",
              "<tr>\n",
              "  <th>Model:</th>                 <td>Logit</td>       <th>  Df Residuals:      </th>  <td> 70696</td>  \n",
              "</tr>\n",
              "<tr>\n",
              "  <th>Method:</th>                 <td>MLE</td>        <th>  Df Model:          </th>  <td>    36</td>  \n",
              "</tr>\n",
              "<tr>\n",
              "  <th>Date:</th>            <td>Sat, 18 Mar 2023</td>  <th>  Pseudo R-squ.:     </th>  <td>0.01289</td> \n",
              "</tr>\n",
              "<tr>\n",
              "  <th>Time:</th>                <td>19:44:26</td>      <th>  Log-Likelihood:    </th> <td> -15530.</td> \n",
              "</tr>\n",
              "<tr>\n",
              "  <th>converged:</th>             <td>True</td>        <th>  LL-Null:           </th> <td> -15733.</td> \n",
              "</tr>\n",
              "<tr>\n",
              "  <th>Covariance Type:</th>     <td>nonrobust</td>     <th>  LLR p-value:       </th> <td>4.379e-64</td>\n",
              "</tr>\n",
              "</table>\n",
              "<table class=\"simpletable\">\n",
              "<tr>\n",
              "                       <td></td>                         <th>coef</th>     <th>std err</th>      <th>z</th>      <th>P>|z|</th>  <th>[0.025</th>    <th>0.975]</th>  \n",
              "</tr>\n",
              "<tr>\n",
              "  <th>admission_location_CLINIC REFERRAL</th>         <td>    0.0130</td> <td>    0.083</td> <td>    0.156</td> <td> 0.876</td> <td>   -0.150</td> <td>    0.176</td>\n",
              "</tr>\n",
              "<tr>\n",
              "  <th>admission_location_OTHER</th>                   <td>    0.1231</td> <td>    0.086</td> <td>    1.434</td> <td> 0.152</td> <td>   -0.045</td> <td>    0.291</td>\n",
              "</tr>\n",
              "<tr>\n",
              "  <th>admission_location_PHYSICIAN REFERRAL</th>      <td>    0.0144</td> <td>    0.044</td> <td>    0.326</td> <td> 0.744</td> <td>   -0.072</td> <td>    0.101</td>\n",
              "</tr>\n",
              "<tr>\n",
              "  <th>admission_location_TRANSFER FROM HOSPITAL</th>  <td>    0.1756</td> <td>    0.045</td> <td>    3.917</td> <td> 0.000</td> <td>    0.088</td> <td>    0.263</td>\n",
              "</tr>\n",
              "<tr>\n",
              "  <th>admission_location_WALK-IN/SELF REFERRAL</th>   <td>    0.1353</td> <td>    0.087</td> <td>    1.558</td> <td> 0.119</td> <td>   -0.035</td> <td>    0.306</td>\n",
              "</tr>\n",
              "<tr>\n",
              "  <th>insurance_Medicaid</th>                         <td>    0.1880</td> <td>    0.059</td> <td>    3.190</td> <td> 0.001</td> <td>    0.072</td> <td>    0.304</td>\n",
              "</tr>\n",
              "<tr>\n",
              "  <th>insurance_Medicare</th>                         <td>   -0.0272</td> <td>    0.038</td> <td>   -0.726</td> <td> 0.468</td> <td>   -0.101</td> <td>    0.046</td>\n",
              "</tr>\n",
              "<tr>\n",
              "  <th>marital_status_DIVORCED</th>                    <td>    0.0152</td> <td>    0.063</td> <td>    0.241</td> <td> 0.809</td> <td>   -0.108</td> <td>    0.139</td>\n",
              "</tr>\n",
              "<tr>\n",
              "  <th>marital_status_SINGLE</th>                      <td>    0.0432</td> <td>    0.040</td> <td>    1.084</td> <td> 0.278</td> <td>   -0.035</td> <td>    0.121</td>\n",
              "</tr>\n",
              "<tr>\n",
              "  <th>marital_status_WIDOWED</th>                     <td>    0.0237</td> <td>    0.057</td> <td>    0.414</td> <td> 0.679</td> <td>   -0.089</td> <td>    0.136</td>\n",
              "</tr>\n",
              "<tr>\n",
              "  <th>race_Asian</th>                                 <td>   -0.2003</td> <td>    0.098</td> <td>   -2.044</td> <td> 0.041</td> <td>   -0.392</td> <td>   -0.008</td>\n",
              "</tr>\n",
              "<tr>\n",
              "  <th>race_Black</th>                                 <td>   -0.0491</td> <td>    0.049</td> <td>   -0.992</td> <td> 0.321</td> <td>   -0.146</td> <td>    0.048</td>\n",
              "</tr>\n",
              "<tr>\n",
              "  <th>race_Hispanic</th>                              <td>   -0.2116</td> <td>    0.081</td> <td>   -2.608</td> <td> 0.009</td> <td>   -0.371</td> <td>   -0.053</td>\n",
              "</tr>\n",
              "<tr>\n",
              "  <th>race_Other</th>                                 <td>    0.0030</td> <td>    0.057</td> <td>    0.052</td> <td> 0.959</td> <td>   -0.109</td> <td>    0.115</td>\n",
              "</tr>\n",
              "<tr>\n",
              "  <th>gender_M</th>                                   <td>    0.1309</td> <td>    0.034</td> <td>    3.835</td> <td> 0.000</td> <td>    0.064</td> <td>    0.198</td>\n",
              "</tr>\n",
              "<tr>\n",
              "  <th>Previous events_No growth</th>                  <td>    0.0705</td> <td>    0.037</td> <td>    1.896</td> <td> 0.058</td> <td>   -0.002</td> <td>    0.143</td>\n",
              "</tr>\n",
              "<tr>\n",
              "  <th>Previous events_Positive culture</th>           <td>    0.6606</td> <td>    0.063</td> <td>   10.460</td> <td> 0.000</td> <td>    0.537</td> <td>    0.784</td>\n",
              "</tr>\n",
              "<tr>\n",
              "  <th>Previous events_Positive culture with MDRO</th> <td>    0.7037</td> <td>    0.129</td> <td>    5.472</td> <td> 0.000</td> <td>    0.452</td> <td>    0.956</td>\n",
              "</tr>\n",
              "<tr>\n",
              "  <th>age</th>                                        <td>    0.0005</td> <td>    0.001</td> <td>    0.425</td> <td> 0.671</td> <td>   -0.002</td> <td>    0.003</td>\n",
              "</tr>\n",
              "<tr>\n",
              "  <th>Hemoglobin</th>                                 <td>   -0.0336</td> <td>    0.009</td> <td>   -3.690</td> <td> 0.000</td> <td>   -0.052</td> <td>   -0.016</td>\n",
              "</tr>\n",
              "<tr>\n",
              "  <th>White Blood Cells</th>                          <td>    0.0071</td> <td>    0.002</td> <td>    3.926</td> <td> 0.000</td> <td>    0.004</td> <td>    0.011</td>\n",
              "</tr>\n",
              "<tr>\n",
              "  <th>Platelet Count</th>                             <td>   -0.0010</td> <td>    0.000</td> <td>   -6.668</td> <td> 0.000</td> <td>   -0.001</td> <td>   -0.001</td>\n",
              "</tr>\n",
              "<tr>\n",
              "  <th>Creatinine</th>                                 <td>    0.0314</td> <td>    0.010</td> <td>    3.076</td> <td> 0.002</td> <td>    0.011</td> <td>    0.051</td>\n",
              "</tr>\n",
              "<tr>\n",
              "  <th>Sodium</th>                                     <td>   -0.0208</td> <td>    0.005</td> <td>   -4.537</td> <td> 0.000</td> <td>   -0.030</td> <td>   -0.012</td>\n",
              "</tr>\n",
              "<tr>\n",
              "  <th>Potassium</th>                                  <td>   -0.0204</td> <td>    0.037</td> <td>   -0.548</td> <td> 0.584</td> <td>   -0.093</td> <td>    0.053</td>\n",
              "</tr>\n",
              "<tr>\n",
              "  <th>Neutrophils</th>                                <td>    0.0184</td> <td>    0.005</td> <td>    4.056</td> <td> 0.000</td> <td>    0.010</td> <td>    0.027</td>\n",
              "</tr>\n",
              "<tr>\n",
              "  <th>Lymphocytes</th>                                <td>   -0.0901</td> <td>    0.028</td> <td>   -3.178</td> <td> 0.001</td> <td>   -0.146</td> <td>   -0.035</td>\n",
              "</tr>\n",
              "<tr>\n",
              "  <th>Lactate</th>                                    <td>    0.2002</td> <td>    0.049</td> <td>    4.106</td> <td> 0.000</td> <td>    0.105</td> <td>    0.296</td>\n",
              "</tr>\n",
              "<tr>\n",
              "  <th>Glucose</th>                                    <td>   -0.0003</td> <td>    0.000</td> <td>   -0.962</td> <td> 0.336</td> <td>   -0.001</td> <td>    0.000</td>\n",
              "</tr>\n",
              "<tr>\n",
              "  <th>C-Reactive Protein</th>                         <td>    0.0067</td> <td>    0.001</td> <td>    5.005</td> <td> 0.000</td> <td>    0.004</td> <td>    0.009</td>\n",
              "</tr>\n",
              "<tr>\n",
              "  <th>Ferritin</th>                                   <td> 1.913e-05</td> <td> 1.12e-05</td> <td>    1.705</td> <td> 0.088</td> <td>-2.86e-06</td> <td> 4.11e-05</td>\n",
              "</tr>\n",
              "<tr>\n",
              "  <th>temperature</th>                                <td>    0.1265</td> <td>    0.072</td> <td>    1.769</td> <td> 0.077</td> <td>   -0.014</td> <td>    0.267</td>\n",
              "</tr>\n",
              "<tr>\n",
              "  <th>heartrate</th>                                  <td>    0.0058</td> <td>    0.005</td> <td>    1.098</td> <td> 0.272</td> <td>   -0.005</td> <td>    0.016</td>\n",
              "</tr>\n",
              "<tr>\n",
              "  <th>resprate</th>                                   <td>   -0.0890</td> <td>    0.029</td> <td>   -3.093</td> <td> 0.002</td> <td>   -0.145</td> <td>   -0.033</td>\n",
              "</tr>\n",
              "<tr>\n",
              "  <th>o2sat</th>                                      <td>   -0.0347</td> <td>    0.025</td> <td>   -1.402</td> <td> 0.161</td> <td>   -0.083</td> <td>    0.014</td>\n",
              "</tr>\n",
              "<tr>\n",
              "  <th>sbp</th>                                        <td>   -0.0013</td> <td>    0.005</td> <td>   -0.254</td> <td> 0.799</td> <td>   -0.012</td> <td>    0.009</td>\n",
              "</tr>\n",
              "<tr>\n",
              "  <th>dbp</th>                                        <td>   -0.0088</td> <td>    0.008</td> <td>   -1.060</td> <td> 0.289</td> <td>   -0.025</td> <td>    0.008</td>\n",
              "</tr>\n",
              "</table>"
            ]
          },
          "metadata": {},
          "execution_count": 151
        }
      ]
    },
    {
      "cell_type": "markdown",
      "source": [
        "Positive blood culture associated with:\n",
        "\n",
        "\n",
        "\n",
        "1.   Transfers from hospital\n",
        "2.   Being Asian/Hispanic is protective\n",
        "3.   Being male\n",
        "4.   Previous positive cultures\n",
        "5.   Reduced Hb\n",
        "6.   Increased WCC\n",
        "7.   Reduced plt\n",
        "8.   Increased creatinine\n",
        "9.   Reduced Na\n",
        "10.  Increased neutrophils and reduced lymphocytes\n",
        "11.  Increased lactate\n",
        "12.  Increased glucose\n",
        "13.  Increased CRP\n",
        "14.  Reduced resp rate\n",
        "\n"
      ],
      "metadata": {
        "id": "z5bTbrrsJB5K"
      }
    },
    {
      "cell_type": "markdown",
      "source": [
        "Hence uniquely associated with MDRO:\n",
        "\n",
        "1.   Being single\n",
        "2.   Being black is protective\n",
        "3.   Previous MDRO blood cultures\n",
        "4.   Being older"
      ],
      "metadata": {
        "id": "fqdXXys7LNul"
      }
    },
    {
      "cell_type": "markdown",
      "source": [
        "## Model 3: MRDO positive blood culture vs non-MRDO positive blood culture"
      ],
      "metadata": {
        "id": "jhREuXKW_Vp3"
      }
    },
    {
      "cell_type": "code",
      "source": [
        "y_train = (df_admissions['Status simplified'] == 'Positive culture with MDRO').astype(int)"
      ],
      "metadata": {
        "id": "klJO_Q3tLg6V"
      },
      "execution_count": 152,
      "outputs": []
    },
    {
      "cell_type": "code",
      "source": [
        "y_train = y_train[~(df_admissions['Status simplified'] == 'No growth')].reset_index(drop=True)"
      ],
      "metadata": {
        "id": "sHcdNV_KLnsX"
      },
      "execution_count": 153,
      "outputs": []
    },
    {
      "cell_type": "code",
      "source": [
        "X_train = X_train[~(df_admissions['Status simplified'] == 'No growth')].reset_index(drop=True)"
      ],
      "metadata": {
        "id": "opXr8HjvLyZB"
      },
      "execution_count": 154,
      "outputs": []
    },
    {
      "cell_type": "code",
      "source": [
        "log_reg = sm.Logit(y_train, X_train).fit()"
      ],
      "metadata": {
        "colab": {
          "base_uri": "https://localhost:8080/"
        },
        "id": "XBlCnisZLk4v",
        "outputId": "bcccc463-236e-4960-8558-d78840778d1f"
      },
      "execution_count": 155,
      "outputs": [
        {
          "output_type": "stream",
          "name": "stdout",
          "text": [
            "Optimization terminated successfully.\n",
            "         Current function value: 0.345018\n",
            "         Iterations 8\n"
          ]
        }
      ]
    },
    {
      "cell_type": "code",
      "source": [
        "log_reg.summary()"
      ],
      "metadata": {
        "colab": {
          "base_uri": "https://localhost:8080/",
          "height": 999
        },
        "id": "2b5ZZdJkL_Pt",
        "outputId": "b919f9d3-a2cf-40cf-e042-a66ebcbd59af"
      },
      "execution_count": 156,
      "outputs": [
        {
          "output_type": "execute_result",
          "data": {
            "text/plain": [
              "<class 'statsmodels.iolib.summary.Summary'>\n",
              "\"\"\"\n",
              "                           Logit Regression Results                           \n",
              "==============================================================================\n",
              "Dep. Variable:      Status simplified   No. Observations:                 4128\n",
              "Model:                          Logit   Df Residuals:                     4091\n",
              "Method:                           MLE   Df Model:                           36\n",
              "Date:                Sat, 18 Mar 2023   Pseudo R-squ.:                 0.05677\n",
              "Time:                        19:44:26   Log-Likelihood:                -1424.2\n",
              "converged:                       True   LL-Null:                       -1510.0\n",
              "Covariance Type:            nonrobust   LLR p-value:                 1.503e-19\n",
              "==============================================================================================================\n",
              "                                                 coef    std err          z      P>|z|      [0.025      0.975]\n",
              "--------------------------------------------------------------------------------------------------------------\n",
              "admission_location_CLINIC REFERRAL             0.3527      0.232      1.521      0.128      -0.102       0.807\n",
              "admission_location_OTHER                       1.0953      0.204      5.363      0.000       0.695       1.496\n",
              "admission_location_PHYSICIAN REFERRAL          0.1380      0.140      0.985      0.325      -0.137       0.413\n",
              "admission_location_TRANSFER FROM HOSPITAL      0.6602      0.130      5.084      0.000       0.406       0.915\n",
              "admission_location_WALK-IN/SELF REFERRAL      -0.0933      0.296     -0.315      0.753      -0.674       0.488\n",
              "insurance_Medicaid                             0.0305      0.186      0.164      0.870      -0.333       0.394\n",
              "insurance_Medicare                            -0.0401      0.112     -0.358      0.720      -0.260       0.179\n",
              "marital_status_DIVORCED                        0.2938      0.183      1.606      0.108      -0.065       0.652\n",
              "marital_status_SINGLE                          0.3141      0.124      2.535      0.011       0.071       0.557\n",
              "marital_status_WIDOWED                         0.1743      0.169      1.034      0.301      -0.156       0.505\n",
              "race_Asian                                     0.1097      0.293      0.374      0.708      -0.465       0.684\n",
              "race_Black                                    -0.4208      0.168     -2.505      0.012      -0.750      -0.092\n",
              "race_Hispanic                                 -0.2567      0.267     -0.961      0.337      -0.780       0.267\n",
              "race_Other                                    -0.1879      0.189     -0.992      0.321      -0.559       0.183\n",
              "gender_M                                       0.1108      0.104      1.067      0.286      -0.093       0.314\n",
              "Previous events_No growth                      0.6668      0.111      5.986      0.000       0.448       0.885\n",
              "Previous events_Positive culture               0.6546      0.182      3.597      0.000       0.298       1.011\n",
              "Previous events_Positive culture with MDRO     1.4751      0.280      5.265      0.000       0.926       2.024\n",
              "age                                            0.0130      0.004      3.374      0.001       0.005       0.021\n",
              "Hemoglobin                                    -0.1066      0.030     -3.540      0.000      -0.166      -0.048\n",
              "White Blood Cells                              0.0029      0.008      0.361      0.718      -0.013       0.019\n",
              "Platelet Count                                 0.0008      0.000      1.799      0.072   -7.01e-05       0.002\n",
              "Creatinine                                    -0.0436      0.036     -1.205      0.228      -0.115       0.027\n",
              "Sodium                                        -0.0447      0.013     -3.353      0.001      -0.071      -0.019\n",
              "Potassium                                      0.0249      0.113      0.220      0.826      -0.197       0.247\n",
              "Neutrophils                                    0.0027      0.015      0.186      0.853      -0.026       0.032\n",
              "Lymphocytes                                   -0.0449      0.046     -0.976      0.329      -0.135       0.045\n",
              "Lactate                                       -0.1038      0.164     -0.632      0.527      -0.426       0.218\n",
              "Glucose                                       -0.0007      0.001     -0.472      0.637      -0.003       0.002\n",
              "C-Reactive Protein                             0.0015      0.004      0.388      0.698      -0.006       0.009\n",
              "Ferritin                                     5.17e-05   4.05e-05      1.278      0.201   -2.76e-05       0.000\n",
              "temperature                                    0.1223      0.183      0.669      0.503      -0.236       0.480\n",
              "heartrate                                      0.0040      0.012      0.321      0.748      -0.020       0.028\n",
              "resprate                                       0.0350      0.069      0.505      0.614      -0.101       0.171\n",
              "o2sat                                         -0.0059      0.061     -0.096      0.923      -0.126       0.114\n",
              "sbp                                           -0.0085      0.013     -0.637      0.524      -0.035       0.018\n",
              "dbp                                           -0.0051      0.021     -0.240      0.811      -0.047       0.037\n",
              "==============================================================================================================\n",
              "\"\"\""
            ],
            "text/html": [
              "<table class=\"simpletable\">\n",
              "<caption>Logit Regression Results</caption>\n",
              "<tr>\n",
              "  <th>Dep. Variable:</th>   <td>Status simplified</td> <th>  No. Observations:  </th>  <td>  4128</td>  \n",
              "</tr>\n",
              "<tr>\n",
              "  <th>Model:</th>                 <td>Logit</td>       <th>  Df Residuals:      </th>  <td>  4091</td>  \n",
              "</tr>\n",
              "<tr>\n",
              "  <th>Method:</th>                 <td>MLE</td>        <th>  Df Model:          </th>  <td>    36</td>  \n",
              "</tr>\n",
              "<tr>\n",
              "  <th>Date:</th>            <td>Sat, 18 Mar 2023</td>  <th>  Pseudo R-squ.:     </th>  <td>0.05677</td> \n",
              "</tr>\n",
              "<tr>\n",
              "  <th>Time:</th>                <td>19:44:26</td>      <th>  Log-Likelihood:    </th> <td> -1424.2</td> \n",
              "</tr>\n",
              "<tr>\n",
              "  <th>converged:</th>             <td>True</td>        <th>  LL-Null:           </th> <td> -1510.0</td> \n",
              "</tr>\n",
              "<tr>\n",
              "  <th>Covariance Type:</th>     <td>nonrobust</td>     <th>  LLR p-value:       </th> <td>1.503e-19</td>\n",
              "</tr>\n",
              "</table>\n",
              "<table class=\"simpletable\">\n",
              "<tr>\n",
              "                       <td></td>                         <th>coef</th>     <th>std err</th>      <th>z</th>      <th>P>|z|</th>  <th>[0.025</th>    <th>0.975]</th>  \n",
              "</tr>\n",
              "<tr>\n",
              "  <th>admission_location_CLINIC REFERRAL</th>         <td>    0.3527</td> <td>    0.232</td> <td>    1.521</td> <td> 0.128</td> <td>   -0.102</td> <td>    0.807</td>\n",
              "</tr>\n",
              "<tr>\n",
              "  <th>admission_location_OTHER</th>                   <td>    1.0953</td> <td>    0.204</td> <td>    5.363</td> <td> 0.000</td> <td>    0.695</td> <td>    1.496</td>\n",
              "</tr>\n",
              "<tr>\n",
              "  <th>admission_location_PHYSICIAN REFERRAL</th>      <td>    0.1380</td> <td>    0.140</td> <td>    0.985</td> <td> 0.325</td> <td>   -0.137</td> <td>    0.413</td>\n",
              "</tr>\n",
              "<tr>\n",
              "  <th>admission_location_TRANSFER FROM HOSPITAL</th>  <td>    0.6602</td> <td>    0.130</td> <td>    5.084</td> <td> 0.000</td> <td>    0.406</td> <td>    0.915</td>\n",
              "</tr>\n",
              "<tr>\n",
              "  <th>admission_location_WALK-IN/SELF REFERRAL</th>   <td>   -0.0933</td> <td>    0.296</td> <td>   -0.315</td> <td> 0.753</td> <td>   -0.674</td> <td>    0.488</td>\n",
              "</tr>\n",
              "<tr>\n",
              "  <th>insurance_Medicaid</th>                         <td>    0.0305</td> <td>    0.186</td> <td>    0.164</td> <td> 0.870</td> <td>   -0.333</td> <td>    0.394</td>\n",
              "</tr>\n",
              "<tr>\n",
              "  <th>insurance_Medicare</th>                         <td>   -0.0401</td> <td>    0.112</td> <td>   -0.358</td> <td> 0.720</td> <td>   -0.260</td> <td>    0.179</td>\n",
              "</tr>\n",
              "<tr>\n",
              "  <th>marital_status_DIVORCED</th>                    <td>    0.2938</td> <td>    0.183</td> <td>    1.606</td> <td> 0.108</td> <td>   -0.065</td> <td>    0.652</td>\n",
              "</tr>\n",
              "<tr>\n",
              "  <th>marital_status_SINGLE</th>                      <td>    0.3141</td> <td>    0.124</td> <td>    2.535</td> <td> 0.011</td> <td>    0.071</td> <td>    0.557</td>\n",
              "</tr>\n",
              "<tr>\n",
              "  <th>marital_status_WIDOWED</th>                     <td>    0.1743</td> <td>    0.169</td> <td>    1.034</td> <td> 0.301</td> <td>   -0.156</td> <td>    0.505</td>\n",
              "</tr>\n",
              "<tr>\n",
              "  <th>race_Asian</th>                                 <td>    0.1097</td> <td>    0.293</td> <td>    0.374</td> <td> 0.708</td> <td>   -0.465</td> <td>    0.684</td>\n",
              "</tr>\n",
              "<tr>\n",
              "  <th>race_Black</th>                                 <td>   -0.4208</td> <td>    0.168</td> <td>   -2.505</td> <td> 0.012</td> <td>   -0.750</td> <td>   -0.092</td>\n",
              "</tr>\n",
              "<tr>\n",
              "  <th>race_Hispanic</th>                              <td>   -0.2567</td> <td>    0.267</td> <td>   -0.961</td> <td> 0.337</td> <td>   -0.780</td> <td>    0.267</td>\n",
              "</tr>\n",
              "<tr>\n",
              "  <th>race_Other</th>                                 <td>   -0.1879</td> <td>    0.189</td> <td>   -0.992</td> <td> 0.321</td> <td>   -0.559</td> <td>    0.183</td>\n",
              "</tr>\n",
              "<tr>\n",
              "  <th>gender_M</th>                                   <td>    0.1108</td> <td>    0.104</td> <td>    1.067</td> <td> 0.286</td> <td>   -0.093</td> <td>    0.314</td>\n",
              "</tr>\n",
              "<tr>\n",
              "  <th>Previous events_No growth</th>                  <td>    0.6668</td> <td>    0.111</td> <td>    5.986</td> <td> 0.000</td> <td>    0.448</td> <td>    0.885</td>\n",
              "</tr>\n",
              "<tr>\n",
              "  <th>Previous events_Positive culture</th>           <td>    0.6546</td> <td>    0.182</td> <td>    3.597</td> <td> 0.000</td> <td>    0.298</td> <td>    1.011</td>\n",
              "</tr>\n",
              "<tr>\n",
              "  <th>Previous events_Positive culture with MDRO</th> <td>    1.4751</td> <td>    0.280</td> <td>    5.265</td> <td> 0.000</td> <td>    0.926</td> <td>    2.024</td>\n",
              "</tr>\n",
              "<tr>\n",
              "  <th>age</th>                                        <td>    0.0130</td> <td>    0.004</td> <td>    3.374</td> <td> 0.001</td> <td>    0.005</td> <td>    0.021</td>\n",
              "</tr>\n",
              "<tr>\n",
              "  <th>Hemoglobin</th>                                 <td>   -0.1066</td> <td>    0.030</td> <td>   -3.540</td> <td> 0.000</td> <td>   -0.166</td> <td>   -0.048</td>\n",
              "</tr>\n",
              "<tr>\n",
              "  <th>White Blood Cells</th>                          <td>    0.0029</td> <td>    0.008</td> <td>    0.361</td> <td> 0.718</td> <td>   -0.013</td> <td>    0.019</td>\n",
              "</tr>\n",
              "<tr>\n",
              "  <th>Platelet Count</th>                             <td>    0.0008</td> <td>    0.000</td> <td>    1.799</td> <td> 0.072</td> <td>-7.01e-05</td> <td>    0.002</td>\n",
              "</tr>\n",
              "<tr>\n",
              "  <th>Creatinine</th>                                 <td>   -0.0436</td> <td>    0.036</td> <td>   -1.205</td> <td> 0.228</td> <td>   -0.115</td> <td>    0.027</td>\n",
              "</tr>\n",
              "<tr>\n",
              "  <th>Sodium</th>                                     <td>   -0.0447</td> <td>    0.013</td> <td>   -3.353</td> <td> 0.001</td> <td>   -0.071</td> <td>   -0.019</td>\n",
              "</tr>\n",
              "<tr>\n",
              "  <th>Potassium</th>                                  <td>    0.0249</td> <td>    0.113</td> <td>    0.220</td> <td> 0.826</td> <td>   -0.197</td> <td>    0.247</td>\n",
              "</tr>\n",
              "<tr>\n",
              "  <th>Neutrophils</th>                                <td>    0.0027</td> <td>    0.015</td> <td>    0.186</td> <td> 0.853</td> <td>   -0.026</td> <td>    0.032</td>\n",
              "</tr>\n",
              "<tr>\n",
              "  <th>Lymphocytes</th>                                <td>   -0.0449</td> <td>    0.046</td> <td>   -0.976</td> <td> 0.329</td> <td>   -0.135</td> <td>    0.045</td>\n",
              "</tr>\n",
              "<tr>\n",
              "  <th>Lactate</th>                                    <td>   -0.1038</td> <td>    0.164</td> <td>   -0.632</td> <td> 0.527</td> <td>   -0.426</td> <td>    0.218</td>\n",
              "</tr>\n",
              "<tr>\n",
              "  <th>Glucose</th>                                    <td>   -0.0007</td> <td>    0.001</td> <td>   -0.472</td> <td> 0.637</td> <td>   -0.003</td> <td>    0.002</td>\n",
              "</tr>\n",
              "<tr>\n",
              "  <th>C-Reactive Protein</th>                         <td>    0.0015</td> <td>    0.004</td> <td>    0.388</td> <td> 0.698</td> <td>   -0.006</td> <td>    0.009</td>\n",
              "</tr>\n",
              "<tr>\n",
              "  <th>Ferritin</th>                                   <td>  5.17e-05</td> <td> 4.05e-05</td> <td>    1.278</td> <td> 0.201</td> <td>-2.76e-05</td> <td>    0.000</td>\n",
              "</tr>\n",
              "<tr>\n",
              "  <th>temperature</th>                                <td>    0.1223</td> <td>    0.183</td> <td>    0.669</td> <td> 0.503</td> <td>   -0.236</td> <td>    0.480</td>\n",
              "</tr>\n",
              "<tr>\n",
              "  <th>heartrate</th>                                  <td>    0.0040</td> <td>    0.012</td> <td>    0.321</td> <td> 0.748</td> <td>   -0.020</td> <td>    0.028</td>\n",
              "</tr>\n",
              "<tr>\n",
              "  <th>resprate</th>                                   <td>    0.0350</td> <td>    0.069</td> <td>    0.505</td> <td> 0.614</td> <td>   -0.101</td> <td>    0.171</td>\n",
              "</tr>\n",
              "<tr>\n",
              "  <th>o2sat</th>                                      <td>   -0.0059</td> <td>    0.061</td> <td>   -0.096</td> <td> 0.923</td> <td>   -0.126</td> <td>    0.114</td>\n",
              "</tr>\n",
              "<tr>\n",
              "  <th>sbp</th>                                        <td>   -0.0085</td> <td>    0.013</td> <td>   -0.637</td> <td> 0.524</td> <td>   -0.035</td> <td>    0.018</td>\n",
              "</tr>\n",
              "<tr>\n",
              "  <th>dbp</th>                                        <td>   -0.0051</td> <td>    0.021</td> <td>   -0.240</td> <td> 0.811</td> <td>   -0.047</td> <td>    0.037</td>\n",
              "</tr>\n",
              "</table>"
            ]
          },
          "metadata": {},
          "execution_count": 156
        }
      ]
    },
    {
      "cell_type": "markdown",
      "source": [
        "Associations specifically with MDRO:\n",
        "\n",
        "1.   Admitted from hospital/other\n",
        "2.   Being single\n",
        "3.   Being black is protective\n",
        "4.   Previous blood cultures (and then increasingly) previous positive blood cultures (and then increasingly) previous MDRO positive blood cultures\n",
        "5.   Being older\n",
        "6.   Lower Hb\n",
        "7.   Lower Na"
      ],
      "metadata": {
        "id": "zh2-ii7jMDoL"
      }
    },
    {
      "cell_type": "markdown",
      "source": [
        "# Predictive models"
      ],
      "metadata": {
        "id": "-IkwKS9JM2sj"
      }
    },
    {
      "cell_type": "markdown",
      "source": [
        "Aim will be to maximise AUC for prediction of MDRO"
      ],
      "metadata": {
        "id": "Eyzr96BbM87N"
      }
    },
    {
      "cell_type": "markdown",
      "source": [
        "## Split test/train"
      ],
      "metadata": {
        "id": "FquhD2BAN1O4"
      }
    },
    {
      "cell_type": "markdown",
      "source": [
        "Use GroupShuffleSplit to avoid splitting patients between train and test set!"
      ],
      "metadata": {
        "id": "cv8FyanKQTuz"
      }
    },
    {
      "cell_type": "code",
      "source": [
        "gss = GroupShuffleSplit(n_splits=1,random_state=42,train_size=0.8)\n",
        "train_idx, test_idx = next(gss.split(df_admissions,groups=df_admissions['subject_id']))"
      ],
      "metadata": {
        "id": "BcVZY1t8Pa5Q"
      },
      "execution_count": 157,
      "outputs": []
    },
    {
      "cell_type": "code",
      "source": [
        "df_train = df_admissions.iloc[train_idx]"
      ],
      "metadata": {
        "id": "GWwei5ErN0Yo"
      },
      "execution_count": 158,
      "outputs": []
    },
    {
      "cell_type": "code",
      "source": [
        "df_test = df_admissions.iloc[test_idx]"
      ],
      "metadata": {
        "id": "wk-6KM4IQP4Q"
      },
      "execution_count": 159,
      "outputs": []
    },
    {
      "cell_type": "markdown",
      "source": [
        "## Preprocessing for ML"
      ],
      "metadata": {
        "id": "LzAdu1ErQtHw"
      }
    },
    {
      "cell_type": "code",
      "source": [
        "df_train.columns"
      ],
      "metadata": {
        "colab": {
          "base_uri": "https://localhost:8080/"
        },
        "id": "wZSFLO43QvSd",
        "outputId": "5173d9fb-9dfc-433d-b2df-67718806a154"
      },
      "execution_count": 160,
      "outputs": [
        {
          "output_type": "execute_result",
          "data": {
            "text/plain": [
              "Index(['hadm_id', 'Status', 'Status simplified', 'subject_id',\n",
              "       'admission_location', 'insurance', 'marital_status', 'race', 'gender',\n",
              "       'age', 'Culture Time', 'Hemoglobin', 'White Blood Cells',\n",
              "       'Platelet Count', 'Creatinine', 'Sodium', 'Potassium', 'Neutrophils',\n",
              "       'Lymphocytes', 'Lactate', 'Glucose', 'C-Reactive Protein', 'Ferritin',\n",
              "       'temperature', 'heartrate', 'resprate', 'o2sat', 'sbp', 'dbp',\n",
              "       'Previous events'],\n",
              "      dtype='object')"
            ]
          },
          "metadata": {},
          "execution_count": 160
        }
      ]
    },
    {
      "cell_type": "code",
      "source": [
        "enc = OneHotEncoder(handle_unknown='ignore',sparse_output=False)"
      ],
      "metadata": {
        "id": "lUqbZqyfR7_v"
      },
      "execution_count": 161,
      "outputs": []
    },
    {
      "cell_type": "code",
      "source": [
        "categorical_columns = enc.fit_transform(df_train[['admission_location', 'insurance', 'marital_status', 'race', 'gender','Previous events']])"
      ],
      "metadata": {
        "id": "KabeWNSuSJ70"
      },
      "execution_count": 162,
      "outputs": []
    },
    {
      "cell_type": "code",
      "source": [
        "scaler = StandardScaler()"
      ],
      "metadata": {
        "id": "9GVnz2z2TKTH"
      },
      "execution_count": 163,
      "outputs": []
    },
    {
      "cell_type": "code",
      "source": [
        "numeric_columns = scaler.fit_transform(df_train[['Hemoglobin', 'White Blood Cells',\n",
        "       'Platelet Count', 'Creatinine', 'Sodium', 'Potassium', 'Neutrophils',\n",
        "       'Lymphocytes', 'Lactate', 'Glucose', 'C-Reactive Protein', 'Ferritin',\n",
        "       'temperature', 'heartrate', 'resprate', 'o2sat', 'sbp', 'dbp']])"
      ],
      "metadata": {
        "id": "1mBHV05-TYhm"
      },
      "execution_count": 164,
      "outputs": []
    },
    {
      "cell_type": "code",
      "source": [
        "imputer = SimpleImputer()"
      ],
      "metadata": {
        "id": "Zz8zlPu9T4Yl"
      },
      "execution_count": 165,
      "outputs": []
    },
    {
      "cell_type": "code",
      "source": [
        "numeric_columns = imputer.fit_transform(numeric_columns)"
      ],
      "metadata": {
        "id": "SmhBpMspS-Jp"
      },
      "execution_count": 166,
      "outputs": []
    },
    {
      "cell_type": "code",
      "source": [
        "X_train_processed = np.concatenate([numeric_columns,categorical_columns],axis=1)"
      ],
      "metadata": {
        "id": "YoOzZnqnUJKs"
      },
      "execution_count": 167,
      "outputs": []
    },
    {
      "cell_type": "code",
      "source": [
        "y_train = (df_train['Status simplified'] == 'Positive culture with MDRO').astype(int)"
      ],
      "metadata": {
        "id": "qQgiG9DXWXFp"
      },
      "execution_count": 168,
      "outputs": []
    },
    {
      "cell_type": "markdown",
      "source": [
        "And do the same to the test set..."
      ],
      "metadata": {
        "id": "9prNQ9fgUfHU"
      }
    },
    {
      "cell_type": "code",
      "source": [
        "categorical_columns_test = enc.transform(df_test[['admission_location', 'insurance', 'marital_status', 'race', 'gender','Previous events']])\n",
        "numeric_columns_test = scaler.transform(df_test[['Hemoglobin', 'White Blood Cells',\n",
        "       'Platelet Count', 'Creatinine', 'Sodium', 'Potassium', 'Neutrophils',\n",
        "       'Lymphocytes', 'Lactate', 'Glucose', 'C-Reactive Protein', 'Ferritin',\n",
        "       'temperature', 'heartrate', 'resprate', 'o2sat', 'sbp', 'dbp']])\n",
        "numeric_columns_test = imputer.fit_transform(numeric_columns_test)\n",
        "X_test_processed = np.concatenate([numeric_columns_test,categorical_columns_test],axis=1)"
      ],
      "metadata": {
        "id": "0kjAOmMdUhP5"
      },
      "execution_count": 169,
      "outputs": []
    },
    {
      "cell_type": "code",
      "source": [
        "y_test = (df_test['Status simplified'] == 'Positive culture with MDRO').astype(int)"
      ],
      "metadata": {
        "id": "wa3_njCqa8jX"
      },
      "execution_count": 170,
      "outputs": []
    },
    {
      "cell_type": "code",
      "source": [
        "X_train_processed.shape"
      ],
      "metadata": {
        "colab": {
          "base_uri": "https://localhost:8080/"
        },
        "id": "e0nZ5hYISgik",
        "outputId": "21311f47-c9b8-41c8-e69d-3a8d6a9d2711"
      },
      "execution_count": 171,
      "outputs": [
        {
          "output_type": "execute_result",
          "data": {
            "text/plain": [
              "(56519, 43)"
            ]
          },
          "metadata": {},
          "execution_count": 171
        }
      ]
    },
    {
      "cell_type": "markdown",
      "source": [
        "## Trialling models"
      ],
      "metadata": {
        "id": "wTzQCA4sU8Kq"
      }
    },
    {
      "cell_type": "code",
      "source": [
        "def evaluate_model(model):\n",
        "  print('Fitting model...')\n",
        "  model.fit(X_train_processed,y_train)\n",
        "  print('Evaluating model...')\n",
        "  y_train_pred = model.predict(X_train_processed)\n",
        "  y_train_pred_proba = model.predict_proba(X_train_processed)\n",
        "  y_test_pred = model.predict(X_test_processed)\n",
        "  y_test_pred_proba = model.predict_proba(X_test_processed)\n",
        "\n",
        "  print('\\nTrain metrics:')\n",
        "  print('ROC AUC:',roc_auc_score(y_train,y_train_pred_proba[:,1]))\n",
        "  print('Accuracy:',accuracy_score(y_train,y_train_pred))\n",
        "  print('Sensitivity/Recall:',recall_score(y_train,y_train_pred))\n",
        "  print('Specificity:',specificity_score(y_train,y_train_pred))\n",
        "\n",
        "  print('\\nTest metrics:')\n",
        "  print('ROC AUC:',roc_auc_score(y_test,y_test_pred_proba[:,1]))\n",
        "  print('Accuracy:',accuracy_score(y_test,y_test_pred))\n",
        "  print('Sensitivity/Recall:',recall_score(y_test,y_test_pred))\n",
        "  print('Specificity:',specificity_score(y_test,y_test_pred))\n",
        "\n",
        "  fpr, tpr, _ = roc_curve(y_test,  y_test_pred_proba[:,1])\n",
        "  plt.plot(fpr,tpr)\n",
        "  plt.plot(fpr,fpr)\n",
        "  plt.show()"
      ],
      "metadata": {
        "id": "SSPLngr5ZDt0"
      },
      "execution_count": 280,
      "outputs": []
    },
    {
      "cell_type": "markdown",
      "source": [
        "Log reg"
      ],
      "metadata": {
        "id": "zwm3sXaDVxIW"
      }
    },
    {
      "cell_type": "code",
      "source": [
        "log_reg = LogisticRegression(random_state=42, class_weight='balanced')"
      ],
      "metadata": {
        "id": "etZcNDqVU-EM"
      },
      "execution_count": 237,
      "outputs": []
    },
    {
      "cell_type": "code",
      "source": [
        "evaluate_model(log_reg)"
      ],
      "metadata": {
        "colab": {
          "base_uri": "https://localhost:8080/",
          "height": 508
        },
        "id": "zsFcPr19aKyW",
        "outputId": "2b886f0c-92dc-43f5-82de-be6168d76cef"
      },
      "execution_count": 281,
      "outputs": [
        {
          "output_type": "stream",
          "name": "stdout",
          "text": [
            "Fitting model...\n",
            "Evaluating model...\n",
            "\n",
            "Train metrics:\n",
            "ROC AUC: 0.7040398353199327\n",
            "Accuracy: 0.6623259434880305\n",
            "Sensitivity/Recall: 0.628140703517588\n",
            "Specificity: 0.6625683790381497\n",
            "\n",
            "Test metrics:\n",
            "ROC AUC: 0.6876713350058339\n",
            "Accuracy: 0.7032503165892782\n",
            "Sensitivity/Recall: 0.5368421052631579\n",
            "Specificity: 0.7043699978752036\n"
          ]
        },
        {
          "output_type": "display_data",
          "data": {
            "text/plain": [
              "<Figure size 432x288 with 1 Axes>"
            ],
            "image/png": "[encoded data removed]"
          },
          "metadata": {
            "needs_background": "light"
          }
        }
      ]
    },
    {
      "cell_type": "markdown",
      "source": [
        "Random forests"
      ],
      "metadata": {
        "id": "ruQUmY-dbSJa"
      }
    },
    {
      "cell_type": "code",
      "source": [
        "forest_clf = RandomForestClassifier(random_state = 42, class_weight='balanced', max_depth=3)"
      ],
      "metadata": {
        "id": "53t1YSHwbVTK"
      },
      "execution_count": 239,
      "outputs": []
    },
    {
      "cell_type": "code",
      "source": [
        "evaluate_model(forest_clf)"
      ],
      "metadata": {
        "colab": {
          "base_uri": "https://localhost:8080/",
          "height": 508
        },
        "id": "oaXNY74Zbg7f",
        "outputId": "f23c889f-7d55-4e87-d8da-2e7f7767ba8d"
      },
      "execution_count": 282,
      "outputs": [
        {
          "output_type": "stream",
          "name": "stdout",
          "text": [
            "Fitting model...\n",
            "Evaluating model...\n",
            "\n",
            "Train metrics:\n",
            "ROC AUC: 0.7407697868183061\n",
            "Accuracy: 0.7145738601178365\n",
            "Sensitivity/Recall: 0.6180904522613065\n",
            "Specificity: 0.7152581030273872\n",
            "\n",
            "Test metrics:\n",
            "ROC AUC: 0.7033970647988339\n",
            "Accuracy: 0.764176164345012\n",
            "Sensitivity/Recall: 0.5157894736842106\n",
            "Specificity: 0.7658474396203697\n"
          ]
        },
        {
          "output_type": "display_data",
          "data": {
            "text/plain": [
              "<Figure size 432x288 with 1 Axes>"
            ],
            "image/png": "[encoded data removed]"
          },
          "metadata": {
            "needs_background": "light"
          }
        }
      ]
    },
    {
      "cell_type": "markdown",
      "source": [
        "XGBoost"
      ],
      "metadata": {
        "id": "1ZFpRKfPchWT"
      }
    },
    {
      "cell_type": "code",
      "source": [
        "xgb_clf = XGBClassifier(n_estimators=3, max_depth=3, learning_rate=1, objective='binary:logistic',scale_pos_weight=141)"
      ],
      "metadata": {
        "id": "Xhr7h2Qxcki0"
      },
      "execution_count": 241,
      "outputs": []
    },
    {
      "cell_type": "code",
      "source": [
        "evaluate_model(xgb_clf)"
      ],
      "metadata": {
        "colab": {
          "base_uri": "https://localhost:8080/",
          "height": 508
        },
        "id": "k9Zp7UpJc-tr",
        "outputId": "40b3f552-2581-42aa-d0ee-3be2ff5929ad"
      },
      "execution_count": 283,
      "outputs": [
        {
          "output_type": "stream",
          "name": "stdout",
          "text": [
            "Fitting model...\n",
            "Evaluating model...\n",
            "\n",
            "Train metrics:\n",
            "ROC AUC: 0.723853112965981\n",
            "Accuracy: 0.6033369309435765\n",
            "Sensitivity/Recall: 0.7311557788944724\n",
            "Specificity: 0.6024304627501292\n",
            "\n",
            "Test metrics:\n",
            "ROC AUC: 0.6936401489594091\n",
            "Accuracy: 0.5958913747009991\n",
            "Sensitivity/Recall: 0.7368421052631579\n",
            "Specificity: 0.5949429846306395\n"
          ]
        },
        {
          "output_type": "display_data",
          "data": {
            "text/plain": [
              "<Figure size 432x288 with 1 Axes>"
            ],
            "image/png": "[encoded data removed]"
          },
          "metadata": {
            "needs_background": "light"
          }
        }
      ]
    },
    {
      "cell_type": "markdown",
      "source": [
        "# Post-hoc analyses"
      ],
      "metadata": {
        "id": "rnD3ElYycq4J"
      }
    },
    {
      "cell_type": "markdown",
      "source": [
        "Attempting to explain why being black is protective -- do they get less blood cultures?"
      ],
      "metadata": {
        "id": "KI0HVgG4cswE"
      }
    },
    {
      "cell_type": "code",
      "source": [
        "race_dict = {subject_id:race for subject_id,race in zip(admissions['subject_id'],admissions['race'])}"
      ],
      "metadata": {
        "id": "Uj03XtKOc5BY"
      },
      "execution_count": 247,
      "outputs": []
    },
    {
      "cell_type": "code",
      "source": [
        "df_race_post_hoc = pd.DataFrame()\n",
        "df_race_post_hoc['subject_id'] = df_blood_cultures['subject_id'].value_counts().keys()\n",
        "df_race_post_hoc['blood culture count'] = df_blood_cultures['subject_id'].value_counts().values\n",
        "df_race_post_hoc['race'] = df_race_post_hoc['subject_id'].apply(lambda x: race_dict[x])"
      ],
      "metadata": {
        "id": "MJ3EEYGfdgT7"
      },
      "execution_count": 248,
      "outputs": []
    },
    {
      "cell_type": "code",
      "source": [
        "df_race_post_hoc['race'] = df_race_post_hoc['race'].apply(classify_ethnicity)"
      ],
      "metadata": {
        "id": "xM_Ogvb7eTcy"
      },
      "execution_count": 252,
      "outputs": []
    },
    {
      "cell_type": "code",
      "source": [
        "np.mean(df_race_post_hoc[df_race_post_hoc['race'] != 'Black']['blood culture count'].values)"
      ],
      "metadata": {
        "colab": {
          "base_uri": "https://localhost:8080/"
        },
        "id": "n0MILF4gfcRw",
        "outputId": "1ced34fb-22c8-460f-d384-02fb2bf24212"
      },
      "execution_count": 274,
      "outputs": [
        {
          "output_type": "execute_result",
          "data": {
            "text/plain": [
              "7.014690372156094"
            ]
          },
          "metadata": {},
          "execution_count": 274
        }
      ]
    },
    {
      "cell_type": "code",
      "source": [
        "np.mean(df_race_post_hoc[df_race_post_hoc['race'] == 'Black']['blood culture count'].values)"
      ],
      "metadata": {
        "colab": {
          "base_uri": "https://localhost:8080/"
        },
        "id": "qNVZ7TBEfibu",
        "outputId": "0ec55e30-14c8-4c49-f30d-8bf6f4ff3c44"
      },
      "execution_count": 275,
      "outputs": [
        {
          "output_type": "execute_result",
          "data": {
            "text/plain": [
              "7.862012094557449"
            ]
          },
          "metadata": {},
          "execution_count": 275
        }
      ]
    },
    {
      "cell_type": "markdown",
      "source": [
        "Black people get more blood cultures on average."
      ],
      "metadata": {
        "id": "Qa4GZ1Vrf3wY"
      }
    },
    {
      "cell_type": "code",
      "source": [
        "df_admissions['race'].value_counts(normalize=True)"
      ],
      "metadata": {
        "colab": {
          "base_uri": "https://localhost:8080/"
        },
        "id": "jD4VJZ-hf6kC",
        "outputId": "d93ecd8b-294d-4412-bf5a-9da50eb2de79"
      },
      "execution_count": 278,
      "outputs": [
        {
          "output_type": "execute_result",
          "data": {
            "text/plain": [
              "White       0.686893\n",
              "Black       0.138888\n",
              "Other       0.091852\n",
              "Hispanic    0.049482\n",
              "Asian       0.032884\n",
              "Name: race, dtype: float64"
            ]
          },
          "metadata": {},
          "execution_count": 278
        }
      ]
    }
  ]
}